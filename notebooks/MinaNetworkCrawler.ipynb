{
 "cells": [
  {
   "cell_type": "markdown",
   "id": "animal-drill",
   "metadata": {},
   "source": [
    "# Mina Network Crawler\n",
    "\n",
    "The `mina advanced node-status` command collects the status output of a remote daemon and the output can be used to scrape the network for peers. \n",
    "\n",
    "First, the spider is seeded with the peers from the root daemon we are spidering from. Then, it preforms a breadth-first search, attempting to get a successful telemetry output from each peer. \n",
    "\n",
    "Interesting Metrics to Think About: \n",
    "- geographical distribution of online block producers ✅\n",
    "- online stake by geographic region \n",
    "- online stake by ip org \n",
    "- peers running with the same libp2p key \n",
    "- peers running with the same block producer key \n",
    "\n",
    "Spider algorithm: \n",
    "- Query status for peers known by the root spider node, output list of multiaddrs to feed the spider\n",
    "- For each peer: \n",
    "    - scrape the current peer's telemetry  \n",
    "    - save the peer we are currently examining\n",
    "    - recursively scrape remote peer's peers up to `max_depth`\n",
    "    - combine new peer lists and already observed peer lists (dedup!)\n",
    "    - `return` the combined lists\n",
    "    \n",
    "Telemetry Keys: \n",
    "\n",
    "`dict_keys(['node_ip_addr', 'node_peer_id', 'sync_status', 'peers', 'block_producers', 'protocol_state_hash', 'ban_statuses', 'k_block_hashes_and_timestamps', 'git_commit', 'uptime_minutes'])`\n",
    "\n",
    "Peer Keys:\n",
    "`dict_keys(['host', 'peer_id', 'libp2p_port'])`\n",
    "\n",
    "Known Issues: \n",
    "\n",
    "node-status RPC times out due to short timeout: `Error in telemetry call: {'error': {'commit_id': '09758671a488c6bd4c8f207524d3c962fdcd5d75', 'string': 'RPC #53414 failed: \"context deadline exceeded\"'}`\n"
   ]
  },
  {
   "cell_type": "code",
   "execution_count": 1,
   "id": "starting-stewart",
   "metadata": {},
   "outputs": [],
   "source": [
    "import itertools\n",
    "import subprocess \n",
    "import json \n",
    "from datetime import datetime \n",
    "\n",
    "def get_root_telemetry(pod_name=\"sushi-seed-847fbbcd7c-gxhhf\"):\n",
    "    command = f\"kubectl exec {pod_name} -- mina advanced node-status --daemon-peers\"\n",
    "    print(f\"Running command: {command}\")\n",
    "    get_telemetry = subprocess.run(command.split(), stdout=subprocess.PIPE, text=True)\n",
    "    #print(json.loads(get_telemetry.stdout.split(\"\\n\")[1:][0]))\n",
    "    # skip non-json first line of output\n",
    "    if \"NotFound\" in get_telemetry.stdout:\n",
    "        raise Exception(\"Error accessing pod, check the name of the pod or cluster!\")\n",
    "    stdout_raw = get_telemetry.stdout.split(\"\\n\")[1:]\n",
    "    payload = []\n",
    "    for entry in stdout_raw:\n",
    "        try:\n",
    "            payload.append(json.loads(entry))\n",
    "        except json.JSONDecodeError:\n",
    "            print(entry)\n",
    "            continue\n",
    "    print(f\"Length of telemetry payload: {len(payload)}\")\n",
    "    return payload\n",
    "\n",
    "def get_telemetry(multiaddr, pod_name=\"sushi-seed-847fbbcd7c-gxhhf\"):\n",
    "    command = f\"kubectl exec {pod_name} -- mina advanced node-status --show-errors --peers {multiaddr}\"\n",
    "    print(f\"Running command: {command}\")\n",
    "    get_telemetry = subprocess.run(command.split(), stdout=subprocess.PIPE, text=True,)\n",
    "    # skip non-json first line of output\n",
    "    try:\n",
    "        stdout_raw = get_telemetry.stdout.split(\"\\n\")\n",
    "    except IndexError:\n",
    "        # We didnt get a response\n",
    "        print(f\"Error, didnt't get a parsable response.\")\n",
    "        print(f\"stdout: {get_telemetry.stdout}, stderr: {get_telemetry.stderr}\")\n",
    "        print(get_telemetry)\n",
    "        return None\n",
    "    try:\n",
    "        telemetry_response = json.loads(get_telemetry.stdout)\n",
    "        \n",
    "        if \"error\" in telemetry_response:\n",
    "            print(f\"Error in telemetry call: {telemetry_response}\")\n",
    "            return telemetry_response\n",
    "        else:\n",
    "            return telemetry_response\n",
    "    except json.JSONDecodeError:\n",
    "        print(f\"Error, didnt't get a parsable response. Instead got: {stdout_raw}\")\n",
    "        print(f\"stdout: {get_telemetry.stdout}, stderr: {get_telemetry.stderr}\")\n",
    "        return None"
   ]
  },
  {
   "cell_type": "code",
   "execution_count": 23,
   "id": "precious-messaging",
   "metadata": {},
   "outputs": [
    {
     "name": "stdout",
     "output_type": "stream",
     "text": [
      "Running command: kubectl exec sushi-seed-847fbbcd7c-gxhhf -- mina advanced node-status --daemon-peers\n",
      "\n",
      "Length of telemetry payload: 4\n",
      "244\n",
      "213\n"
     ]
    }
   ],
   "source": [
    "root_telemetry = get_root_telemetry(pod_name=\"sushi-seed-847fbbcd7c-gxhhf\")\n",
    "\n",
    "peers = list(map(lambda t: t[\"peers\"], root_telemetry))\n",
    "flat_list = list(itertools.chain(*peers))\n",
    "unique_peers = [dict(t) for t in {tuple(d.items()) for d in flat_list}]\n",
    "multiaddrs = list(map(lambda peer: f\"/ip4/{peer['host']}/tcp/{peer['libp2p_port']}/p2p/{peer['peer_id']}\", unique_peers))\n",
    "\n",
    "print(len(flat_list))\n",
    "print(len(set(multiaddrs)))"
   ]
  },
  {
   "cell_type": "code",
   "execution_count": 3,
   "id": "close-chester",
   "metadata": {},
   "outputs": [
    {
     "name": "stdout",
     "output_type": "stream",
     "text": [
      "Running command: kubectl exec sushi-seed-847fbbcd7c-gxhhf -- mina advanced node-status --show-errors --peers /ip4/185.67.3.103/tcp/8302/p2p/12D3KooWPMY9h2wN6uxckoRNyP9pNjkMg1ANBKLYYwK36qdZvXNR\n",
      "Error in telemetry call: {'error': {'commit_id': '09758671a488c6bd4c8f207524d3c962fdcd5d75', 'string': 'RPC #58441 failed: \"context deadline exceeded\"'}}\n",
      "Running command: kubectl exec sushi-seed-847fbbcd7c-gxhhf -- mina advanced node-status --show-errors --peers /ip4/62.171.133.104/tcp/8302/p2p/12D3KooWFBHKuquNwDVJZ76bxg1niDQH6fv787Qmpy9TLAAKUpHX\n",
      "Error in telemetry call: {'error': {'commit_id': '09758671a488c6bd4c8f207524d3c962fdcd5d75', 'string': 'RPC #58442 failed: \"context deadline exceeded\"'}}\n",
      "Running command: kubectl exec sushi-seed-847fbbcd7c-gxhhf -- mina advanced node-status --show-errors --peers /ip4/188.34.183.17/tcp/8302/p2p/12D3KooWFCDGWs9eaHd3iGirj2ForY4CGbjAiTi6VqSFQs8jt5yW\n",
      "Error in telemetry call: {'error': {'commit_id': '09758671a488c6bd4c8f207524d3c962fdcd5d75', 'string': 'RPC #58444 failed: \"context deadline exceeded\"'}}\n",
      "Running command: kubectl exec sushi-seed-847fbbcd7c-gxhhf -- mina advanced node-status --show-errors --peers /ip4/35.226.250.48/tcp/8302/p2p/12D3KooWMvU6gQyz272PmRnEvxQpFARHCszm7phA1LXjQUaGd9fR\n",
      "Error in telemetry call: {'error': {'commit_id': '09758671a488c6bd4c8f207524d3c962fdcd5d75', 'string': 'RPC #58445 failed: \"context deadline exceeded\"'}}\n",
      "Running command: kubectl exec sushi-seed-847fbbcd7c-gxhhf -- mina advanced node-status --show-errors --peers /ip4/51.222.11.200/tcp/8302/p2p/12D3KooWEEjqKmkdwFJLKpcokjMkWhNXVaFwykqy4AdctfYpSE1N\n",
      "Error in telemetry call: {'error': {'commit_id': '09758671a488c6bd4c8f207524d3c962fdcd5d75', 'string': 'RPC #58446 failed: \"context deadline exceeded\"'}}\n",
      "Running command: kubectl exec sushi-seed-847fbbcd7c-gxhhf -- mina advanced node-status --show-errors --peers /ip4/195.9.221.217/tcp/8302/p2p/12D3KooWCNxniF4qwDFhGXtyatgBgszBXif5UJah5bBYvztJ9dyh\n",
      "Error in telemetry call: {'error': {'commit_id': '09758671a488c6bd4c8f207524d3c962fdcd5d75', 'string': 'RPC #58448 failed: \"context deadline exceeded\"'}}\n",
      "Running command: kubectl exec sushi-seed-847fbbcd7c-gxhhf -- mina advanced node-status --show-errors --peers /ip4/95.179.137.226/tcp/8302/p2p/12D3KooWHxe9YJKpKWJ2N33b6wjmBiJdiSi2X1owwAi3KkubT52R\n",
      "Error in telemetry call: {'error': {'commit_id': '09758671a488c6bd4c8f207524d3c962fdcd5d75', 'string': 'RPC #58450 failed: \"context deadline exceeded\"'}}\n",
      "Running command: kubectl exec sushi-seed-847fbbcd7c-gxhhf -- mina advanced node-status --show-errors --peers /ip4/138.68.164.172/tcp/8302/p2p/12D3KooWBd8XDBDk8G3CupPFZiV8SKTofFd8bUdJSavNwizSPQ5t\n",
      "Error in telemetry call: {'error': {'commit_id': '09758671a488c6bd4c8f207524d3c962fdcd5d75', 'string': 'RPC #58451 failed: \"context deadline exceeded\"'}}\n",
      "Running command: kubectl exec sushi-seed-847fbbcd7c-gxhhf -- mina advanced node-status --show-errors --peers /ip4/157.90.133.49/tcp/8302/p2p/12D3KooWBf7LTCwYRA3voGt8eiAvRhyJxKR1QPnngHyU8vKGFeSK\n",
      "Error in telemetry call: {'error': {'commit_id': '09758671a488c6bd4c8f207524d3c962fdcd5d75', 'string': 'RPC #58453 failed: \"context deadline exceeded\"'}}\n",
      "Running command: kubectl exec sushi-seed-847fbbcd7c-gxhhf -- mina advanced node-status --show-errors --peers /ip4/135.181.5.47/tcp/8302/p2p/12D3KooWNfvC5sAdeKRYuzjxHtKQ4Etef7hx1rpas4dC193REz8b\n",
      "Error in telemetry call: {'error': {'commit_id': '09758671a488c6bd4c8f207524d3c962fdcd5d75', 'string': 'RPC #58454 failed: \"context deadline exceeded\"'}}\n",
      "Running command: kubectl exec sushi-seed-847fbbcd7c-gxhhf -- mina advanced node-status --show-errors --peers /ip4/178.170.42.23/tcp/8302/p2p/12D3KooWS5dA4D5EkvzbGxpC8zzjV1hQjXViiRfrJwmWNhVix23s\n",
      "Error in telemetry call: {'error': {'commit_id': '09758671a488c6bd4c8f207524d3c962fdcd5d75', 'string': 'RPC #58455 failed: \"context deadline exceeded\"'}}\n",
      "Running command: kubectl exec sushi-seed-847fbbcd7c-gxhhf -- mina advanced node-status --show-errors --peers /ip4/158.51.123.153/tcp/8302/p2p/12D3KooWNvCzqhw4ZM26B8JK4KKxixFjuEyRC8urEekbDber8USL\n",
      "Error in telemetry call: {'error': {'commit_id': '09758671a488c6bd4c8f207524d3c962fdcd5d75', 'string': 'RPC #58456 failed: \"context deadline exceeded\"'}}\n",
      "Running command: kubectl exec sushi-seed-847fbbcd7c-gxhhf -- mina advanced node-status --show-errors --peers /ip4/62.171.185.75/tcp/8302/p2p/12D3KooWKJUf1FKc18voFYvp4zxyt5dq1nA9HsiBWPbqfk8SMbv1\n",
      "Error in telemetry call: {'error': {'commit_id': '09758671a488c6bd4c8f207524d3c962fdcd5d75', 'string': 'RPC #58457 failed: \"context deadline exceeded\"'}}\n",
      "Running command: kubectl exec sushi-seed-847fbbcd7c-gxhhf -- mina advanced node-status --show-errors --peers /ip4/202.120.1.63/tcp/8302/p2p/12D3KooWL76r9SGUrRg185HQdUpknck916No1n1BB4BuSkpz2mS1\n",
      "Error in telemetry call: {'error': {'commit_id': '09758671a488c6bd4c8f207524d3c962fdcd5d75', 'string': 'RPC #58458 failed: \"context deadline exceeded\"'}}\n",
      "Running command: kubectl exec sushi-seed-847fbbcd7c-gxhhf -- mina advanced node-status --show-errors --peers /ip4/95.217.194.239/tcp/8302/p2p/12D3KooWRFF3GUJXdhdd6tqxnikdUzQjiGq9opDExPXXtESuFMWb\n",
      "Error in telemetry call: {'error': {'commit_id': '09758671a488c6bd4c8f207524d3c962fdcd5d75', 'string': 'RPC #58460 failed: \"context deadline exceeded\"'}}\n",
      "Running command: kubectl exec sushi-seed-847fbbcd7c-gxhhf -- mina advanced node-status --show-errors --peers /ip4/3.112.26.239/tcp/8302/p2p/12D3KooWCmHz7nod6LF2aMtRrCJCgyv9DAynLfHKF3NAHWgDeiVQ\n",
      "Error in telemetry call: {'error': {'commit_id': '09758671a488c6bd4c8f207524d3c962fdcd5d75', 'string': 'RPC #58463 failed: \"context deadline exceeded\"'}}\n",
      "Running command: kubectl exec sushi-seed-847fbbcd7c-gxhhf -- mina advanced node-status --show-errors --peers /ip4/135.181.208.166/tcp/8302/p2p/12D3KooWSsrVmJKzcnBfcNtKdsujwxvXM1iJN2pRKuwpTprJvhx3\n",
      "Error in telemetry call: {'error': {'commit_id': '09758671a488c6bd4c8f207524d3c962fdcd5d75', 'string': 'RPC #58465 failed: \"context deadline exceeded\"'}}\n",
      "Running command: kubectl exec sushi-seed-847fbbcd7c-gxhhf -- mina advanced node-status --show-errors --peers /ip4/185.25.49.250/tcp/8302/p2p/12D3KooWKT9g1fvUF5VmyN25isWw5pvpAbTaiXxM5iVTjpAWgpZ1\n",
      "Error in telemetry call: {'error': {'commit_id': '09758671a488c6bd4c8f207524d3c962fdcd5d75', 'string': 'RPC #58466 failed: \"context deadline exceeded\"'}}\n",
      "Running command: kubectl exec sushi-seed-847fbbcd7c-gxhhf -- mina advanced node-status --show-errors --peers /ip4/157.90.32.97/tcp/8302/p2p/12D3KooWDk1kkpsWtBuDmgYFwSRDtuKpG4sRKfduxwMABdRd8VYP\n",
      "Error in telemetry call: {'error': {'commit_id': '09758671a488c6bd4c8f207524d3c962fdcd5d75', 'string': 'RPC #58467 failed: \"context deadline exceeded\"'}}\n",
      "Running command: kubectl exec sushi-seed-847fbbcd7c-gxhhf -- mina advanced node-status --show-errors --peers /ip4/188.34.207.147/tcp/8302/p2p/12D3KooWKyfjA6hJHpSCuC4YdaBB5sXKfEFrn2iNnkapiNrYN8HN\n",
      "Error in telemetry call: {'error': {'commit_id': '09758671a488c6bd4c8f207524d3c962fdcd5d75', 'string': 'RPC #58468 failed: \"context deadline exceeded\"'}}\n",
      "Running command: kubectl exec sushi-seed-847fbbcd7c-gxhhf -- mina advanced node-status --show-errors --peers /ip4/157.90.179.34/tcp/8302/p2p/12D3KooWPJsng1G5m9XM6RUAoE8rhDCWNYodE7fctBrNvUNbYuKo\n",
      "Error in telemetry call: {'error': {'commit_id': '09758671a488c6bd4c8f207524d3c962fdcd5d75', 'string': 'RPC #58469 failed: \"context deadline exceeded\"'}}\n",
      "Running command: kubectl exec sushi-seed-847fbbcd7c-gxhhf -- mina advanced node-status --show-errors --peers /ip4/95.217.72.185/tcp/8302/p2p/12D3KooWSgGUeZpD4GNAY5VvHe5byo9L7YkMqc48Ce1N3hHfzZqY\n",
      "Error in telemetry call: {'error': {'commit_id': '09758671a488c6bd4c8f207524d3c962fdcd5d75', 'string': 'RPC #58470 failed: \"context deadline exceeded\"'}}\n",
      "Running command: kubectl exec sushi-seed-847fbbcd7c-gxhhf -- mina advanced node-status --show-errors --peers /ip4/95.216.99.249/tcp/8302/p2p/12D3KooWM1HCqH57vUAgjYyZdnEfxFe4AyiNtTepPToPrzpxY981\n",
      "Error in telemetry call: {'error': {'commit_id': '09758671a488c6bd4c8f207524d3c962fdcd5d75', 'string': 'RPC #58471 failed: \"context deadline exceeded\"'}}\n",
      "Running command: kubectl exec sushi-seed-847fbbcd7c-gxhhf -- mina advanced node-status --show-errors --peers /ip4/31.20.7.76/tcp/8302/p2p/12D3KooWH2akF49EvajRhymjeQPop4guajGBmjV8cadXzHk7Ldj1\n"
     ]
    },
    {
     "name": "stdout",
     "output_type": "stream",
     "text": [
      "Error in telemetry call: {'error': {'commit_id': '09758671a488c6bd4c8f207524d3c962fdcd5d75', 'string': 'RPC #58472 failed: \"failed to dial 12D3KooWH2akF49EvajRhymjeQPop4guajGBmjV8cadXzHk7Ldj1: all dials failed\\\\n  * [/ip4/31.20.7.76/tcp/8302] failed to negotiate security protocol: peer id mismatch: expected 12D3KooWH2akF49EvajRhymjeQPop4guajGBmjV8cadXzHk7Ldj1, but remote key matches 12D3KooWA1HfP3j67EX91VbRGgJwJYu3QfwKpS6sWXKuKmixJbES\"'}}\n",
      "Running command: kubectl exec sushi-seed-847fbbcd7c-gxhhf -- mina advanced node-status --show-errors --peers /ip4/144.76.145.150/tcp/8302/p2p/12D3KooWMNeysqcnNsXNb5iTL3AFapjmJmpxyVb6hh4mpLHhvBCC\n",
      "Error in telemetry call: {'error': {'commit_id': '09758671a488c6bd4c8f207524d3c962fdcd5d75', 'string': 'RPC #58474 failed: \"context deadline exceeded\"'}}\n",
      "Running command: kubectl exec sushi-seed-847fbbcd7c-gxhhf -- mina advanced node-status --show-errors --peers /ip4/136.243.154.215/tcp/8302/p2p/12D3KooWKU3dsHQaJe2ATa22xxcKESTmjeKtEBvVPYEpfC4QXdmT\n",
      "Error in telemetry call: {'error': {'commit_id': '09758671a488c6bd4c8f207524d3c962fdcd5d75', 'string': 'RPC #58476 failed: \"context deadline exceeded\"'}}\n",
      "Running command: kubectl exec sushi-seed-847fbbcd7c-gxhhf -- mina advanced node-status --show-errors --peers /ip4/135.181.138.33/tcp/8302/p2p/12D3KooWBgYtbfgRNJHyNRq3tbPr5T25aQF6WE77TLP42RpgH7yA\n",
      "Error in telemetry call: {'error': {'commit_id': '09758671a488c6bd4c8f207524d3c962fdcd5d75', 'string': 'RPC #58478 failed: \"context deadline exceeded\"'}}\n",
      "Running command: kubectl exec sushi-seed-847fbbcd7c-gxhhf -- mina advanced node-status --show-errors --peers /ip4/206.189.105.166/tcp/8302/p2p/12D3KooWMKJ8NkgZGsbDvamhwcyCxWu2fy7VQjhragGcpCZRZfuP\n",
      "Error in telemetry call: {'error': {'commit_id': '09758671a488c6bd4c8f207524d3c962fdcd5d75', 'string': 'RPC #58479 failed: \"context deadline exceeded\"'}}\n",
      "Running command: kubectl exec sushi-seed-847fbbcd7c-gxhhf -- mina advanced node-status --show-errors --peers /ip4/209.222.97.151/tcp/8302/p2p/12D3KooWS5y6Yq5Qk6sdmoZCkoNeAQwNpQ7wtUDuDkaw7Q98eaUp\n",
      "Error in telemetry call: {'error': {'commit_id': '09758671a488c6bd4c8f207524d3c962fdcd5d75', 'string': 'RPC #58481 failed: \"context deadline exceeded\"'}}\n",
      "Running command: kubectl exec sushi-seed-847fbbcd7c-gxhhf -- mina advanced node-status --show-errors --peers /ip4/35.237.200.68/tcp/10003/p2p/12D3KooWEdBiTUQqxp3jeuWaZkwiSNcFxC6d6Tdq7u2Lf2ZD2Q6X\n",
      "Error in telemetry call: {'error': {'commit_id': '09758671a488c6bd4c8f207524d3c962fdcd5d75', 'string': 'RPC #58482 failed: \"context deadline exceeded\"'}}\n",
      "Running command: kubectl exec sushi-seed-847fbbcd7c-gxhhf -- mina advanced node-status --show-errors --peers /ip4/173.254.205.202/tcp/8302/p2p/12D3KooWFSCzFYiFcoTVVxzXskBQEqJW72G2AgUWqY53pLk1SBSc\n",
      "Error in telemetry call: {'error': {'commit_id': '09758671a488c6bd4c8f207524d3c962fdcd5d75', 'string': 'RPC #58483 failed: \"context deadline exceeded\"'}}\n",
      "Running command: kubectl exec sushi-seed-847fbbcd7c-gxhhf -- mina advanced node-status --show-errors --peers /ip4/195.201.106.113/tcp/8302/p2p/12D3KooWMMdrVq7BgVxQsASLTLaWuWzQ8BESsWyqFZMTZBsHnQrP\n",
      "Error in telemetry call: {'error': {'commit_id': '09758671a488c6bd4c8f207524d3c962fdcd5d75', 'string': 'RPC #58484 failed: \"context deadline exceeded\"'}}\n",
      "Running command: kubectl exec sushi-seed-847fbbcd7c-gxhhf -- mina advanced node-status --show-errors --peers /ip4/142.93.100.73/tcp/8302/p2p/12D3KooWF4T33v9JLU7fJpXn64DRZ3wSD7mG4qva2jX4P6vDSjpr\n",
      "Error in telemetry call: {'error': {'commit_id': '09758671a488c6bd4c8f207524d3c962fdcd5d75', 'string': 'RPC #58486 failed: \"context deadline exceeded\"'}}\n",
      "Running command: kubectl exec sushi-seed-847fbbcd7c-gxhhf -- mina advanced node-status --show-errors --peers /ip4/35.195.19.147/tcp/8302/p2p/12D3KooWCvQoiBVwUwaZPsceVhXq529td28PpMetmVq3c1PWK9jv\n",
      "Error in telemetry call: {'error': {'commit_id': '09758671a488c6bd4c8f207524d3c962fdcd5d75', 'string': 'RPC #58487 failed: \"context deadline exceeded\"'}}\n",
      "Running command: kubectl exec sushi-seed-847fbbcd7c-gxhhf -- mina advanced node-status --show-errors --peers /ip4/34.67.216.182/tcp/8302/p2p/12D3KooWFMRuh2vq2o4Jnmcqgugycp1y4x1K8Su9GNpEzLYgrmQH\n",
      "Error in telemetry call: {'error': {'commit_id': '09758671a488c6bd4c8f207524d3c962fdcd5d75', 'string': 'RPC #58488 failed: \"context deadline exceeded\"'}}\n",
      "Running command: kubectl exec sushi-seed-847fbbcd7c-gxhhf -- mina advanced node-status --show-errors --peers /ip4/119.125.135.86/tcp/8302/p2p/12D3KooWDEntKNyDBYWTSrSDA1y24Bey9EE7yEVGXgaGbi3ZWfDD\n",
      "Error in telemetry call: {'error': {'commit_id': '09758671a488c6bd4c8f207524d3c962fdcd5d75', 'string': 'RPC #58489 failed: \"context deadline exceeded\"'}}\n",
      "Running command: kubectl exec sushi-seed-847fbbcd7c-gxhhf -- mina advanced node-status --show-errors --peers /ip4/65.21.63.171/tcp/8302/p2p/12D3KooWLgif7FPzeeGjLAVBm4psUWoE27E5RUBzXTNq3rdz57dG\n",
      "Error in telemetry call: {'error': {'commit_id': '09758671a488c6bd4c8f207524d3c962fdcd5d75', 'string': 'RPC #58490 failed: \"context deadline exceeded\"'}}\n",
      "Running command: kubectl exec sushi-seed-847fbbcd7c-gxhhf -- mina advanced node-status --show-errors --peers /ip4/135.181.5.54/tcp/8302/p2p/12D3KooWEJnbN8pHWpLrvhDb74yURKXBhDeHDjxw7DhkjNx3PaX1\n",
      "Error in telemetry call: {'error': {'commit_id': '09758671a488c6bd4c8f207524d3c962fdcd5d75', 'string': 'RPC #58491 failed: \"context deadline exceeded\"'}}\n",
      "Running command: kubectl exec sushi-seed-847fbbcd7c-gxhhf -- mina advanced node-status --show-errors --peers /ip4/51.178.162.71/tcp/30103/p2p/12D3KooWDhD6T4LqHzEUADsummRh2qwSBFDNCFHD7LmFhsevcJhu\n",
      "Error in telemetry call: {'error': {'commit_id': '09758671a488c6bd4c8f207524d3c962fdcd5d75', 'string': 'RPC #58492 failed: \"context deadline exceeded\"'}}\n",
      "Running command: kubectl exec sushi-seed-847fbbcd7c-gxhhf -- mina advanced node-status --show-errors --peers /ip4/109.238.14.13/tcp/8302/p2p/12D3KooWGGJVHJQ7eSTVcGbZ6Mbv4bguP7RLRtmJH3wyF2iHRZLQ\n",
      "Error in telemetry call: {'error': {'commit_id': '09758671a488c6bd4c8f207524d3c962fdcd5d75', 'string': 'RPC #58493 failed: \"failed to dial 12D3KooWGGJVHJQ7eSTVcGbZ6Mbv4bguP7RLRtmJH3wyF2iHRZLQ: all dials failed\\\\n  * [/ip4/109.238.14.13/tcp/8302] dial tcp4 109.238.14.13:8302: connect: connection refused\"'}}\n",
      "Running command: kubectl exec sushi-seed-847fbbcd7c-gxhhf -- mina advanced node-status --show-errors --peers /ip4/122.55.206.45/tcp/8302/p2p/12D3KooWKv1KtSqUW6NMuw1V1SamkhUj1GZwnTAaxmasSupkNUMH\n",
      "Error in telemetry call: {'error': {'commit_id': '09758671a488c6bd4c8f207524d3c962fdcd5d75', 'string': 'RPC #58494 failed: \"context deadline exceeded\"'}}\n",
      "Running command: kubectl exec sushi-seed-847fbbcd7c-gxhhf -- mina advanced node-status --show-errors --peers /ip4/159.69.85.164/tcp/8302/p2p/12D3KooWNbzaAasw6Lz2KHsoR63oVxSjPS2mQcRk8RK5p6NHtXwR\n",
      "Error in telemetry call: {'error': {'commit_id': '09758671a488c6bd4c8f207524d3c962fdcd5d75', 'string': 'RPC #58496 failed: \"context deadline exceeded\"'}}\n",
      "Running command: kubectl exec sushi-seed-847fbbcd7c-gxhhf -- mina advanced node-status --show-errors --peers /ip4/46.4.213.196/tcp/8302/p2p/12D3KooWHkbg9EXR4EABdbnTzQriX9WDZRc9txAGKUWtdme32CDG\n",
      "Error in telemetry call: {'error': {'commit_id': '09758671a488c6bd4c8f207524d3c962fdcd5d75', 'string': 'RPC #58497 failed: \"context deadline exceeded\"'}}\n",
      "Running command: kubectl exec sushi-seed-847fbbcd7c-gxhhf -- mina advanced node-status --show-errors --peers /ip4/143.198.78.127/tcp/8302/p2p/12D3KooWJ1pvXDCJ6rMT9aYFwtzC2c9SMsTc6KM7dZczbeSd9FBx\n",
      "Error in telemetry call: {'error': {'commit_id': '09758671a488c6bd4c8f207524d3c962fdcd5d75', 'string': 'RPC #58498 failed: \"context deadline exceeded\"'}}\n",
      "Running command: kubectl exec sushi-seed-847fbbcd7c-gxhhf -- mina advanced node-status --show-errors --peers /ip4/195.248.182.119/tcp/8302/p2p/12D3KooWASY3q1qSdo6j1Xr3x3RuL3qPDw563EUgHB7Lp8Bf5PWy\n",
      "Error in telemetry call: {'error': {'commit_id': '09758671a488c6bd4c8f207524d3c962fdcd5d75', 'string': 'RPC #58499 failed: \"context deadline exceeded\"'}}\n",
      "Running command: kubectl exec sushi-seed-847fbbcd7c-gxhhf -- mina advanced node-status --show-errors --peers /ip4/78.46.149.52/tcp/8302/p2p/12D3KooWQ4LtYBAixa41AAj94tdYi1go5aSk5w5JqSGeLFT1ADcK\n",
      "Error in telemetry call: {'error': {'commit_id': '09758671a488c6bd4c8f207524d3c962fdcd5d75', 'string': 'RPC #58500 failed: \"context deadline exceeded\"'}}\n",
      "Running command: kubectl exec sushi-seed-847fbbcd7c-gxhhf -- mina advanced node-status --show-errors --peers /ip4/52.11.186.247/tcp/8302/p2p/12D3KooWDkp86jLkDEJWaLvwRD6JS33hW9Q7K1vbgdU1tAdj6ySM\n"
     ]
    },
    {
     "name": "stdout",
     "output_type": "stream",
     "text": [
      "Error in telemetry call: {'error': {'commit_id': '09758671a488c6bd4c8f207524d3c962fdcd5d75', 'string': 'RPC #58501 failed: \"failed to dial 12D3KooWDkp86jLkDEJWaLvwRD6JS33hW9Q7K1vbgdU1tAdj6ySM: all dials failed\\\\n  * [/ip4/52.11.186.247/tcp/8302] failed to negotiate security protocol: peer id mismatch: expected 12D3KooWDkp86jLkDEJWaLvwRD6JS33hW9Q7K1vbgdU1tAdj6ySM, but remote key matches 12D3KooWBov1SERpqMJpZZD2Pq3aW8hJZY5GXnRnMT5W4BACAoS9\"'}}\n",
      "Running command: kubectl exec sushi-seed-847fbbcd7c-gxhhf -- mina advanced node-status --show-errors --peers /ip4/157.90.130.253/tcp/8302/p2p/12D3KooWM9Y3TSZZT5mmbeVyzFb5NrjEqMeTXTEk9n5HfSjDkhZN\n",
      "Error in telemetry call: {'error': {'commit_id': '09758671a488c6bd4c8f207524d3c962fdcd5d75', 'string': 'RPC #58503 failed: \"context deadline exceeded\"'}}\n",
      "Running command: kubectl exec sushi-seed-847fbbcd7c-gxhhf -- mina advanced node-status --show-errors --peers /ip4/51.222.11.196/tcp/8302/p2p/12D3KooWPX1ymnhSNyZCve8UttJzW1wfB4QUp6mxs7uC1wWWN67a\n",
      "Error in telemetry call: {'error': {'commit_id': '09758671a488c6bd4c8f207524d3c962fdcd5d75', 'string': 'RPC #58504 failed: \"context deadline exceeded\"'}}\n",
      "Running command: kubectl exec sushi-seed-847fbbcd7c-gxhhf -- mina advanced node-status --show-errors --peers /ip4/95.217.134.250/tcp/8302/p2p/12D3KooWMdmAhp3kYXiW5qCPw6moUqHmb9Z99j5Enb9oY5UrLR3K\n",
      "Error in telemetry call: {'error': {'commit_id': '09758671a488c6bd4c8f207524d3c962fdcd5d75', 'string': 'RPC #58506 failed: \"context deadline exceeded\"'}}\n",
      "Running command: kubectl exec sushi-seed-847fbbcd7c-gxhhf -- mina advanced node-status --show-errors --peers /ip4/135.181.116.109/tcp/8302/p2p/12D3KooWKzrBPb89DPExZz9EWGPBib1rvGqfwf2oe7XRfxHWztUU\n",
      "Error in telemetry call: {'error': {'commit_id': '09758671a488c6bd4c8f207524d3c962fdcd5d75', 'string': 'RPC #58507 failed: \"context deadline exceeded\"'}}\n",
      "Running command: kubectl exec sushi-seed-847fbbcd7c-gxhhf -- mina advanced node-status --show-errors --peers /ip4/195.201.173.222/tcp/8302/p2p/12D3KooWRPCBUhqDASsn83P7WVd5pSgGV2exEvDAMkTj8e5Hq7ed\n",
      "Error in telemetry call: {'error': {'commit_id': '09758671a488c6bd4c8f207524d3c962fdcd5d75', 'string': 'RPC #58509 failed: \"context deadline exceeded\"'}}\n",
      "Running command: kubectl exec sushi-seed-847fbbcd7c-gxhhf -- mina advanced node-status --show-errors --peers /ip4/138.201.8.177/tcp/8302/p2p/12D3KooWC9WzQwWZ4FDVDpSSxKrmLC1Z6Rig6C9pLn8Agmt1DTw2\n",
      "Error in telemetry call: {'error': {'commit_id': '09758671a488c6bd4c8f207524d3c962fdcd5d75', 'string': 'RPC #58510 failed: \"context deadline exceeded\"'}}\n",
      "Running command: kubectl exec sushi-seed-847fbbcd7c-gxhhf -- mina advanced node-status --show-errors --peers /ip4/13.57.203.192/tcp/8302/p2p/12D3KooWGgYKGRx1KgrixAAn4eeuN1sZt8Z4kwjL4EKrV8HDgUDT\n",
      "Error in telemetry call: {'error': {'commit_id': '09758671a488c6bd4c8f207524d3c962fdcd5d75', 'string': 'RPC #58511 failed: \"context deadline exceeded\"'}}\n",
      "Running command: kubectl exec sushi-seed-847fbbcd7c-gxhhf -- mina advanced node-status --show-errors --peers /ip4/143.198.74.121/tcp/8302/p2p/12D3KooWPoaNwaV1nm3PD2v7kx6ybX8mx26GSco7Ujg2wKrn8RPe\n",
      "Error in telemetry call: {'error': {'commit_id': '09758671a488c6bd4c8f207524d3c962fdcd5d75', 'string': 'RPC #58512 failed: \"context deadline exceeded\"'}}\n",
      "Running command: kubectl exec sushi-seed-847fbbcd7c-gxhhf -- mina advanced node-status --show-errors --peers /ip4/135.181.166.45/tcp/8302/p2p/12D3KooWCM4xML3Ck5XniskxWdu1gwMFY59qd2Wf6cesN6frnJeu\n",
      "Error in telemetry call: {'error': {'commit_id': '09758671a488c6bd4c8f207524d3c962fdcd5d75', 'string': 'RPC #58513 failed: \"context deadline exceeded\"'}}\n",
      "Running command: kubectl exec sushi-seed-847fbbcd7c-gxhhf -- mina advanced node-status --show-errors --peers /ip4/54.39.19.187/tcp/8302/p2p/12D3KooWLBPJDJ1hbCozYMGjeVKydmM1kJp1zKZbhVUQ1ozEdtVy\n",
      "Error in telemetry call: {'error': {'commit_id': '09758671a488c6bd4c8f207524d3c962fdcd5d75', 'string': 'RPC #58514 failed: \"context deadline exceeded\"'}}\n",
      "Running command: kubectl exec sushi-seed-847fbbcd7c-gxhhf -- mina advanced node-status --show-errors --peers /ip4/135.181.2.31/tcp/8302/p2p/12D3KooWMZ3TErNzre17p8b9qkkf2yCdkDv6ysa7D9yiP2EcV3Fw\n",
      "Error in telemetry call: {'error': {'commit_id': '09758671a488c6bd4c8f207524d3c962fdcd5d75', 'string': 'RPC #58516 failed: \"context deadline exceeded\"'}}\n",
      "Running command: kubectl exec sushi-seed-847fbbcd7c-gxhhf -- mina advanced node-status --show-errors --peers /ip4/18.192.158.35/tcp/8302/p2p/12D3KooWLndDGpPCQEaXZyH5G51BQgPSwg1SZ3fCgLq2QVns2fuu\n",
      "Error in telemetry call: {'error': {'commit_id': '09758671a488c6bd4c8f207524d3c962fdcd5d75', 'string': 'RPC #58517 failed: \"context deadline exceeded\"'}}\n",
      "Running command: kubectl exec sushi-seed-847fbbcd7c-gxhhf -- mina advanced node-status --show-errors --peers /ip4/95.217.204.33/tcp/8302/p2p/12D3KooWA8oAxUz7G6DfaAV3S2WkGv4U8c6kMMsiA1pyhWGcZL5W\n",
      "Error in telemetry call: {'error': {'commit_id': '09758671a488c6bd4c8f207524d3c962fdcd5d75', 'string': 'RPC #58518 failed: \"context deadline exceeded\"'}}\n",
      "Running command: kubectl exec sushi-seed-847fbbcd7c-gxhhf -- mina advanced node-status --show-errors --peers /ip4/34.67.210.243/tcp/8302/p2p/12D3KooWSwApiVVEtMKL6yE3ES3CJdXD6a21B7MSgAf16CXJ91a5\n",
      "Error in telemetry call: {'error': {'commit_id': '09758671a488c6bd4c8f207524d3c962fdcd5d75', 'string': 'RPC #58519 failed: \"context deadline exceeded\"'}}\n",
      "Running command: kubectl exec sushi-seed-847fbbcd7c-gxhhf -- mina advanced node-status --show-errors --peers /ip4/188.34.188.68/tcp/8302/p2p/12D3KooWQHviwpjYVvZgJNrFDPGPetUWX9Ydi4PUYsn5GhHWEUdA\n",
      "Error in telemetry call: {'error': {'commit_id': '09758671a488c6bd4c8f207524d3c962fdcd5d75', 'string': 'RPC #58521 failed: \"context deadline exceeded\"'}}\n",
      "Running command: kubectl exec sushi-seed-847fbbcd7c-gxhhf -- mina advanced node-status --show-errors --peers /ip4/76.69.39.137/tcp/8302/p2p/12D3KooWLoTHLaicCBmyA7vRXmRibdzm2wRxo2KpBqoFeoiqC1JQ\n",
      "Error in telemetry call: {'error': {'commit_id': '09758671a488c6bd4c8f207524d3c962fdcd5d75', 'string': 'RPC #58522 failed: \"context deadline exceeded\"'}}\n",
      "Running command: kubectl exec sushi-seed-847fbbcd7c-gxhhf -- mina advanced node-status --show-errors --peers /ip4/123.58.216.93/tcp/8302/p2p/12D3KooWRqdbJszoX6AB2E47KR45Kex1RptichA2MDkNSCqX5eb4\n",
      "Error in telemetry call: {'error': {'commit_id': '09758671a488c6bd4c8f207524d3c962fdcd5d75', 'string': 'RPC #58524 failed: \"context deadline exceeded\"'}}\n",
      "Running command: kubectl exec sushi-seed-847fbbcd7c-gxhhf -- mina advanced node-status --show-errors --peers /ip4/95.217.160.9/tcp/8302/p2p/12D3KooWRTrm8j5Ppx4MUPavGCpY5veHXwgytbyN1DWf6wVqGnuz\n",
      "Error in telemetry call: {'error': {'commit_id': '09758671a488c6bd4c8f207524d3c962fdcd5d75', 'string': 'RPC #58527 failed: \"context deadline exceeded\"'}}\n",
      "Running command: kubectl exec sushi-seed-847fbbcd7c-gxhhf -- mina advanced node-status --show-errors --peers /ip4/95.217.189.177/tcp/8302/p2p/12D3KooWM6SVu6p7L5enyEMVg8hSoJp5GZsqFNJcvsG7mvzMsFtJ\n",
      "Error in telemetry call: {'error': {'commit_id': '09758671a488c6bd4c8f207524d3c962fdcd5d75', 'string': 'RPC #58529 failed: \"context deadline exceeded\"'}}\n",
      "Running command: kubectl exec sushi-seed-847fbbcd7c-gxhhf -- mina advanced node-status --show-errors --peers /ip4/143.198.231.32/tcp/8302/p2p/12D3KooWNJDmuyWK7cU9YjYFvbGebPmjm7sRmdH1fwEvjFZqpGad\n",
      "Error in telemetry call: {'error': {'commit_id': '09758671a488c6bd4c8f207524d3c962fdcd5d75', 'string': 'RPC #58530 failed: \"context deadline exceeded\"'}}\n",
      "Running command: kubectl exec sushi-seed-847fbbcd7c-gxhhf -- mina advanced node-status --show-errors --peers /ip4/135.181.129.47/tcp/8302/p2p/12D3KooWHEvYC9jQFYoh61sTiiVb7ErN3Da1K9CoXtxgsJqaWgBK\n",
      "Error in telemetry call: {'error': {'commit_id': '09758671a488c6bd4c8f207524d3c962fdcd5d75', 'string': 'RPC #58531 failed: \"context deadline exceeded\"'}}\n",
      "Running command: kubectl exec sushi-seed-847fbbcd7c-gxhhf -- mina advanced node-status --show-errors --peers /ip4/136.243.104.205/tcp/8302/p2p/12D3KooWRQkZy9PpK8nSJjPVJhjX13ac82wjhwLgUvE3C9PytqaQ\n",
      "Error in telemetry call: {'error': {'commit_id': '09758671a488c6bd4c8f207524d3c962fdcd5d75', 'string': 'RPC #58532 failed: \"context deadline exceeded\"'}}\n",
      "Running command: kubectl exec sushi-seed-847fbbcd7c-gxhhf -- mina advanced node-status --show-errors --peers /ip4/157.90.176.225/tcp/8302/p2p/12D3KooWHhf591x56cjdU5Si2jkxbv95Apwz618n9yDRQviKf3ej\n"
     ]
    },
    {
     "name": "stdout",
     "output_type": "stream",
     "text": [
      "Error in telemetry call: {'error': {'commit_id': '09758671a488c6bd4c8f207524d3c962fdcd5d75', 'string': 'RPC #58533 failed: \"context deadline exceeded\"'}}\n",
      "Running command: kubectl exec sushi-seed-847fbbcd7c-gxhhf -- mina advanced node-status --show-errors --peers /ip4/54.36.121.173/tcp/8302/p2p/12D3KooWH9CPa9dU7WBs64jyM5LGkTa8TPonUj9r8hPeGR8cVC1V\n",
      "Error in telemetry call: {'error': {'commit_id': '09758671a488c6bd4c8f207524d3c962fdcd5d75', 'string': 'RPC #58534 failed: \"context deadline exceeded\"'}}\n",
      "Running command: kubectl exec sushi-seed-847fbbcd7c-gxhhf -- mina advanced node-status --show-errors --peers /ip4/95.217.42.20/tcp/8302/p2p/12D3KooWDnLTMJwHDk2cMwQY6QPYxsJvGg4sjzZE5eUBSCi6Z7wT\n",
      "Error in telemetry call: {'error': {'commit_id': '09758671a488c6bd4c8f207524d3c962fdcd5d75', 'string': 'RPC #58535 failed: \"context deadline exceeded\"'}}\n",
      "Running command: kubectl exec sushi-seed-847fbbcd7c-gxhhf -- mina advanced node-status --show-errors --peers /ip4/212.186.73.73/tcp/8302/p2p/12D3KooWHDC9mzftd4W717vAUVE49P9suocTnLiyDuNFHt7AGvyC\n",
      "Error in telemetry call: {'error': {'commit_id': '09758671a488c6bd4c8f207524d3c962fdcd5d75', 'string': 'RPC #58536 failed: \"context deadline exceeded\"'}}\n",
      "Running command: kubectl exec sushi-seed-847fbbcd7c-gxhhf -- mina advanced node-status --show-errors --peers /ip4/34.67.210.243/tcp/58928/p2p/12D3KooWSwApiVVEtMKL6yE3ES3CJdXD6a21B7MSgAf16CXJ91a5\n",
      "Error in telemetry call: {'error': {'commit_id': '09758671a488c6bd4c8f207524d3c962fdcd5d75', 'string': 'RPC #58538 failed: \"context deadline exceeded\"'}}\n",
      "Running command: kubectl exec sushi-seed-847fbbcd7c-gxhhf -- mina advanced node-status --show-errors --peers /ip4/65.21.50.121/tcp/8302/p2p/12D3KooWMoT2BdadQcFTQdsHdU1p2Yuf58jYqynv8PLfnfrJCuym\n",
      "Error in telemetry call: {'error': {'commit_id': '09758671a488c6bd4c8f207524d3c962fdcd5d75', 'string': 'RPC #58539 failed: \"context deadline exceeded\"'}}\n",
      "Running command: kubectl exec sushi-seed-847fbbcd7c-gxhhf -- mina advanced node-status --show-errors --peers /ip4/165.22.89.238/tcp/8302/p2p/12D3KooWB4dzCNwzQemCXA1sRTmBD4bdokBrL367b2Kbee5nz2T7\n",
      "Error in telemetry call: {'error': {'commit_id': '09758671a488c6bd4c8f207524d3c962fdcd5d75', 'string': 'RPC #58542 failed: \"context deadline exceeded\"'}}\n",
      "Running command: kubectl exec sushi-seed-847fbbcd7c-gxhhf -- mina advanced node-status --show-errors --peers /ip4/35.227.7.59/tcp/10000/p2p/12D3KooWCa1d7G3SkRxy846qTvdAFX69NnoYZ32orWVLqJcDVGHW\n",
      "Error in telemetry call: {'error': {'commit_id': '09758671a488c6bd4c8f207524d3c962fdcd5d75', 'string': 'RPC #58543 failed: \"context deadline exceeded\"'}}\n",
      "Running command: kubectl exec sushi-seed-847fbbcd7c-gxhhf -- mina advanced node-status --show-errors --peers /ip4/195.201.196.183/tcp/8302/p2p/12D3KooWGJEG45erhfp8LMN6hthuujfvEiuenaTkPQrayLWuaX4N\n",
      "Error in telemetry call: {'error': {'commit_id': '09758671a488c6bd4c8f207524d3c962fdcd5d75', 'string': 'RPC #58544 failed: \"context deadline exceeded\"'}}\n",
      "Running command: kubectl exec sushi-seed-847fbbcd7c-gxhhf -- mina advanced node-status --show-errors --peers /ip4/195.9.221.213/tcp/8302/p2p/12D3KooWEosyCG6hvYPdst7d9fVfUg9uokNHEKYnHuBpDkm4bjvE\n",
      "Error in telemetry call: {'error': {'commit_id': '09758671a488c6bd4c8f207524d3c962fdcd5d75', 'string': 'RPC #58545 failed: \"context deadline exceeded\"'}}\n",
      "Running command: kubectl exec sushi-seed-847fbbcd7c-gxhhf -- mina advanced node-status --show-errors --peers /ip4/51.178.162.70/tcp/30103/p2p/12D3KooWDrXPJHyhVUL5ZGPu3BDeNsWDdfkMVhKfkzLbGBk2PHbj\n",
      "Error in telemetry call: {'error': {'commit_id': '09758671a488c6bd4c8f207524d3c962fdcd5d75', 'string': 'RPC #58546 failed: \"context deadline exceeded\"'}}\n",
      "Running command: kubectl exec sushi-seed-847fbbcd7c-gxhhf -- mina advanced node-status --show-errors --peers /ip4/188.214.129.36/tcp/8302/p2p/12D3KooWP21optyJag4yJJcNRvNXwWNbfZ7JcY3ibuF8mFBQvoow\n",
      "Error in telemetry call: {'error': {'commit_id': '09758671a488c6bd4c8f207524d3c962fdcd5d75', 'string': 'RPC #58547 failed: \"context deadline exceeded\"'}}\n",
      "Running command: kubectl exec sushi-seed-847fbbcd7c-gxhhf -- mina advanced node-status --show-errors --peers /ip4/168.119.137.216/tcp/8302/p2p/12D3KooWS8pnVSFebvGWt7SbYgWLnYveizZrnki86i5vStrHnXSC\n",
      "Error in telemetry call: {'error': {'commit_id': '09758671a488c6bd4c8f207524d3c962fdcd5d75', 'string': 'RPC #58549 failed: \"context deadline exceeded\"'}}\n",
      "Running command: kubectl exec sushi-seed-847fbbcd7c-gxhhf -- mina advanced node-status --show-errors --peers /ip4/78.30.60.238/tcp/8302/p2p/12D3KooWF1kZy57tR9ZBdPhbq5z7bvmBrGPWSGpMWtwjrJuDTjvR\n",
      "Error in telemetry call: {'error': {'commit_id': '09758671a488c6bd4c8f207524d3c962fdcd5d75', 'string': 'RPC #58550 failed: \"context deadline exceeded\"'}}\n",
      "Running command: kubectl exec sushi-seed-847fbbcd7c-gxhhf -- mina advanced node-status --show-errors --peers /ip4/213.159.255.110/tcp/8302/p2p/12D3KooWHVUdTuGjGvyHVdiKitaH79NH6TVD2wov7bX9jPkxPnUY\n",
      "Error in telemetry call: {'error': {'commit_id': '09758671a488c6bd4c8f207524d3c962fdcd5d75', 'string': 'RPC #58551 failed: \"context deadline exceeded\"'}}\n",
      "Running command: kubectl exec sushi-seed-847fbbcd7c-gxhhf -- mina advanced node-status --show-errors --peers /ip4/178.140.215.93/tcp/8302/p2p/12D3KooWJAVLXpGnokeCr5BoKELSsFnbgD2TqsH6NaKzbZtvKWuV\n",
      "Error in telemetry call: {'error': {'commit_id': '09758671a488c6bd4c8f207524d3c962fdcd5d75', 'string': 'RPC #58552 failed: \"context deadline exceeded\"'}}\n",
      "Running command: kubectl exec sushi-seed-847fbbcd7c-gxhhf -- mina advanced node-status --show-errors --peers /ip4/54.251.18.89/tcp/8302/p2p/12D3KooWDmJomVAjkXEGtDvAnJJrR7p5j4hiDK1tDpYtrbmP4cvy\n",
      "Error in telemetry call: {'error': {'commit_id': '09758671a488c6bd4c8f207524d3c962fdcd5d75', 'string': 'RPC #58553 failed: \"context deadline exceeded\"'}}\n",
      "Running command: kubectl exec sushi-seed-847fbbcd7c-gxhhf -- mina advanced node-status --show-errors --peers /ip4/51.222.154.96/tcp/8302/p2p/12D3KooW9udzgYYmgr47PWU3wKFhA4jF7cYVXYGkb7NzrmfsdSsW\n",
      "Error in telemetry call: {'error': {'commit_id': '09758671a488c6bd4c8f207524d3c962fdcd5d75', 'string': 'RPC #58554 failed: \"context deadline exceeded\"'}}\n",
      "Running command: kubectl exec sushi-seed-847fbbcd7c-gxhhf -- mina advanced node-status --show-errors --peers /ip4/135.181.192.87/tcp/10001/p2p/12D3KooWRMXtoYktAqkNFd9LkT1XpAJWryqje88owWf9v9SpaayN\n",
      "Error in telemetry call: {'error': {'commit_id': '09758671a488c6bd4c8f207524d3c962fdcd5d75', 'string': 'RPC #58555 failed: \"context deadline exceeded\"'}}\n",
      "Running command: kubectl exec sushi-seed-847fbbcd7c-gxhhf -- mina advanced node-status --show-errors --peers /ip4/135.181.164.237/tcp/8302/p2p/12D3KooWBPNp2gJstQFXdo84Xiis7vm5W5isbuQZ3ozg2vLfHY2e\n",
      "Error in telemetry call: {'error': {'commit_id': '09758671a488c6bd4c8f207524d3c962fdcd5d75', 'string': 'RPC #58556 failed: \"context deadline exceeded\"'}}\n",
      "Running command: kubectl exec sushi-seed-847fbbcd7c-gxhhf -- mina advanced node-status --show-errors --peers /ip4/34.67.0.154/tcp/8302/p2p/12D3KooWBHXkjWkGyU4bSuZf8xawZZhxPtCjThg4uXFBYpPAej4i\n",
      "Error in telemetry call: {'error': {'commit_id': '09758671a488c6bd4c8f207524d3c962fdcd5d75', 'string': 'RPC #58557 failed: \"context deadline exceeded\"'}}\n",
      "Running command: kubectl exec sushi-seed-847fbbcd7c-gxhhf -- mina advanced node-status --show-errors --peers /ip4/95.216.33.239/tcp/8302/p2p/12D3KooWBtnaqhssXgwMiyoYey76YGZ733P31ftV5MALMGD6Lrun\n",
      "Error in telemetry call: {'error': {'commit_id': '09758671a488c6bd4c8f207524d3c962fdcd5d75', 'string': 'RPC #58559 failed: \"context deadline exceeded\"'}}\n",
      "Running command: kubectl exec sushi-seed-847fbbcd7c-gxhhf -- mina advanced node-status --show-errors --peers /ip4/95.216.225.169/tcp/8302/p2p/12D3KooWD1XJw49ySWZk5VaXh8X9FtK8Vtnaug4KKM522CXeHDRA\n",
      "Error in telemetry call: {'error': {'commit_id': '09758671a488c6bd4c8f207524d3c962fdcd5d75', 'string': 'RPC #58560 failed: \"context deadline exceeded\"'}}\n",
      "Running command: kubectl exec sushi-seed-847fbbcd7c-gxhhf -- mina advanced node-status --show-errors --peers /ip4/116.203.27.196/tcp/8302/p2p/12D3KooWJYuS5u1B2tdUsfTbvXXFf9QiwMuPFJSfhf9B2MjUCFD4\n",
      "Error in telemetry call: {'error': {'commit_id': '09758671a488c6bd4c8f207524d3c962fdcd5d75', 'string': 'RPC #58561 failed: \"context deadline exceeded\"'}}\n",
      "Running command: kubectl exec sushi-seed-847fbbcd7c-gxhhf -- mina advanced node-status --show-errors --peers /ip4/178.128.196.231/tcp/8302/p2p/12D3KooWE5eF2yLrhrC1PhdFoV8fbkSet7kfD4mFsheLoHCGwKwU\n"
     ]
    },
    {
     "name": "stdout",
     "output_type": "stream",
     "text": [
      "Error in telemetry call: {'error': {'commit_id': '09758671a488c6bd4c8f207524d3c962fdcd5d75', 'string': 'RPC #58562 failed: \"context deadline exceeded\"'}}\n",
      "Running command: kubectl exec sushi-seed-847fbbcd7c-gxhhf -- mina advanced node-status --show-errors --peers /ip4/161.97.79.248/tcp/8302/p2p/12D3KooWEdw4HLALcTXJDppu7rDdQKBDFuq5UxgF6cR2uLm5Mgou\n",
      "Error in telemetry call: {'error': {'commit_id': '09758671a488c6bd4c8f207524d3c962fdcd5d75', 'string': 'RPC #58563 failed: \"context deadline exceeded\"'}}\n",
      "Running command: kubectl exec sushi-seed-847fbbcd7c-gxhhf -- mina advanced node-status --show-errors --peers /ip4/65.21.58.217/tcp/8302/p2p/12D3KooWGAoqkiomFu21Qp2Tps6SXnmMTm7Hfg189qQad7kvq6e9\n",
      "Error in telemetry call: {'error': {'commit_id': '09758671a488c6bd4c8f207524d3c962fdcd5d75', 'string': 'RPC #58564 failed: \"context deadline exceeded\"'}}\n",
      "Running command: kubectl exec sushi-seed-847fbbcd7c-gxhhf -- mina advanced node-status --show-errors --peers /ip4/157.90.32.148/tcp/10108/p2p/12D3KooWEammxSWNLYnhPX3s75Rv2NMXArS9ugR1SX59rKVoJe3n\n",
      "Error in telemetry call: {'error': {'commit_id': '09758671a488c6bd4c8f207524d3c962fdcd5d75', 'string': 'RPC #58568 failed: \"failed to dial 12D3KooWEammxSWNLYnhPX3s75Rv2NMXArS9ugR1SX59rKVoJe3n: all dials failed\\\\n  * [/ip4/157.90.32.148/tcp/10108] dial tcp4 157.90.32.148:10108: connect: connection refused\"'}}\n",
      "Running command: kubectl exec sushi-seed-847fbbcd7c-gxhhf -- mina advanced node-status --show-errors --peers /ip4/142.93.48.159/tcp/8302/p2p/12D3KooWLcACxPbQC5MHrofUeUky6AfWPtMPwENtMy8P2ySnBHEp\n",
      "Error in telemetry call: {'error': {'commit_id': '09758671a488c6bd4c8f207524d3c962fdcd5d75', 'string': 'RPC #58570 failed: \"context deadline exceeded\"'}}\n",
      "Running command: kubectl exec sushi-seed-847fbbcd7c-gxhhf -- mina advanced node-status --show-errors --peers /ip4/47.253.51.75/tcp/8302/p2p/12D3KooWCMYRhwwEwjDhHUvX347gtwW6wktfkHADGDshxcpu256V\n",
      "Error in telemetry call: {'error': {'commit_id': '09758671a488c6bd4c8f207524d3c962fdcd5d75', 'string': 'RPC #58572 failed: \"context deadline exceeded\"'}}\n",
      "Running command: kubectl exec sushi-seed-847fbbcd7c-gxhhf -- mina advanced node-status --show-errors --peers /ip4/135.181.219.28/tcp/8302/p2p/12D3KooWLp61SXAetV3M3RAMga1aFuthfoC4R3SUZU9K1cHDhzKy\n",
      "Error in telemetry call: {'error': {'commit_id': '09758671a488c6bd4c8f207524d3c962fdcd5d75', 'string': 'RPC #58573 failed: \"context deadline exceeded\"'}}\n",
      "Running command: kubectl exec sushi-seed-847fbbcd7c-gxhhf -- mina advanced node-status --show-errors --peers /ip4/138.201.33.161/tcp/8302/p2p/12D3KooWK56KNo2QVX9J45FXXszQ2GUnjZvB2L4Ahm8EaLdetD7D\n",
      "Error in telemetry call: {'error': {'commit_id': '09758671a488c6bd4c8f207524d3c962fdcd5d75', 'string': 'RPC #58574 failed: \"context deadline exceeded\"'}}\n",
      "Running command: kubectl exec sushi-seed-847fbbcd7c-gxhhf -- mina advanced node-status --show-errors --peers /ip4/135.125.183.94/tcp/8302/p2p/12D3KooWLrGqrrotyYa1kQMew7iyASRjHjLrnk3KJtQYVw9ZQhuE\n",
      "Error in telemetry call: {'error': {'commit_id': '09758671a488c6bd4c8f207524d3c962fdcd5d75', 'string': 'RPC #58576 failed: \"context deadline exceeded\"'}}\n",
      "Running command: kubectl exec sushi-seed-847fbbcd7c-gxhhf -- mina advanced node-status --show-errors --peers /ip4/34.75.16.224/tcp/10005/p2p/12D3KooWHGx4u32n42ub7dJNxAcAhwiA1WDq1Zsjn3k7RsS11pE8\n",
      "Running command: kubectl exec sushi-seed-847fbbcd7c-gxhhf -- mina advanced node-status --show-errors --peers /ip4/135.181.134.46/tcp/8302/p2p/12D3KooWHHSHFNi8Nmyun63UgjqYAou8cZGaqpS7jJNpgxRxjMQB\n",
      "Error in telemetry call: {'error': {'commit_id': '09758671a488c6bd4c8f207524d3c962fdcd5d75', 'string': 'RPC #58582 failed: \"context deadline exceeded\"'}}\n",
      "Running command: kubectl exec sushi-seed-847fbbcd7c-gxhhf -- mina advanced node-status --show-errors --peers /ip4/188.34.187.18/tcp/10001/p2p/12D3KooWQzozNTDKL7MqUh6Nh11GMA4pQhRCAsNTRWxCAzAi4VbE\n",
      "Error in telemetry call: {'error': {'commit_id': '09758671a488c6bd4c8f207524d3c962fdcd5d75', 'string': 'RPC #58584 failed: \"context deadline exceeded\"'}}\n",
      "Running command: kubectl exec sushi-seed-847fbbcd7c-gxhhf -- mina advanced node-status --show-errors --peers /ip4/161.35.226.149/tcp/8302/p2p/12D3KooWAXdJzRf1cs1be2MdWzCNaTUV9t9cTqAfeeZ6yV8S2MU6\n",
      "Error in telemetry call: {'error': {'commit_id': '09758671a488c6bd4c8f207524d3c962fdcd5d75', 'string': 'RPC #58585 failed: \"context deadline exceeded\"'}}\n",
      "Running command: kubectl exec sushi-seed-847fbbcd7c-gxhhf -- mina advanced node-status --show-errors --peers /ip4/92.53.84.145/tcp/8302/p2p/12D3KooWAnNDWPRMTaEp7yMfPUYmucbzKngrYgxbJ2D1EX8EwLJy\n",
      "Error in telemetry call: {'error': {'commit_id': '09758671a488c6bd4c8f207524d3c962fdcd5d75', 'string': 'RPC #58586 failed: \"context deadline exceeded\"'}}\n",
      "Running command: kubectl exec sushi-seed-847fbbcd7c-gxhhf -- mina advanced node-status --show-errors --peers /ip4/158.51.123.146/tcp/8302/p2p/12D3KooWHR9KfR2qGD2yBLPzTpduGquYqeoueaSN4pBGYdWZ3bPw\n",
      "Error in telemetry call: {'error': {'commit_id': '09758671a488c6bd4c8f207524d3c962fdcd5d75', 'string': 'RPC #58587 failed: \"context deadline exceeded\"'}}\n",
      "Running command: kubectl exec sushi-seed-847fbbcd7c-gxhhf -- mina advanced node-status --show-errors --peers /ip4/35.172.55.17/tcp/8302/p2p/12D3KooWJSpdLq64NyBtaiGL8XwZsMm1w5gu1BkL7K2ExF5WsDzC\n",
      "Error in telemetry call: {'error': {'commit_id': '09758671a488c6bd4c8f207524d3c962fdcd5d75', 'string': 'RPC #58588 failed: \"context deadline exceeded\"'}}\n",
      "Running command: kubectl exec sushi-seed-847fbbcd7c-gxhhf -- mina advanced node-status --show-errors --peers /ip4/199.247.27.231/tcp/8302/p2p/12D3KooWBUqquTzcqgdDZZxczEeJkS1FFAEs6ixjMonwP5o9xemB\n",
      "Error in telemetry call: {'error': {'commit_id': '09758671a488c6bd4c8f207524d3c962fdcd5d75', 'string': 'RPC #58589 failed: \"context deadline exceeded\"'}}\n",
      "Running command: kubectl exec sushi-seed-847fbbcd7c-gxhhf -- mina advanced node-status --show-errors --peers /ip4/88.13.21.181/tcp/1177/p2p/12D3KooWH9JeGaq9UwoRXeSsx6HZ7PNrDScMR3NuDgu7AdX25ZXR\n",
      "Error in telemetry call: {'error': {'commit_id': '09758671a488c6bd4c8f207524d3c962fdcd5d75', 'string': 'RPC #58590 failed: \"context deadline exceeded\"'}}\n",
      "Running command: kubectl exec sushi-seed-847fbbcd7c-gxhhf -- mina advanced node-status --show-errors --peers /ip4/207.244.224.243/tcp/8302/p2p/12D3KooWNhH57tmWenyfQTzKVj5815VHx4emL1BvuZbJEjiWjhnj\n",
      "Error in telemetry call: {'error': {'commit_id': '09758671a488c6bd4c8f207524d3c962fdcd5d75', 'string': 'RPC #58591 failed: \"context deadline exceeded\"'}}\n",
      "Running command: kubectl exec sushi-seed-847fbbcd7c-gxhhf -- mina advanced node-status --show-errors --peers /ip4/95.216.8.171/tcp/8302/p2p/12D3KooWGEJXUcQdEQygG5pkzKxMsiv9wh2Y5wNWXaonmDf82RYb\n",
      "Error in telemetry call: {'error': {'commit_id': '09758671a488c6bd4c8f207524d3c962fdcd5d75', 'string': 'RPC #58594 failed: \"context deadline exceeded\"'}}\n",
      "Running command: kubectl exec sushi-seed-847fbbcd7c-gxhhf -- mina advanced node-status --show-errors --peers /ip4/34.75.30.199/tcp/10002/p2p/12D3KooWNofeYVAJXA3WGg2qCDhs3GEe71kTmKpFQXRbZmCz1Vr7\n",
      "Error in telemetry call: {'error': {'commit_id': '09758671a488c6bd4c8f207524d3c962fdcd5d75', 'string': 'RPC #58595 failed: \"context deadline exceeded\"'}}\n",
      "Running command: kubectl exec sushi-seed-847fbbcd7c-gxhhf -- mina advanced node-status --show-errors --peers /ip4/95.216.118.154/tcp/8302/p2p/12D3KooWRcHiFQsbYgjPSxtMg4Y9ifrvmCFtJQ8Qztqd3z4L9buU\n",
      "Error in telemetry call: {'error': {'commit_id': '09758671a488c6bd4c8f207524d3c962fdcd5d75', 'string': 'RPC #58596 failed: \"context deadline exceeded\"'}}\n",
      "Running command: kubectl exec sushi-seed-847fbbcd7c-gxhhf -- mina advanced node-status --show-errors --peers /ip4/35.193.91.195/tcp/8302/p2p/12D3KooWD3KgF3viukXoCUvVX8hjKHb9tCNzaQqCqrXbeKCzM4J8\n",
      "Error in telemetry call: {'error': {'commit_id': '09758671a488c6bd4c8f207524d3c962fdcd5d75', 'string': 'RPC #58597 failed: \"context deadline exceeded\"'}}\n",
      "Running command: kubectl exec sushi-seed-847fbbcd7c-gxhhf -- mina advanced node-status --show-errors --peers /ip4/195.201.168.35/tcp/8302/p2p/12D3KooWCG6V2HxnocVGAwvsK9FVQXjkn14CSrATDBs7asMNFg7X\n",
      "Error in telemetry call: {'error': {'commit_id': '09758671a488c6bd4c8f207524d3c962fdcd5d75', 'string': 'RPC #58598 failed: \"context deadline exceeded\"'}}\n",
      "Running command: kubectl exec sushi-seed-847fbbcd7c-gxhhf -- mina advanced node-status --show-errors --peers /ip4/80.241.246.226/tcp/34194/p2p/12D3KooWRpBA9UHdNj3QayH1guaYMxEV5gkByUp3fth1YhKJQ7ou\n"
     ]
    },
    {
     "name": "stdout",
     "output_type": "stream",
     "text": [
      "Error in telemetry call: {'error': {'commit_id': '09758671a488c6bd4c8f207524d3c962fdcd5d75', 'string': 'RPC #58599 failed: \"failed to dial 12D3KooWRpBA9UHdNj3QayH1guaYMxEV5gkByUp3fth1YhKJQ7ou: all dials failed\\\\n  * [/ip4/80.241.246.226/tcp/34194] dial tcp4 80.241.246.226:34194: connect: connection refused\"'}}\n",
      "Running command: kubectl exec sushi-seed-847fbbcd7c-gxhhf -- mina advanced node-status --show-errors --peers /ip4/35.238.97.69/tcp/8302/p2p/12D3KooWKCDbhjxGfrsNJVxFvaAgK9TpBfZVdBRDPDu5W9UGhvpd\n",
      "Error in telemetry call: {'error': {'commit_id': '09758671a488c6bd4c8f207524d3c962fdcd5d75', 'string': 'RPC #58602 failed: \"context deadline exceeded\"'}}\n",
      "Running command: kubectl exec sushi-seed-847fbbcd7c-gxhhf -- mina advanced node-status --show-errors --peers /ip4/176.9.94.138/tcp/8302/p2p/12D3KooWP7gVe3JhpBywSHZUTEUUMQxMHDTc85J7aX5hh3b6xjjE\n",
      "Error in telemetry call: {'error': {'commit_id': '09758671a488c6bd4c8f207524d3c962fdcd5d75', 'string': 'RPC #58603 failed: \"context deadline exceeded\"'}}\n",
      "Running command: kubectl exec sushi-seed-847fbbcd7c-gxhhf -- mina advanced node-status --show-errors --peers /ip4/95.216.8.171/tcp/52168/p2p/12D3KooWGEJXUcQdEQygG5pkzKxMsiv9wh2Y5wNWXaonmDf82RYb\n",
      "Error in telemetry call: {'error': {'commit_id': '09758671a488c6bd4c8f207524d3c962fdcd5d75', 'string': 'RPC #58605 failed: \"context deadline exceeded\"'}}\n",
      "Running command: kubectl exec sushi-seed-847fbbcd7c-gxhhf -- mina advanced node-status --show-errors --peers /ip4/165.232.149.254/tcp/8302/p2p/12D3KooWRHqgDyw1DDdMJtXZXvGWhSNASJ4sDQmBbUTsh77MwDEy\n",
      "Error in telemetry call: {'error': {'commit_id': '09758671a488c6bd4c8f207524d3c962fdcd5d75', 'string': 'RPC #58606 failed: \"context deadline exceeded\"'}}\n",
      "Running command: kubectl exec sushi-seed-847fbbcd7c-gxhhf -- mina advanced node-status --show-errors --peers /ip4/135.125.9.224/tcp/8302/p2p/12D3KooWFn8w3ScS7XTs7mHygAk6gi8YtcDnNLPsrsX3vDAhApzf\n",
      "Error in telemetry call: {'error': {'commit_id': '09758671a488c6bd4c8f207524d3c962fdcd5d75', 'string': 'RPC #58607 failed: \"context deadline exceeded\"'}}\n",
      "Running command: kubectl exec sushi-seed-847fbbcd7c-gxhhf -- mina advanced node-status --show-errors --peers /ip4/47.89.245.142/tcp/8402/p2p/12D3KooWDpCGmrUcpUCLrrmZAW8iWM34sHTCKa8Zn2yTamJmLNpj\n",
      "Error in telemetry call: {'error': {'commit_id': '09758671a488c6bd4c8f207524d3c962fdcd5d75', 'string': 'RPC #58608 failed: \"context deadline exceeded\"'}}\n",
      "Running command: kubectl exec sushi-seed-847fbbcd7c-gxhhf -- mina advanced node-status --show-errors --peers /ip4/135.181.6.137/tcp/8302/p2p/12D3KooWHc1e9Qb6PUBYfKMsCf3BUzpBZH8yYMwyTSWdNRdmr4dP\n",
      "Error in telemetry call: {'error': {'commit_id': '09758671a488c6bd4c8f207524d3c962fdcd5d75', 'string': 'RPC #58609 failed: \"context deadline exceeded\"'}}\n",
      "Running command: kubectl exec sushi-seed-847fbbcd7c-gxhhf -- mina advanced node-status --show-errors --peers /ip4/144.126.244.221/tcp/8302/p2p/12D3KooWQHTEXCbS1xxEMFHdALBTA1uLbFPr3okXvUos57d5seHW\n",
      "Error in telemetry call: {'error': {'commit_id': '09758671a488c6bd4c8f207524d3c962fdcd5d75', 'string': 'RPC #58610 failed: \"context deadline exceeded\"'}}\n",
      "Running command: kubectl exec sushi-seed-847fbbcd7c-gxhhf -- mina advanced node-status --show-errors --peers /ip4/192.0.231.125/tcp/50122/p2p/12D3KooWRjyMkFxnMAa991X99j275uyXZ3uUzBNFJrLMssCbK1E7\n",
      "Error in telemetry call: {'error': {'commit_id': '09758671a488c6bd4c8f207524d3c962fdcd5d75', 'string': 'RPC #58611 failed: \"context deadline exceeded\"'}}\n",
      "Running command: kubectl exec sushi-seed-847fbbcd7c-gxhhf -- mina advanced node-status --show-errors --peers /ip4/35.238.97.69/tcp/54958/p2p/12D3KooWKCDbhjxGfrsNJVxFvaAgK9TpBfZVdBRDPDu5W9UGhvpd\n",
      "Error in telemetry call: {'error': {'commit_id': '09758671a488c6bd4c8f207524d3c962fdcd5d75', 'string': 'RPC #58612 failed: \"context deadline exceeded\"'}}\n",
      "Running command: kubectl exec sushi-seed-847fbbcd7c-gxhhf -- mina advanced node-status --show-errors --peers /ip4/35.203.20.242/tcp/8302/p2p/12D3KooWF1qyvi8qYDvEfrShUmLpLt2jDDuvvtHdBvy3VjzsJbec\n",
      "Error in telemetry call: {'error': {'commit_id': '09758671a488c6bd4c8f207524d3c962fdcd5d75', 'string': 'RPC #58614 failed: \"context deadline exceeded\"'}}\n",
      "Running command: kubectl exec sushi-seed-847fbbcd7c-gxhhf -- mina advanced node-status --show-errors --peers /ip4/135.125.97.60/tcp/8302/p2p/12D3KooWFvxShbQjfWocLkoFYfa1m5Be8Wb6uFSE7f1rTnf6cA5o\n",
      "Error in telemetry call: {'error': {'commit_id': '09758671a488c6bd4c8f207524d3c962fdcd5d75', 'string': 'RPC #58615 failed: \"context deadline exceeded\"'}}\n",
      "Running command: kubectl exec sushi-seed-847fbbcd7c-gxhhf -- mina advanced node-status --show-errors --peers /ip4/221.3.104.105/tcp/8302/p2p/12D3KooWBrX4bWZABya6rUAcjah2Vw9SU7Rs6CP65z8fUF8QMGhB\n",
      "Error in telemetry call: {'error': {'commit_id': '09758671a488c6bd4c8f207524d3c962fdcd5d75', 'string': 'RPC #58616 failed: \"context deadline exceeded\"'}}\n",
      "Running command: kubectl exec sushi-seed-847fbbcd7c-gxhhf -- mina advanced node-status --show-errors --peers /ip4/188.130.251.92/tcp/8302/p2p/12D3KooWF2zUjBUAsRaeyxJdf7Be3eDmqcZqbfQPdZ3qf4k7Kc6k\n",
      "Error in telemetry call: {'error': {'commit_id': '09758671a488c6bd4c8f207524d3c962fdcd5d75', 'string': 'RPC #58617 failed: \"context deadline exceeded\"'}}\n",
      "Running command: kubectl exec sushi-seed-847fbbcd7c-gxhhf -- mina advanced node-status --show-errors --peers /ip4/135.181.148.255/tcp/8302/p2p/12D3KooWDTQ4jjDRPHCa3FFh395hkeTCYKTGqcQHAEaxRTvKcPpF\n",
      "Error in telemetry call: {'error': {'commit_id': '09758671a488c6bd4c8f207524d3c962fdcd5d75', 'string': 'RPC #58618 failed: \"context deadline exceeded\"'}}\n",
      "Running command: kubectl exec sushi-seed-847fbbcd7c-gxhhf -- mina advanced node-status --show-errors --peers /ip4/51.15.193.248/tcp/8302/p2p/12D3KooWDYjisdYeffAGiTBprCNdxuGUYPn8HqF1fGqWop3twVf1\n",
      "Error in telemetry call: {'error': {'commit_id': '09758671a488c6bd4c8f207524d3c962fdcd5d75', 'string': 'RPC #58619 failed: \"failed to dial 12D3KooWDYjisdYeffAGiTBprCNdxuGUYPn8HqF1fGqWop3twVf1: all dials failed\\\\n  * [/ip4/51.15.193.248/tcp/8302] failed to negotiate security protocol: peer id mismatch: expected 12D3KooWDYjisdYeffAGiTBprCNdxuGUYPn8HqF1fGqWop3twVf1, but remote key matches 12D3KooWEBUpsCT1TU9D1bibL7n9TBHNk8Tdouf88egAGBW6QM24\"'}}\n",
      "Running command: kubectl exec sushi-seed-847fbbcd7c-gxhhf -- mina advanced node-status --show-errors --peers /ip4/86.127.248.163/tcp/8302/p2p/12D3KooWE3DUVBQ6H5eAbfZm6oS4k6tfDfKMvwqruideorQ4JJ8w\n",
      "Error in telemetry call: {'error': {'commit_id': '09758671a488c6bd4c8f207524d3c962fdcd5d75', 'string': 'RPC #58620 failed: \"context deadline exceeded\"'}}\n",
      "Running command: kubectl exec sushi-seed-847fbbcd7c-gxhhf -- mina advanced node-status --show-errors --peers /ip4/116.202.164.15/tcp/8302/p2p/12D3KooWMCxMh6eWcTC9n35wt7ZEb81FiMeutCuUnpyKgZc6m4n8\n",
      "Error in telemetry call: {'error': {'commit_id': '09758671a488c6bd4c8f207524d3c962fdcd5d75', 'string': 'RPC #58621 failed: \"context deadline exceeded\"'}}\n",
      "Running command: kubectl exec sushi-seed-847fbbcd7c-gxhhf -- mina advanced node-status --show-errors --peers /ip4/161.156.164.117/tcp/8302/p2p/12D3KooWJSGJ6bcS1WvoXueYjWEsNHi43vuzvHsLYfN5JMbGpRpZ\n",
      "Error in telemetry call: {'error': {'commit_id': '09758671a488c6bd4c8f207524d3c962fdcd5d75', 'string': 'RPC #58623 failed: \"context deadline exceeded\"'}}\n",
      "Running command: kubectl exec sushi-seed-847fbbcd7c-gxhhf -- mina advanced node-status --show-errors --peers /ip4/76.220.59.4/tcp/8302/p2p/12D3KooWDE3GWaCFvfqbGsw72JHqDpHVnzomM2EagitAs7WYcM77\n",
      "Error in telemetry call: {'error': {'commit_id': '09758671a488c6bd4c8f207524d3c962fdcd5d75', 'string': 'RPC #58624 failed: \"failed to dial 12D3KooWDE3GWaCFvfqbGsw72JHqDpHVnzomM2EagitAs7WYcM77: all dials failed\\\\n  * [/ip4/76.220.59.4/tcp/8302] dial tcp4 76.220.59.4:8302: connect: connection refused\"'}}\n",
      "Running command: kubectl exec sushi-seed-847fbbcd7c-gxhhf -- mina advanced node-status --show-errors --peers /ip4/34.67.198.189/tcp/8302/p2p/12D3KooWSA2p3ps6EgiNg9vL3p2oPJihGF1qp3qS31sSVKu3qyi6\n",
      "Error in telemetry call: {'error': {'commit_id': '09758671a488c6bd4c8f207524d3c962fdcd5d75', 'string': 'RPC #58625 failed: \"context deadline exceeded\"'}}\n",
      "Running command: kubectl exec sushi-seed-847fbbcd7c-gxhhf -- mina advanced node-status --show-errors --peers /ip4/209.126.81.95/tcp/8302/p2p/12D3KooWA5kEu4JcUKVLs4cxT4KeTCLKhLspuFCSbwSEgiSpWLd7\n"
     ]
    },
    {
     "name": "stdout",
     "output_type": "stream",
     "text": [
      "Error in telemetry call: {'error': {'commit_id': '09758671a488c6bd4c8f207524d3c962fdcd5d75', 'string': 'RPC #58626 failed: \"context deadline exceeded\"'}}\n",
      "Running command: kubectl exec sushi-seed-847fbbcd7c-gxhhf -- mina advanced node-status --show-errors --peers /ip4/80.241.246.226/tcp/8302/p2p/12D3KooWRpBA9UHdNj3QayH1guaYMxEV5gkByUp3fth1YhKJQ7ou\n",
      "Error in telemetry call: {'error': {'commit_id': '09758671a488c6bd4c8f207524d3c962fdcd5d75', 'string': 'RPC #58627 failed: \"context deadline exceeded\"'}}\n",
      "Running command: kubectl exec sushi-seed-847fbbcd7c-gxhhf -- mina advanced node-status --show-errors --peers /ip4/168.119.212.145/tcp/8302/p2p/12D3KooWEstyrM8yeVbx7TDFQPgfGe7kN74ZL9skom2sYvnmv53N\n",
      "Error in telemetry call: {'error': {'commit_id': '09758671a488c6bd4c8f207524d3c962fdcd5d75', 'string': 'RPC #58628 failed: \"context deadline exceeded\"'}}\n",
      "Running command: kubectl exec sushi-seed-847fbbcd7c-gxhhf -- mina advanced node-status --show-errors --peers /ip4/18.185.174.225/tcp/8302/p2p/12D3KooWLRYJRi3Cq6X86witS3uqpNg6D2SwGt3MFxCdYAAqFT78\n",
      "Error in telemetry call: {'error': {'commit_id': '09758671a488c6bd4c8f207524d3c962fdcd5d75', 'string': 'RPC #58631 failed: \"context deadline exceeded\"'}}\n",
      "Running command: kubectl exec sushi-seed-847fbbcd7c-gxhhf -- mina advanced node-status --show-errors --peers /ip4/45.32.21.162/tcp/8302/p2p/12D3KooWKWLmRBVJ2YYzgC997qzqCyQoXovFRRUUDHNRczAR4cur\n",
      "Error in telemetry call: {'error': {'commit_id': '09758671a488c6bd4c8f207524d3c962fdcd5d75', 'string': 'RPC #58632 failed: \"context deadline exceeded\"'}}\n",
      "Running command: kubectl exec sushi-seed-847fbbcd7c-gxhhf -- mina advanced node-status --show-errors --peers /ip4/167.99.170.248/tcp/8302/p2p/12D3KooWR7coZtrMHvsgsfiWq2GESYypac3i29LFGp6EpbtjxBiJ\n",
      "Error in telemetry call: {'error': {'commit_id': '09758671a488c6bd4c8f207524d3c962fdcd5d75', 'string': 'RPC #58634 failed: \"timed out requesting node status data from peer\"'}}\n",
      "Running command: kubectl exec sushi-seed-847fbbcd7c-gxhhf -- mina advanced node-status --show-errors --peers /ip4/88.198.26.117/tcp/8302/p2p/12D3KooWQvFe2UMds1YrFyHMR92UvQ1xxrS69boQKTiKFSCqss3j\n",
      "Error in telemetry call: {'error': {'commit_id': '09758671a488c6bd4c8f207524d3c962fdcd5d75', 'string': 'RPC #58635 failed: \"context deadline exceeded\"'}}\n",
      "Running command: kubectl exec sushi-seed-847fbbcd7c-gxhhf -- mina advanced node-status --show-errors --peers /ip4/209.145.60.202/tcp/8302/p2p/12D3KooWM2y9HzNfLHPgSmH9JgMrhouuuuEq7JHb3P7oyP5oocae\n",
      "Error in telemetry call: {'error': {'commit_id': '09758671a488c6bd4c8f207524d3c962fdcd5d75', 'string': 'RPC #58636 failed: \"context deadline exceeded\"'}}\n",
      "Running command: kubectl exec sushi-seed-847fbbcd7c-gxhhf -- mina advanced node-status --show-errors --peers /ip4/135.181.138.32/tcp/8302/p2p/12D3KooWNLteFVcWYaafEdQjF9W5MpLx9E9gv6gXKUXp1NdXwf1x\n",
      "Error in telemetry call: {'error': {'commit_id': '09758671a488c6bd4c8f207524d3c962fdcd5d75', 'string': 'RPC #58637 failed: \"context deadline exceeded\"'}}\n",
      "Running command: kubectl exec sushi-seed-847fbbcd7c-gxhhf -- mina advanced node-status --show-errors --peers /ip4/157.90.166.30/tcp/8302/p2p/12D3KooWFHGcFT9NdnToV94yMtgJyWg63DqJ1DD2U6wWjC1rYTGJ\n",
      "Error in telemetry call: {'error': {'commit_id': '09758671a488c6bd4c8f207524d3c962fdcd5d75', 'string': 'RPC #58638 failed: \"failed to dial 12D3KooWFHGcFT9NdnToV94yMtgJyWg63DqJ1DD2U6wWjC1rYTGJ: all dials failed\\\\n  * [/ip4/157.90.166.30/tcp/8302] failed to negotiate security protocol: peer id mismatch: expected 12D3KooWFHGcFT9NdnToV94yMtgJyWg63DqJ1DD2U6wWjC1rYTGJ, but remote key matches 12D3KooWBiV31MtGnAZJxz9wDiRvkUE15hCPQ5gbRefYpkYwJ7cN\"'}}\n",
      "Running command: kubectl exec sushi-seed-847fbbcd7c-gxhhf -- mina advanced node-status --show-errors --peers /ip4/188.225.87.209/tcp/1024/p2p/12D3KooWFiE5TzFdjvmWTVAAVipnzZixSe2TW7YtXRcF1aZdhSxt\n",
      "Error in telemetry call: {'error': {'commit_id': '09758671a488c6bd4c8f207524d3c962fdcd5d75', 'string': 'RPC #58639 failed: \"failed to dial 12D3KooWFiE5TzFdjvmWTVAAVipnzZixSe2TW7YtXRcF1aZdhSxt: all dials failed\\\\n  * [/ip4/188.225.87.209/tcp/1024] dial tcp4 188.225.87.209:1024: connect: connection refused\"'}}\n",
      "Running command: kubectl exec sushi-seed-847fbbcd7c-gxhhf -- mina advanced node-status --show-errors --peers /ip4/62.171.185.75/tcp/41210/p2p/12D3KooWKJUf1FKc18voFYvp4zxyt5dq1nA9HsiBWPbqfk8SMbv1\n",
      "Error in telemetry call: {'error': {'commit_id': '09758671a488c6bd4c8f207524d3c962fdcd5d75', 'string': 'RPC #58640 failed: \"context deadline exceeded\"'}}\n",
      "Running command: kubectl exec sushi-seed-847fbbcd7c-gxhhf -- mina advanced node-status --show-errors --peers /ip4/35.199.175.132/tcp/8302/p2p/12D3KooW9qa8CcihmpPbKjN1e8da1RsBS67bExgpVDD9sCjzbHfh\n",
      "Running command: kubectl exec sushi-seed-847fbbcd7c-gxhhf -- mina advanced node-status --show-errors --peers /ip4/51.79.83.151/tcp/8302/p2p/12D3KooWLKU4BZh2rU25WoyybxBTCD2kGQkEZT1w8XdwWniSBvBF\n",
      "Error in telemetry call: {'error': {'commit_id': '09758671a488c6bd4c8f207524d3c962fdcd5d75', 'string': 'RPC #58646 failed: \"context deadline exceeded\"'}}\n",
      "Running command: kubectl exec sushi-seed-847fbbcd7c-gxhhf -- mina advanced node-status --show-errors --peers /ip4/95.217.74.148/tcp/8302/p2p/12D3KooWPUQmypeJz9e3TeeEYveBGpqZ2WoHuJpjHqg8ht22QyJh\n",
      "Error in telemetry call: {'error': {'commit_id': '09758671a488c6bd4c8f207524d3c962fdcd5d75', 'string': 'RPC #58647 failed: \"context deadline exceeded\"'}}\n",
      "Running command: kubectl exec sushi-seed-847fbbcd7c-gxhhf -- mina advanced node-status --show-errors --peers /ip4/136.243.101.239/tcp/8302/p2p/12D3KooWHqmWyiQu4ofzbHAVg5xjhZyommCh4RcX74rrQa75Aqpj\n",
      "Error in telemetry call: {'error': {'commit_id': '09758671a488c6bd4c8f207524d3c962fdcd5d75', 'string': 'RPC #58648 failed: \"context deadline exceeded\"'}}\n",
      "Running command: kubectl exec sushi-seed-847fbbcd7c-gxhhf -- mina advanced node-status --show-errors --peers /ip4/46.4.66.94/tcp/8302/p2p/12D3KooWLUKhpMYFvMhzJCjc9rYpzL4GKsyHwchzKSLzd7eUD8UQ\n",
      "Error in telemetry call: {'error': {'commit_id': '09758671a488c6bd4c8f207524d3c962fdcd5d75', 'string': 'RPC #58649 failed: \"context deadline exceeded\"'}}\n",
      "Running command: kubectl exec sushi-seed-847fbbcd7c-gxhhf -- mina advanced node-status --show-errors --peers /ip4/210.245.49.112/tcp/8302/p2p/12D3KooWAvojVx7n41WFR7S8LsdV1WCh7YFeACiv5yJGA7DmvDT6\n",
      "Error in telemetry call: {'error': {'commit_id': '09758671a488c6bd4c8f207524d3c962fdcd5d75', 'string': 'RPC #58650 failed: \"context deadline exceeded\"'}}\n",
      "Running command: kubectl exec sushi-seed-847fbbcd7c-gxhhf -- mina advanced node-status --show-errors --peers /ip4/46.39.237.105/tcp/8302/p2p/12D3KooWRbdSBKYsYthPW7aqkRCNxKDAnz9upa7yobm2612K9hDB\n",
      "Error in telemetry call: {'error': {'commit_id': '09758671a488c6bd4c8f207524d3c962fdcd5d75', 'string': 'RPC #58651 failed: \"context deadline exceeded\"'}}\n",
      "Running command: kubectl exec sushi-seed-847fbbcd7c-gxhhf -- mina advanced node-status --show-errors --peers /ip4/143.198.52.247/tcp/8302/p2p/12D3KooWQuX87nDuHC9cKuaAa8J2fY8zSnedz9dkBWQzncmNnLkt\n",
      "Error in telemetry call: {'error': {'commit_id': '09758671a488c6bd4c8f207524d3c962fdcd5d75', 'string': 'RPC #58652 failed: \"context deadline exceeded\"'}}\n",
      "Running command: kubectl exec sushi-seed-847fbbcd7c-gxhhf -- mina advanced node-status --show-errors --peers /ip4/161.97.174.182/tcp/8302/p2p/12D3KooWFmz6AGDteUzM4M2FXP9cWi85eQFpKrFx8XS2j8kQm2ko\n",
      "Error in telemetry call: {'error': {'commit_id': '09758671a488c6bd4c8f207524d3c962fdcd5d75', 'string': 'RPC #58653 failed: \"context deadline exceeded\"'}}\n",
      "Running command: kubectl exec sushi-seed-847fbbcd7c-gxhhf -- mina advanced node-status --show-errors --peers /ip4/157.90.3.62/tcp/8302/p2p/12D3KooWBgYjB5h4sEXtHY8d6zLRQawsYpnAeKGeCbehQfTkQ31f\n",
      "Error in telemetry call: {'error': {'commit_id': '09758671a488c6bd4c8f207524d3c962fdcd5d75', 'string': 'RPC #58655 failed: \"context deadline exceeded\"'}}\n",
      "Running command: kubectl exec sushi-seed-847fbbcd7c-gxhhf -- mina advanced node-status --show-errors --peers /ip4/5.188.159.196/tcp/8302/p2p/12D3KooWHW4PFmhFRUPAbnBrhbaci6anGGsV5PNaZUAaNAioV623\n",
      "Error in telemetry call: {'error': {'commit_id': '09758671a488c6bd4c8f207524d3c962fdcd5d75', 'string': 'RPC #58656 failed: \"context deadline exceeded\"'}}\n",
      "Running command: kubectl exec sushi-seed-847fbbcd7c-gxhhf -- mina advanced node-status --show-errors --peers /ip4/134.122.68.228/tcp/8302/p2p/12D3KooWJvzCqU4metD1kZDrBtz7fmPQXUkh31V4KqdypR6V4wGX\n"
     ]
    },
    {
     "name": "stdout",
     "output_type": "stream",
     "text": [
      "Error in telemetry call: {'error': {'commit_id': '09758671a488c6bd4c8f207524d3c962fdcd5d75', 'string': 'RPC #58657 failed: \"context deadline exceeded\"'}}\n",
      "Running command: kubectl exec sushi-seed-847fbbcd7c-gxhhf -- mina advanced node-status --show-errors --peers /ip4/95.216.146.137/tcp/8302/p2p/12D3KooWAkB9WSsmYpHq5nB4CnVdpa7zKP9t8MYnH1tFZ1yJCumu\n",
      "Error in telemetry call: {'error': {'commit_id': '09758671a488c6bd4c8f207524d3c962fdcd5d75', 'string': 'RPC #58658 failed: \"context deadline exceeded\"'}}\n",
      "Running command: kubectl exec sushi-seed-847fbbcd7c-gxhhf -- mina advanced node-status --show-errors --peers /ip4/82.69.152.196/tcp/8302/p2p/12D3KooWPPXxH9uSSGW4nhXMzxz6sY63TH6YfgFLNXSD2EnrJDWN\n",
      "Error in telemetry call: {'error': {'commit_id': '09758671a488c6bd4c8f207524d3c962fdcd5d75', 'string': 'RPC #58659 failed: \"context deadline exceeded\"'}}\n",
      "Running command: kubectl exec sushi-seed-847fbbcd7c-gxhhf -- mina advanced node-status --show-errors --peers /ip4/47.91.18.226/tcp/8302/p2p/12D3KooWEzS2YrWJ5n35ovVYiWLTB2WUHcnWdEt6ZRbbKg99UgcP\n",
      "Error in telemetry call: {'error': {'commit_id': '09758671a488c6bd4c8f207524d3c962fdcd5d75', 'string': 'RPC #58660 failed: \"context deadline exceeded\"'}}\n",
      "Running command: kubectl exec sushi-seed-847fbbcd7c-gxhhf -- mina advanced node-status --show-errors --peers /ip4/144.126.222.99/tcp/8302/p2p/12D3KooWQmveTY26nu9HqXrGXpAmpXJeTrMdR5GAHkSHy27mmyWV\n",
      "Error in telemetry call: {'error': {'commit_id': '09758671a488c6bd4c8f207524d3c962fdcd5d75', 'string': 'RPC #58662 failed: \"context deadline exceeded\"'}}\n",
      "Running command: kubectl exec sushi-seed-847fbbcd7c-gxhhf -- mina advanced node-status --show-errors --peers /ip4/209.126.9.140/tcp/8302/p2p/12D3KooWGso2i7DrmZ9X2QyLqCU6ooq3ycvEFfokw9kxwdcj9ihm\n",
      "Error in telemetry call: {'error': {'commit_id': '09758671a488c6bd4c8f207524d3c962fdcd5d75', 'string': 'RPC #58663 failed: \"context deadline exceeded\"'}}\n",
      "Running command: kubectl exec sushi-seed-847fbbcd7c-gxhhf -- mina advanced node-status --show-errors --peers /ip4/35.196.62.247/tcp/10004/p2p/12D3KooWL1DJTigSwuKQRfQE3p7puFUqfbHjXbZJ9YBWtMNpr3GU\n",
      "Error in telemetry call: {'error': {'commit_id': '09758671a488c6bd4c8f207524d3c962fdcd5d75', 'string': 'RPC #58665 failed: \"context deadline exceeded\"'}}\n",
      "Running command: kubectl exec sushi-seed-847fbbcd7c-gxhhf -- mina advanced node-status --show-errors --peers /ip4/144.76.218.23/tcp/8302/p2p/12D3KooWC4Fq3xrszFa7G9mtzMtbc9i7auf7o9sGLexASSst7ck9\n",
      "Error in telemetry call: {'error': {'commit_id': '09758671a488c6bd4c8f207524d3c962fdcd5d75', 'string': 'RPC #58666 failed: \"context deadline exceeded\"'}}\n",
      "Running command: kubectl exec sushi-seed-847fbbcd7c-gxhhf -- mina advanced node-status --show-errors --peers /ip4/78.46.56.189/tcp/8302/p2p/12D3KooWCegCFW2HveiRPmD6FsM6uKbcFRictYZQ7ju9R1bvrN6w\n",
      "Error in telemetry call: {'error': {'commit_id': '09758671a488c6bd4c8f207524d3c962fdcd5d75', 'string': 'RPC #58667 failed: \"context deadline exceeded\"'}}\n",
      "Running command: kubectl exec sushi-seed-847fbbcd7c-gxhhf -- mina advanced node-status --show-errors --peers /ip4/3.141.7.214/tcp/8302/p2p/12D3KooWLyuTkaA3JhVPHW3UqUhnJ6SqA8ygeQeWHbJnXyvm6hHj\n",
      "Error in telemetry call: {'error': {'commit_id': '09758671a488c6bd4c8f207524d3c962fdcd5d75', 'string': 'RPC #58668 failed: \"context deadline exceeded\"'}}\n",
      "Running command: kubectl exec sushi-seed-847fbbcd7c-gxhhf -- mina advanced node-status --show-errors --peers /ip4/209.145.60.203/tcp/8302/p2p/12D3KooWQmbkJg73pK6FjKEogqxfBg7EudzQD65mHHBRVAokCreZ\n",
      "Error in telemetry call: {'error': {'commit_id': '09758671a488c6bd4c8f207524d3c962fdcd5d75', 'string': 'RPC #58669 failed: \"context deadline exceeded\"'}}\n",
      "Running command: kubectl exec sushi-seed-847fbbcd7c-gxhhf -- mina advanced node-status --show-errors --peers /ip4/95.217.192.210/tcp/8302/p2p/12D3KooWKZBrh4TR7pVhDxRSLk3E9o3jT5Jne8gZbUnRAfHypbio\n",
      "Error in telemetry call: {'error': {'commit_id': '09758671a488c6bd4c8f207524d3c962fdcd5d75', 'string': 'RPC #58670 failed: \"context deadline exceeded\"'}}\n",
      "Running command: kubectl exec sushi-seed-847fbbcd7c-gxhhf -- mina advanced node-status --show-errors --peers /ip4/88.198.25.49/tcp/8302/p2p/12D3KooWSKHdCNbUGESrXSrYuUHxJhrp5RPqhARBWKpP8zDYyBwr\n",
      "Error in telemetry call: {'error': {'commit_id': '09758671a488c6bd4c8f207524d3c962fdcd5d75', 'string': 'RPC #58671 failed: \"context deadline exceeded\"'}}\n",
      "Running command: kubectl exec sushi-seed-847fbbcd7c-gxhhf -- mina advanced node-status --show-errors --peers /ip4/5.182.209.131/tcp/8302/p2p/12D3KooWN713TYAYCJfcuonrDNUg3WJGSrMrGPuaDumy8AqkFstR\n",
      "Error in telemetry call: {'error': {'commit_id': '09758671a488c6bd4c8f207524d3c962fdcd5d75', 'string': 'RPC #58672 failed: \"context deadline exceeded\"'}}\n",
      "Running command: kubectl exec sushi-seed-847fbbcd7c-gxhhf -- mina advanced node-status --show-errors --peers /ip4/213.171.211.156/tcp/8302/p2p/12D3KooWC7oFAzxHkDUPQmGaUpWe6J7TmYhhnwSncbbFN4rnXEed\n",
      "Error in telemetry call: {'error': {'commit_id': '09758671a488c6bd4c8f207524d3c962fdcd5d75', 'string': 'RPC #58674 failed: \"context deadline exceeded\"'}}\n",
      "Running command: kubectl exec sushi-seed-847fbbcd7c-gxhhf -- mina advanced node-status --show-errors --peers /ip4/144.91.125.57/tcp/8302/p2p/12D3KooWS5opjfXgdcwHaDfnMFRuzrvSMMJGs3FjgQJ71Eo7ie5F\n",
      "Error in telemetry call: {'error': {'commit_id': '09758671a488c6bd4c8f207524d3c962fdcd5d75', 'string': 'RPC #58675 failed: \"context deadline exceeded\"'}}\n",
      "Running command: kubectl exec sushi-seed-847fbbcd7c-gxhhf -- mina advanced node-status --show-errors --peers /ip4/213.202.225.71/tcp/8302/p2p/12D3KooWKiMTzsE5KA9sQcuc5xT6w4y7nWyuUF1eB8RmJWfXmuko\n",
      "Error in telemetry call: {'error': {'commit_id': '09758671a488c6bd4c8f207524d3c962fdcd5d75', 'string': 'RPC #58676 failed: \"context deadline exceeded\"'}}\n",
      "Running command: kubectl exec sushi-seed-847fbbcd7c-gxhhf -- mina advanced node-status --show-errors --peers /ip4/34.71.94.47/tcp/10101/p2p/12D3KooWEKyizvYY86knfByTQXBTtHc86s7jQXJGtqqK6XGNt5bE\n",
      "Error in telemetry call: {'error': {'commit_id': '09758671a488c6bd4c8f207524d3c962fdcd5d75', 'string': 'RPC #58677 failed: \"dial to self attempted\"'}}\n",
      "Running command: kubectl exec sushi-seed-847fbbcd7c-gxhhf -- mina advanced node-status --show-errors --peers /ip4/58.33.9.132/tcp/8302/p2p/12D3KooWKc2YcFrjR7BUTHW7o68woERvddXL7AxVfNZgeJ4XaY5C\n",
      "Error in telemetry call: {'error': {'commit_id': '09758671a488c6bd4c8f207524d3c962fdcd5d75', 'string': 'RPC #58678 failed: \"context deadline exceeded\"'}}\n",
      "Running command: kubectl exec sushi-seed-847fbbcd7c-gxhhf -- mina advanced node-status --show-errors --peers /ip4/116.202.222.104/tcp/8302/p2p/12D3KooWDqctjZXgMJMsUS7B1JnuTDoAREZ2t4dSz1Xe1BA56NG5\n",
      "Error in telemetry call: {'error': {'commit_id': '09758671a488c6bd4c8f207524d3c962fdcd5d75', 'string': 'RPC #58679 failed: \"context deadline exceeded\"'}}\n",
      "Running command: kubectl exec sushi-seed-847fbbcd7c-gxhhf -- mina advanced node-status --show-errors --peers /ip4/134.249.187.129/tcp/1040/p2p/12D3KooWCMn2fac41mL7pkR9ips3Us6wGqkNWNoJ6f4MCDcnEeZa\n",
      "Error in telemetry call: {'error': {'commit_id': '09758671a488c6bd4c8f207524d3c962fdcd5d75', 'string': 'RPC #58681 failed: \"context deadline exceeded\"'}}\n",
      "Running command: kubectl exec sushi-seed-847fbbcd7c-gxhhf -- mina advanced node-status --show-errors --peers /ip4/143.110.214.194/tcp/8302/p2p/12D3KooWFsgXGHRuv2kyCMLYFef2uYSskDUnd3WwXboMutRHsszF\n",
      "Error in telemetry call: {'error': {'commit_id': '09758671a488c6bd4c8f207524d3c962fdcd5d75', 'string': 'RPC #58682 failed: \"context deadline exceeded\"'}}\n"
     ]
    }
   ],
   "source": [
    "observed_peers = []\n",
    "for peer in multiaddrs:\n",
    "    telemetry = get_telemetry(peer)\n",
    "    payload = {\n",
    "        \"telemetry\": telemetry,\n",
    "        \"multiaddr\": peer,\n",
    "        \"info\": {}\n",
    "    }\n",
    "    if telemetry == None:\n",
    "        print(\"No Response :(\")\n",
    "    observed_peers.append(payload)"
   ]
  },
  {
   "cell_type": "code",
   "execution_count": 4,
   "id": "warming-grant",
   "metadata": {},
   "outputs": [],
   "source": [
    "# Unpack Peers from Telemetry Responses\n",
    "for index, peer in enumerate(observed_peers): \n",
    "    if peer[\"telemetry\"] and \"peers\" in peer[\"telemetry\"]:\n",
    "        for peer in peer[\"telemetry\"][\"peers\"]:\n",
    "            multiaddr = f\"/ip4/{peer['host']}/tcp/{peer['libp2p_port']}/p2p/{peer['peer_id']}\"\n",
    "            if not next((item for item in observed_peers if item[\"multiaddr\"] == multiaddr), None): \n",
    "                payload = {\n",
    "                    \"telemetry\": {},\n",
    "                    \"multiaddr\": multiaddr,\n",
    "                    \"info\": {}\n",
    "                }\n",
    "                observed_peers.append(payload)"
   ]
  },
  {
   "cell_type": "code",
   "execution_count": 5,
   "id": "industrial-butterfly",
   "metadata": {},
   "outputs": [
    {
     "name": "stdout",
     "output_type": "stream",
     "text": [
      "Running command: kubectl exec sushi-seed-847fbbcd7c-gxhhf -- mina advanced node-status --show-errors --peers /ip4/185.67.3.103/tcp/8302/p2p/12D3KooWPMY9h2wN6uxckoRNyP9pNjkMg1ANBKLYYwK36qdZvXNR\n",
      "Error in telemetry call: {'error': {'commit_id': '09758671a488c6bd4c8f207524d3c962fdcd5d75', 'string': 'RPC #58683 failed: \"context deadline exceeded\"'}}\n",
      "Running command: kubectl exec sushi-seed-847fbbcd7c-gxhhf -- mina advanced node-status --show-errors --peers /ip4/62.171.133.104/tcp/8302/p2p/12D3KooWFBHKuquNwDVJZ76bxg1niDQH6fv787Qmpy9TLAAKUpHX\n",
      "Error in telemetry call: {'error': {'commit_id': '09758671a488c6bd4c8f207524d3c962fdcd5d75', 'string': 'RPC #58685 failed: \"context deadline exceeded\"'}}\n",
      "Running command: kubectl exec sushi-seed-847fbbcd7c-gxhhf -- mina advanced node-status --show-errors --peers /ip4/188.34.183.17/tcp/8302/p2p/12D3KooWFCDGWs9eaHd3iGirj2ForY4CGbjAiTi6VqSFQs8jt5yW\n",
      "Error in telemetry call: {'error': {'commit_id': '09758671a488c6bd4c8f207524d3c962fdcd5d75', 'string': 'RPC #58686 failed: \"context deadline exceeded\"'}}\n",
      "Running command: kubectl exec sushi-seed-847fbbcd7c-gxhhf -- mina advanced node-status --show-errors --peers /ip4/35.226.250.48/tcp/8302/p2p/12D3KooWMvU6gQyz272PmRnEvxQpFARHCszm7phA1LXjQUaGd9fR\n",
      "Error in telemetry call: {'error': {'commit_id': '09758671a488c6bd4c8f207524d3c962fdcd5d75', 'string': 'RPC #58687 failed: \"context deadline exceeded\"'}}\n",
      "Running command: kubectl exec sushi-seed-847fbbcd7c-gxhhf -- mina advanced node-status --show-errors --peers /ip4/51.222.11.200/tcp/8302/p2p/12D3KooWEEjqKmkdwFJLKpcokjMkWhNXVaFwykqy4AdctfYpSE1N\n",
      "Error in telemetry call: {'error': {'commit_id': '09758671a488c6bd4c8f207524d3c962fdcd5d75', 'string': 'RPC #58688 failed: \"context deadline exceeded\"'}}\n",
      "Running command: kubectl exec sushi-seed-847fbbcd7c-gxhhf -- mina advanced node-status --show-errors --peers /ip4/195.9.221.217/tcp/8302/p2p/12D3KooWCNxniF4qwDFhGXtyatgBgszBXif5UJah5bBYvztJ9dyh\n",
      "Error in telemetry call: {'error': {'commit_id': '09758671a488c6bd4c8f207524d3c962fdcd5d75', 'string': 'RPC #58689 failed: \"context deadline exceeded\"'}}\n",
      "Running command: kubectl exec sushi-seed-847fbbcd7c-gxhhf -- mina advanced node-status --show-errors --peers /ip4/95.179.137.226/tcp/8302/p2p/12D3KooWHxe9YJKpKWJ2N33b6wjmBiJdiSi2X1owwAi3KkubT52R\n",
      "Error in telemetry call: {'error': {'commit_id': '09758671a488c6bd4c8f207524d3c962fdcd5d75', 'string': 'RPC #58690 failed: \"context deadline exceeded\"'}}\n",
      "Running command: kubectl exec sushi-seed-847fbbcd7c-gxhhf -- mina advanced node-status --show-errors --peers /ip4/138.68.164.172/tcp/8302/p2p/12D3KooWBd8XDBDk8G3CupPFZiV8SKTofFd8bUdJSavNwizSPQ5t\n",
      "Error in telemetry call: {'error': {'commit_id': '09758671a488c6bd4c8f207524d3c962fdcd5d75', 'string': 'RPC #58692 failed: \"context deadline exceeded\"'}}\n",
      "Running command: kubectl exec sushi-seed-847fbbcd7c-gxhhf -- mina advanced node-status --show-errors --peers /ip4/157.90.133.49/tcp/8302/p2p/12D3KooWBf7LTCwYRA3voGt8eiAvRhyJxKR1QPnngHyU8vKGFeSK\n",
      "Error in telemetry call: {'error': {'commit_id': '09758671a488c6bd4c8f207524d3c962fdcd5d75', 'string': 'RPC #58693 failed: \"context deadline exceeded\"'}}\n",
      "Running command: kubectl exec sushi-seed-847fbbcd7c-gxhhf -- mina advanced node-status --show-errors --peers /ip4/135.181.5.47/tcp/8302/p2p/12D3KooWNfvC5sAdeKRYuzjxHtKQ4Etef7hx1rpas4dC193REz8b\n",
      "Error in telemetry call: {'error': {'commit_id': '09758671a488c6bd4c8f207524d3c962fdcd5d75', 'string': 'RPC #58695 failed: \"context deadline exceeded\"'}}\n",
      "Running command: kubectl exec sushi-seed-847fbbcd7c-gxhhf -- mina advanced node-status --show-errors --peers /ip4/178.170.42.23/tcp/8302/p2p/12D3KooWS5dA4D5EkvzbGxpC8zzjV1hQjXViiRfrJwmWNhVix23s\n",
      "Error in telemetry call: {'error': {'commit_id': '09758671a488c6bd4c8f207524d3c962fdcd5d75', 'string': 'RPC #58696 failed: \"context deadline exceeded\"'}}\n",
      "Running command: kubectl exec sushi-seed-847fbbcd7c-gxhhf -- mina advanced node-status --show-errors --peers /ip4/158.51.123.153/tcp/8302/p2p/12D3KooWNvCzqhw4ZM26B8JK4KKxixFjuEyRC8urEekbDber8USL\n",
      "Error in telemetry call: {'error': {'commit_id': '09758671a488c6bd4c8f207524d3c962fdcd5d75', 'string': 'RPC #58697 failed: \"context deadline exceeded\"'}}\n",
      "Running command: kubectl exec sushi-seed-847fbbcd7c-gxhhf -- mina advanced node-status --show-errors --peers /ip4/62.171.185.75/tcp/8302/p2p/12D3KooWKJUf1FKc18voFYvp4zxyt5dq1nA9HsiBWPbqfk8SMbv1\n",
      "Error in telemetry call: {'error': {'commit_id': '09758671a488c6bd4c8f207524d3c962fdcd5d75', 'string': 'RPC #58698 failed: \"context deadline exceeded\"'}}\n",
      "Running command: kubectl exec sushi-seed-847fbbcd7c-gxhhf -- mina advanced node-status --show-errors --peers /ip4/202.120.1.63/tcp/8302/p2p/12D3KooWL76r9SGUrRg185HQdUpknck916No1n1BB4BuSkpz2mS1\n",
      "Error in telemetry call: {'error': {'commit_id': '09758671a488c6bd4c8f207524d3c962fdcd5d75', 'string': 'RPC #58699 failed: \"context deadline exceeded\"'}}\n",
      "Running command: kubectl exec sushi-seed-847fbbcd7c-gxhhf -- mina advanced node-status --show-errors --peers /ip4/95.217.194.239/tcp/8302/p2p/12D3KooWRFF3GUJXdhdd6tqxnikdUzQjiGq9opDExPXXtESuFMWb\n",
      "Error in telemetry call: {'error': {'commit_id': '09758671a488c6bd4c8f207524d3c962fdcd5d75', 'string': 'RPC #58700 failed: \"context deadline exceeded\"'}}\n",
      "Running command: kubectl exec sushi-seed-847fbbcd7c-gxhhf -- mina advanced node-status --show-errors --peers /ip4/3.112.26.239/tcp/8302/p2p/12D3KooWCmHz7nod6LF2aMtRrCJCgyv9DAynLfHKF3NAHWgDeiVQ\n",
      "Error in telemetry call: {'error': {'commit_id': '09758671a488c6bd4c8f207524d3c962fdcd5d75', 'string': 'RPC #58701 failed: \"context deadline exceeded\"'}}\n",
      "Running command: kubectl exec sushi-seed-847fbbcd7c-gxhhf -- mina advanced node-status --show-errors --peers /ip4/135.181.208.166/tcp/8302/p2p/12D3KooWSsrVmJKzcnBfcNtKdsujwxvXM1iJN2pRKuwpTprJvhx3\n",
      "Error in telemetry call: {'error': {'commit_id': '09758671a488c6bd4c8f207524d3c962fdcd5d75', 'string': 'RPC #58705 failed: \"context deadline exceeded\"'}}\n",
      "Running command: kubectl exec sushi-seed-847fbbcd7c-gxhhf -- mina advanced node-status --show-errors --peers /ip4/185.25.49.250/tcp/8302/p2p/12D3KooWKT9g1fvUF5VmyN25isWw5pvpAbTaiXxM5iVTjpAWgpZ1\n",
      "Error in telemetry call: {'error': {'commit_id': '09758671a488c6bd4c8f207524d3c962fdcd5d75', 'string': 'RPC #58707 failed: \"context deadline exceeded\"'}}\n",
      "Running command: kubectl exec sushi-seed-847fbbcd7c-gxhhf -- mina advanced node-status --show-errors --peers /ip4/157.90.32.97/tcp/8302/p2p/12D3KooWDk1kkpsWtBuDmgYFwSRDtuKpG4sRKfduxwMABdRd8VYP\n",
      "Error in telemetry call: {'error': {'commit_id': '09758671a488c6bd4c8f207524d3c962fdcd5d75', 'string': 'RPC #58708 failed: \"context deadline exceeded\"'}}\n",
      "Running command: kubectl exec sushi-seed-847fbbcd7c-gxhhf -- mina advanced node-status --show-errors --peers /ip4/188.34.207.147/tcp/8302/p2p/12D3KooWKyfjA6hJHpSCuC4YdaBB5sXKfEFrn2iNnkapiNrYN8HN\n",
      "Error in telemetry call: {'error': {'commit_id': '09758671a488c6bd4c8f207524d3c962fdcd5d75', 'string': 'RPC #58709 failed: \"context deadline exceeded\"'}}\n",
      "Running command: kubectl exec sushi-seed-847fbbcd7c-gxhhf -- mina advanced node-status --show-errors --peers /ip4/157.90.179.34/tcp/8302/p2p/12D3KooWPJsng1G5m9XM6RUAoE8rhDCWNYodE7fctBrNvUNbYuKo\n",
      "Error in telemetry call: {'error': {'commit_id': '09758671a488c6bd4c8f207524d3c962fdcd5d75', 'string': 'RPC #58710 failed: \"context deadline exceeded\"'}}\n",
      "Running command: kubectl exec sushi-seed-847fbbcd7c-gxhhf -- mina advanced node-status --show-errors --peers /ip4/95.217.72.185/tcp/8302/p2p/12D3KooWSgGUeZpD4GNAY5VvHe5byo9L7YkMqc48Ce1N3hHfzZqY\n",
      "Error in telemetry call: {'error': {'commit_id': '09758671a488c6bd4c8f207524d3c962fdcd5d75', 'string': 'RPC #58711 failed: \"context deadline exceeded\"'}}\n",
      "Running command: kubectl exec sushi-seed-847fbbcd7c-gxhhf -- mina advanced node-status --show-errors --peers /ip4/95.216.99.249/tcp/8302/p2p/12D3KooWM1HCqH57vUAgjYyZdnEfxFe4AyiNtTepPToPrzpxY981\n",
      "Error in telemetry call: {'error': {'commit_id': '09758671a488c6bd4c8f207524d3c962fdcd5d75', 'string': 'RPC #58712 failed: \"context deadline exceeded\"'}}\n",
      "Running command: kubectl exec sushi-seed-847fbbcd7c-gxhhf -- mina advanced node-status --show-errors --peers /ip4/31.20.7.76/tcp/8302/p2p/12D3KooWH2akF49EvajRhymjeQPop4guajGBmjV8cadXzHk7Ldj1\n"
     ]
    },
    {
     "name": "stdout",
     "output_type": "stream",
     "text": [
      "Error in telemetry call: {'error': {'commit_id': '09758671a488c6bd4c8f207524d3c962fdcd5d75', 'string': 'RPC #58713 failed: \"failed to dial 12D3KooWH2akF49EvajRhymjeQPop4guajGBmjV8cadXzHk7Ldj1: all dials failed\\\\n  * [/ip4/31.20.7.76/tcp/8302] failed to negotiate security protocol: peer id mismatch: expected 12D3KooWH2akF49EvajRhymjeQPop4guajGBmjV8cadXzHk7Ldj1, but remote key matches 12D3KooWA1HfP3j67EX91VbRGgJwJYu3QfwKpS6sWXKuKmixJbES\"'}}\n",
      "Running command: kubectl exec sushi-seed-847fbbcd7c-gxhhf -- mina advanced node-status --show-errors --peers /ip4/144.76.145.150/tcp/8302/p2p/12D3KooWMNeysqcnNsXNb5iTL3AFapjmJmpxyVb6hh4mpLHhvBCC\n",
      "Error in telemetry call: {'error': {'commit_id': '09758671a488c6bd4c8f207524d3c962fdcd5d75', 'string': 'RPC #58714 failed: \"context deadline exceeded\"'}}\n",
      "Running command: kubectl exec sushi-seed-847fbbcd7c-gxhhf -- mina advanced node-status --show-errors --peers /ip4/136.243.154.215/tcp/8302/p2p/12D3KooWKU3dsHQaJe2ATa22xxcKESTmjeKtEBvVPYEpfC4QXdmT\n",
      "Error in telemetry call: {'error': {'commit_id': '09758671a488c6bd4c8f207524d3c962fdcd5d75', 'string': 'RPC #58716 failed: \"context deadline exceeded\"'}}\n",
      "Running command: kubectl exec sushi-seed-847fbbcd7c-gxhhf -- mina advanced node-status --show-errors --peers /ip4/135.181.138.33/tcp/8302/p2p/12D3KooWBgYtbfgRNJHyNRq3tbPr5T25aQF6WE77TLP42RpgH7yA\n",
      "Error in telemetry call: {'error': {'commit_id': '09758671a488c6bd4c8f207524d3c962fdcd5d75', 'string': 'RPC #58718 failed: \"context deadline exceeded\"'}}\n",
      "Running command: kubectl exec sushi-seed-847fbbcd7c-gxhhf -- mina advanced node-status --show-errors --peers /ip4/206.189.105.166/tcp/8302/p2p/12D3KooWMKJ8NkgZGsbDvamhwcyCxWu2fy7VQjhragGcpCZRZfuP\n",
      "Error in telemetry call: {'error': {'commit_id': '09758671a488c6bd4c8f207524d3c962fdcd5d75', 'string': 'RPC #58719 failed: \"context deadline exceeded\"'}}\n",
      "Running command: kubectl exec sushi-seed-847fbbcd7c-gxhhf -- mina advanced node-status --show-errors --peers /ip4/209.222.97.151/tcp/8302/p2p/12D3KooWS5y6Yq5Qk6sdmoZCkoNeAQwNpQ7wtUDuDkaw7Q98eaUp\n",
      "Error in telemetry call: {'error': {'commit_id': '09758671a488c6bd4c8f207524d3c962fdcd5d75', 'string': 'RPC #58720 failed: \"context deadline exceeded\"'}}\n",
      "Running command: kubectl exec sushi-seed-847fbbcd7c-gxhhf -- mina advanced node-status --show-errors --peers /ip4/35.237.200.68/tcp/10003/p2p/12D3KooWEdBiTUQqxp3jeuWaZkwiSNcFxC6d6Tdq7u2Lf2ZD2Q6X\n",
      "Running command: kubectl exec sushi-seed-847fbbcd7c-gxhhf -- mina advanced node-status --show-errors --peers /ip4/173.254.205.202/tcp/8302/p2p/12D3KooWFSCzFYiFcoTVVxzXskBQEqJW72G2AgUWqY53pLk1SBSc\n",
      "Error in telemetry call: {'error': {'commit_id': '09758671a488c6bd4c8f207524d3c962fdcd5d75', 'string': 'RPC #58722 failed: \"context deadline exceeded\"'}}\n",
      "Running command: kubectl exec sushi-seed-847fbbcd7c-gxhhf -- mina advanced node-status --show-errors --peers /ip4/195.201.106.113/tcp/8302/p2p/12D3KooWMMdrVq7BgVxQsASLTLaWuWzQ8BESsWyqFZMTZBsHnQrP\n",
      "Error in telemetry call: {'error': {'commit_id': '09758671a488c6bd4c8f207524d3c962fdcd5d75', 'string': 'RPC #58723 failed: \"context deadline exceeded\"'}}\n",
      "Running command: kubectl exec sushi-seed-847fbbcd7c-gxhhf -- mina advanced node-status --show-errors --peers /ip4/142.93.100.73/tcp/8302/p2p/12D3KooWF4T33v9JLU7fJpXn64DRZ3wSD7mG4qva2jX4P6vDSjpr\n",
      "Error in telemetry call: {'error': {'commit_id': '09758671a488c6bd4c8f207524d3c962fdcd5d75', 'string': 'RPC #58725 failed: \"context deadline exceeded\"'}}\n",
      "Running command: kubectl exec sushi-seed-847fbbcd7c-gxhhf -- mina advanced node-status --show-errors --peers /ip4/35.195.19.147/tcp/8302/p2p/12D3KooWCvQoiBVwUwaZPsceVhXq529td28PpMetmVq3c1PWK9jv\n",
      "Error in telemetry call: {'error': {'commit_id': '09758671a488c6bd4c8f207524d3c962fdcd5d75', 'string': 'RPC #58726 failed: \"context deadline exceeded\"'}}\n",
      "Running command: kubectl exec sushi-seed-847fbbcd7c-gxhhf -- mina advanced node-status --show-errors --peers /ip4/34.67.216.182/tcp/8302/p2p/12D3KooWFMRuh2vq2o4Jnmcqgugycp1y4x1K8Su9GNpEzLYgrmQH\n",
      "Error in telemetry call: {'error': {'commit_id': '09758671a488c6bd4c8f207524d3c962fdcd5d75', 'string': 'RPC #58728 failed: \"context deadline exceeded\"'}}\n",
      "Running command: kubectl exec sushi-seed-847fbbcd7c-gxhhf -- mina advanced node-status --show-errors --peers /ip4/119.125.135.86/tcp/8302/p2p/12D3KooWDEntKNyDBYWTSrSDA1y24Bey9EE7yEVGXgaGbi3ZWfDD\n",
      "Error in telemetry call: {'error': {'commit_id': '09758671a488c6bd4c8f207524d3c962fdcd5d75', 'string': 'RPC #58729 failed: \"context deadline exceeded\"'}}\n",
      "Running command: kubectl exec sushi-seed-847fbbcd7c-gxhhf -- mina advanced node-status --show-errors --peers /ip4/65.21.63.171/tcp/8302/p2p/12D3KooWLgif7FPzeeGjLAVBm4psUWoE27E5RUBzXTNq3rdz57dG\n",
      "Error in telemetry call: {'error': {'commit_id': '09758671a488c6bd4c8f207524d3c962fdcd5d75', 'string': 'RPC #58730 failed: \"context deadline exceeded\"'}}\n",
      "Running command: kubectl exec sushi-seed-847fbbcd7c-gxhhf -- mina advanced node-status --show-errors --peers /ip4/135.181.5.54/tcp/8302/p2p/12D3KooWEJnbN8pHWpLrvhDb74yURKXBhDeHDjxw7DhkjNx3PaX1\n",
      "Error in telemetry call: {'error': {'commit_id': '09758671a488c6bd4c8f207524d3c962fdcd5d75', 'string': 'RPC #58731 failed: \"context deadline exceeded\"'}}\n",
      "Running command: kubectl exec sushi-seed-847fbbcd7c-gxhhf -- mina advanced node-status --show-errors --peers /ip4/51.178.162.71/tcp/30103/p2p/12D3KooWDhD6T4LqHzEUADsummRh2qwSBFDNCFHD7LmFhsevcJhu\n",
      "Error in telemetry call: {'error': {'commit_id': '09758671a488c6bd4c8f207524d3c962fdcd5d75', 'string': 'RPC #58732 failed: \"context deadline exceeded\"'}}\n",
      "Running command: kubectl exec sushi-seed-847fbbcd7c-gxhhf -- mina advanced node-status --show-errors --peers /ip4/109.238.14.13/tcp/8302/p2p/12D3KooWGGJVHJQ7eSTVcGbZ6Mbv4bguP7RLRtmJH3wyF2iHRZLQ\n",
      "Error in telemetry call: {'error': {'commit_id': '09758671a488c6bd4c8f207524d3c962fdcd5d75', 'string': 'RPC #58733 failed: \"failed to dial 12D3KooWGGJVHJQ7eSTVcGbZ6Mbv4bguP7RLRtmJH3wyF2iHRZLQ: all dials failed\\\\n  * [/ip4/109.238.14.13/tcp/8302] dial tcp4 109.238.14.13:8302: connect: connection refused\"'}}\n",
      "Running command: kubectl exec sushi-seed-847fbbcd7c-gxhhf -- mina advanced node-status --show-errors --peers /ip4/122.55.206.45/tcp/8302/p2p/12D3KooWKv1KtSqUW6NMuw1V1SamkhUj1GZwnTAaxmasSupkNUMH\n",
      "Error in telemetry call: {'error': {'commit_id': '09758671a488c6bd4c8f207524d3c962fdcd5d75', 'string': 'RPC #58734 failed: \"context deadline exceeded\"'}}\n",
      "Running command: kubectl exec sushi-seed-847fbbcd7c-gxhhf -- mina advanced node-status --show-errors --peers /ip4/159.69.85.164/tcp/8302/p2p/12D3KooWNbzaAasw6Lz2KHsoR63oVxSjPS2mQcRk8RK5p6NHtXwR\n",
      "Error in telemetry call: {'error': {'commit_id': '09758671a488c6bd4c8f207524d3c962fdcd5d75', 'string': 'RPC #58735 failed: \"context deadline exceeded\"'}}\n",
      "Running command: kubectl exec sushi-seed-847fbbcd7c-gxhhf -- mina advanced node-status --show-errors --peers /ip4/46.4.213.196/tcp/8302/p2p/12D3KooWHkbg9EXR4EABdbnTzQriX9WDZRc9txAGKUWtdme32CDG\n",
      "Error in telemetry call: {'error': {'commit_id': '09758671a488c6bd4c8f207524d3c962fdcd5d75', 'string': 'RPC #58737 failed: \"context deadline exceeded\"'}}\n",
      "Running command: kubectl exec sushi-seed-847fbbcd7c-gxhhf -- mina advanced node-status --show-errors --peers /ip4/143.198.78.127/tcp/8302/p2p/12D3KooWJ1pvXDCJ6rMT9aYFwtzC2c9SMsTc6KM7dZczbeSd9FBx\n",
      "Error in telemetry call: {'error': {'commit_id': '09758671a488c6bd4c8f207524d3c962fdcd5d75', 'string': 'RPC #58738 failed: \"context deadline exceeded\"'}}\n",
      "Running command: kubectl exec sushi-seed-847fbbcd7c-gxhhf -- mina advanced node-status --show-errors --peers /ip4/195.248.182.119/tcp/8302/p2p/12D3KooWASY3q1qSdo6j1Xr3x3RuL3qPDw563EUgHB7Lp8Bf5PWy\n",
      "Error in telemetry call: {'error': {'commit_id': '09758671a488c6bd4c8f207524d3c962fdcd5d75', 'string': 'RPC #58739 failed: \"context deadline exceeded\"'}}\n",
      "Running command: kubectl exec sushi-seed-847fbbcd7c-gxhhf -- mina advanced node-status --show-errors --peers /ip4/78.46.149.52/tcp/8302/p2p/12D3KooWQ4LtYBAixa41AAj94tdYi1go5aSk5w5JqSGeLFT1ADcK\n",
      "Error in telemetry call: {'error': {'commit_id': '09758671a488c6bd4c8f207524d3c962fdcd5d75', 'string': 'RPC #58740 failed: \"context deadline exceeded\"'}}\n",
      "Running command: kubectl exec sushi-seed-847fbbcd7c-gxhhf -- mina advanced node-status --show-errors --peers /ip4/52.11.186.247/tcp/8302/p2p/12D3KooWDkp86jLkDEJWaLvwRD6JS33hW9Q7K1vbgdU1tAdj6ySM\n"
     ]
    },
    {
     "name": "stdout",
     "output_type": "stream",
     "text": [
      "Error in telemetry call: {'error': {'commit_id': '09758671a488c6bd4c8f207524d3c962fdcd5d75', 'string': 'RPC #58741 failed: \"failed to dial 12D3KooWDkp86jLkDEJWaLvwRD6JS33hW9Q7K1vbgdU1tAdj6ySM: all dials failed\\\\n  * [/ip4/52.11.186.247/tcp/8302] failed to negotiate security protocol: peer id mismatch: expected 12D3KooWDkp86jLkDEJWaLvwRD6JS33hW9Q7K1vbgdU1tAdj6ySM, but remote key matches 12D3KooWBov1SERpqMJpZZD2Pq3aW8hJZY5GXnRnMT5W4BACAoS9\"'}}\n",
      "Running command: kubectl exec sushi-seed-847fbbcd7c-gxhhf -- mina advanced node-status --show-errors --peers /ip4/157.90.130.253/tcp/8302/p2p/12D3KooWM9Y3TSZZT5mmbeVyzFb5NrjEqMeTXTEk9n5HfSjDkhZN\n",
      "Error in telemetry call: {'error': {'commit_id': '09758671a488c6bd4c8f207524d3c962fdcd5d75', 'string': 'RPC #58742 failed: \"context deadline exceeded\"'}}\n",
      "Running command: kubectl exec sushi-seed-847fbbcd7c-gxhhf -- mina advanced node-status --show-errors --peers /ip4/51.222.11.196/tcp/8302/p2p/12D3KooWPX1ymnhSNyZCve8UttJzW1wfB4QUp6mxs7uC1wWWN67a\n",
      "Error in telemetry call: {'error': {'commit_id': '09758671a488c6bd4c8f207524d3c962fdcd5d75', 'string': 'RPC #58743 failed: \"context deadline exceeded\"'}}\n",
      "Running command: kubectl exec sushi-seed-847fbbcd7c-gxhhf -- mina advanced node-status --show-errors --peers /ip4/95.217.134.250/tcp/8302/p2p/12D3KooWMdmAhp3kYXiW5qCPw6moUqHmb9Z99j5Enb9oY5UrLR3K\n",
      "Error in telemetry call: {'error': {'commit_id': '09758671a488c6bd4c8f207524d3c962fdcd5d75', 'string': 'RPC #58744 failed: \"context deadline exceeded\"'}}\n",
      "Running command: kubectl exec sushi-seed-847fbbcd7c-gxhhf -- mina advanced node-status --show-errors --peers /ip4/135.181.116.109/tcp/8302/p2p/12D3KooWKzrBPb89DPExZz9EWGPBib1rvGqfwf2oe7XRfxHWztUU\n",
      "Error in telemetry call: {'error': {'commit_id': '09758671a488c6bd4c8f207524d3c962fdcd5d75', 'string': 'RPC #58745 failed: \"context deadline exceeded\"'}}\n",
      "Running command: kubectl exec sushi-seed-847fbbcd7c-gxhhf -- mina advanced node-status --show-errors --peers /ip4/195.201.173.222/tcp/8302/p2p/12D3KooWRPCBUhqDASsn83P7WVd5pSgGV2exEvDAMkTj8e5Hq7ed\n",
      "Error in telemetry call: {'error': {'commit_id': '09758671a488c6bd4c8f207524d3c962fdcd5d75', 'string': 'RPC #58747 failed: \"context deadline exceeded\"'}}\n",
      "Running command: kubectl exec sushi-seed-847fbbcd7c-gxhhf -- mina advanced node-status --show-errors --peers /ip4/138.201.8.177/tcp/8302/p2p/12D3KooWC9WzQwWZ4FDVDpSSxKrmLC1Z6Rig6C9pLn8Agmt1DTw2\n",
      "Error in telemetry call: {'error': {'commit_id': '09758671a488c6bd4c8f207524d3c962fdcd5d75', 'string': 'RPC #58748 failed: \"context deadline exceeded\"'}}\n",
      "Running command: kubectl exec sushi-seed-847fbbcd7c-gxhhf -- mina advanced node-status --show-errors --peers /ip4/13.57.203.192/tcp/8302/p2p/12D3KooWGgYKGRx1KgrixAAn4eeuN1sZt8Z4kwjL4EKrV8HDgUDT\n",
      "Error in telemetry call: {'error': {'commit_id': '09758671a488c6bd4c8f207524d3c962fdcd5d75', 'string': 'RPC #58749 failed: \"context deadline exceeded\"'}}\n",
      "Running command: kubectl exec sushi-seed-847fbbcd7c-gxhhf -- mina advanced node-status --show-errors --peers /ip4/143.198.74.121/tcp/8302/p2p/12D3KooWPoaNwaV1nm3PD2v7kx6ybX8mx26GSco7Ujg2wKrn8RPe\n",
      "Error in telemetry call: {'error': {'commit_id': '09758671a488c6bd4c8f207524d3c962fdcd5d75', 'string': 'RPC #58750 failed: \"context deadline exceeded\"'}}\n",
      "Running command: kubectl exec sushi-seed-847fbbcd7c-gxhhf -- mina advanced node-status --show-errors --peers /ip4/135.181.166.45/tcp/8302/p2p/12D3KooWCM4xML3Ck5XniskxWdu1gwMFY59qd2Wf6cesN6frnJeu\n",
      "Error in telemetry call: {'error': {'commit_id': '09758671a488c6bd4c8f207524d3c962fdcd5d75', 'string': 'RPC #58751 failed: \"context deadline exceeded\"'}}\n",
      "Running command: kubectl exec sushi-seed-847fbbcd7c-gxhhf -- mina advanced node-status --show-errors --peers /ip4/54.39.19.187/tcp/8302/p2p/12D3KooWLBPJDJ1hbCozYMGjeVKydmM1kJp1zKZbhVUQ1ozEdtVy\n",
      "Error in telemetry call: {'error': {'commit_id': '09758671a488c6bd4c8f207524d3c962fdcd5d75', 'string': 'RPC #58752 failed: \"context deadline exceeded\"'}}\n",
      "Running command: kubectl exec sushi-seed-847fbbcd7c-gxhhf -- mina advanced node-status --show-errors --peers /ip4/135.181.2.31/tcp/8302/p2p/12D3KooWMZ3TErNzre17p8b9qkkf2yCdkDv6ysa7D9yiP2EcV3Fw\n",
      "Error in telemetry call: {'error': {'commit_id': '09758671a488c6bd4c8f207524d3c962fdcd5d75', 'string': 'RPC #58754 failed: \"context deadline exceeded\"'}}\n",
      "Running command: kubectl exec sushi-seed-847fbbcd7c-gxhhf -- mina advanced node-status --show-errors --peers /ip4/18.192.158.35/tcp/8302/p2p/12D3KooWLndDGpPCQEaXZyH5G51BQgPSwg1SZ3fCgLq2QVns2fuu\n",
      "Error in telemetry call: {'error': {'commit_id': '09758671a488c6bd4c8f207524d3c962fdcd5d75', 'string': 'RPC #58755 failed: \"context deadline exceeded\"'}}\n",
      "Running command: kubectl exec sushi-seed-847fbbcd7c-gxhhf -- mina advanced node-status --show-errors --peers /ip4/95.217.204.33/tcp/8302/p2p/12D3KooWA8oAxUz7G6DfaAV3S2WkGv4U8c6kMMsiA1pyhWGcZL5W\n",
      "Error in telemetry call: {'error': {'commit_id': '09758671a488c6bd4c8f207524d3c962fdcd5d75', 'string': 'RPC #58757 failed: \"context deadline exceeded\"'}}\n",
      "Running command: kubectl exec sushi-seed-847fbbcd7c-gxhhf -- mina advanced node-status --show-errors --peers /ip4/34.67.210.243/tcp/8302/p2p/12D3KooWSwApiVVEtMKL6yE3ES3CJdXD6a21B7MSgAf16CXJ91a5\n",
      "Error in telemetry call: {'error': {'commit_id': '09758671a488c6bd4c8f207524d3c962fdcd5d75', 'string': 'RPC #58762 failed: \"context deadline exceeded\"'}}\n",
      "Running command: kubectl exec sushi-seed-847fbbcd7c-gxhhf -- mina advanced node-status --show-errors --peers /ip4/188.34.188.68/tcp/8302/p2p/12D3KooWQHviwpjYVvZgJNrFDPGPetUWX9Ydi4PUYsn5GhHWEUdA\n",
      "Error in telemetry call: {'error': {'commit_id': '09758671a488c6bd4c8f207524d3c962fdcd5d75', 'string': 'RPC #58764 failed: \"context deadline exceeded\"'}}\n",
      "Running command: kubectl exec sushi-seed-847fbbcd7c-gxhhf -- mina advanced node-status --show-errors --peers /ip4/76.69.39.137/tcp/8302/p2p/12D3KooWLoTHLaicCBmyA7vRXmRibdzm2wRxo2KpBqoFeoiqC1JQ\n",
      "Error in telemetry call: {'error': {'commit_id': '09758671a488c6bd4c8f207524d3c962fdcd5d75', 'string': 'RPC #58765 failed: \"context deadline exceeded\"'}}\n",
      "Running command: kubectl exec sushi-seed-847fbbcd7c-gxhhf -- mina advanced node-status --show-errors --peers /ip4/123.58.216.93/tcp/8302/p2p/12D3KooWRqdbJszoX6AB2E47KR45Kex1RptichA2MDkNSCqX5eb4\n",
      "Error in telemetry call: {'error': {'commit_id': '09758671a488c6bd4c8f207524d3c962fdcd5d75', 'string': 'RPC #58766 failed: \"context deadline exceeded\"'}}\n",
      "Running command: kubectl exec sushi-seed-847fbbcd7c-gxhhf -- mina advanced node-status --show-errors --peers /ip4/95.217.160.9/tcp/8302/p2p/12D3KooWRTrm8j5Ppx4MUPavGCpY5veHXwgytbyN1DWf6wVqGnuz\n",
      "Error in telemetry call: {'error': {'commit_id': '09758671a488c6bd4c8f207524d3c962fdcd5d75', 'string': 'RPC #58767 failed: \"context deadline exceeded\"'}}\n",
      "Running command: kubectl exec sushi-seed-847fbbcd7c-gxhhf -- mina advanced node-status --show-errors --peers /ip4/95.217.189.177/tcp/8302/p2p/12D3KooWM6SVu6p7L5enyEMVg8hSoJp5GZsqFNJcvsG7mvzMsFtJ\n",
      "Error in telemetry call: {'error': {'commit_id': '09758671a488c6bd4c8f207524d3c962fdcd5d75', 'string': 'RPC #58768 failed: \"context deadline exceeded\"'}}\n",
      "Running command: kubectl exec sushi-seed-847fbbcd7c-gxhhf -- mina advanced node-status --show-errors --peers /ip4/143.198.231.32/tcp/8302/p2p/12D3KooWNJDmuyWK7cU9YjYFvbGebPmjm7sRmdH1fwEvjFZqpGad\n",
      "Error in telemetry call: {'error': {'commit_id': '09758671a488c6bd4c8f207524d3c962fdcd5d75', 'string': 'RPC #58769 failed: \"context deadline exceeded\"'}}\n",
      "Running command: kubectl exec sushi-seed-847fbbcd7c-gxhhf -- mina advanced node-status --show-errors --peers /ip4/135.181.129.47/tcp/8302/p2p/12D3KooWHEvYC9jQFYoh61sTiiVb7ErN3Da1K9CoXtxgsJqaWgBK\n",
      "Error in telemetry call: {'error': {'commit_id': '09758671a488c6bd4c8f207524d3c962fdcd5d75', 'string': 'RPC #58771 failed: \"context deadline exceeded\"'}}\n",
      "Running command: kubectl exec sushi-seed-847fbbcd7c-gxhhf -- mina advanced node-status --show-errors --peers /ip4/136.243.104.205/tcp/8302/p2p/12D3KooWRQkZy9PpK8nSJjPVJhjX13ac82wjhwLgUvE3C9PytqaQ\n",
      "Error in telemetry call: {'error': {'commit_id': '09758671a488c6bd4c8f207524d3c962fdcd5d75', 'string': 'RPC #58772 failed: \"context deadline exceeded\"'}}\n",
      "Running command: kubectl exec sushi-seed-847fbbcd7c-gxhhf -- mina advanced node-status --show-errors --peers /ip4/157.90.176.225/tcp/8302/p2p/12D3KooWHhf591x56cjdU5Si2jkxbv95Apwz618n9yDRQviKf3ej\n"
     ]
    },
    {
     "name": "stdout",
     "output_type": "stream",
     "text": [
      "Error in telemetry call: {'error': {'commit_id': '09758671a488c6bd4c8f207524d3c962fdcd5d75', 'string': 'RPC #58774 failed: \"context deadline exceeded\"'}}\n",
      "Running command: kubectl exec sushi-seed-847fbbcd7c-gxhhf -- mina advanced node-status --show-errors --peers /ip4/54.36.121.173/tcp/8302/p2p/12D3KooWH9CPa9dU7WBs64jyM5LGkTa8TPonUj9r8hPeGR8cVC1V\n",
      "Error in telemetry call: {'error': {'commit_id': '09758671a488c6bd4c8f207524d3c962fdcd5d75', 'string': 'RPC #58775 failed: \"context deadline exceeded\"'}}\n",
      "Running command: kubectl exec sushi-seed-847fbbcd7c-gxhhf -- mina advanced node-status --show-errors --peers /ip4/95.217.42.20/tcp/8302/p2p/12D3KooWDnLTMJwHDk2cMwQY6QPYxsJvGg4sjzZE5eUBSCi6Z7wT\n",
      "Error in telemetry call: {'error': {'commit_id': '09758671a488c6bd4c8f207524d3c962fdcd5d75', 'string': 'RPC #58776 failed: \"context deadline exceeded\"'}}\n",
      "Running command: kubectl exec sushi-seed-847fbbcd7c-gxhhf -- mina advanced node-status --show-errors --peers /ip4/212.186.73.73/tcp/8302/p2p/12D3KooWHDC9mzftd4W717vAUVE49P9suocTnLiyDuNFHt7AGvyC\n",
      "Error in telemetry call: {'error': {'commit_id': '09758671a488c6bd4c8f207524d3c962fdcd5d75', 'string': 'RPC #58777 failed: \"context deadline exceeded\"'}}\n",
      "Running command: kubectl exec sushi-seed-847fbbcd7c-gxhhf -- mina advanced node-status --show-errors --peers /ip4/34.67.210.243/tcp/58928/p2p/12D3KooWSwApiVVEtMKL6yE3ES3CJdXD6a21B7MSgAf16CXJ91a5\n",
      "Error in telemetry call: {'error': {'commit_id': '09758671a488c6bd4c8f207524d3c962fdcd5d75', 'string': 'RPC #58778 failed: \"context deadline exceeded\"'}}\n",
      "Running command: kubectl exec sushi-seed-847fbbcd7c-gxhhf -- mina advanced node-status --show-errors --peers /ip4/65.21.50.121/tcp/8302/p2p/12D3KooWMoT2BdadQcFTQdsHdU1p2Yuf58jYqynv8PLfnfrJCuym\n",
      "Error in telemetry call: {'error': {'commit_id': '09758671a488c6bd4c8f207524d3c962fdcd5d75', 'string': 'RPC #58780 failed: \"context deadline exceeded\"'}}\n",
      "Running command: kubectl exec sushi-seed-847fbbcd7c-gxhhf -- mina advanced node-status --show-errors --peers /ip4/165.22.89.238/tcp/8302/p2p/12D3KooWB4dzCNwzQemCXA1sRTmBD4bdokBrL367b2Kbee5nz2T7\n",
      "Error in telemetry call: {'error': {'commit_id': '09758671a488c6bd4c8f207524d3c962fdcd5d75', 'string': 'RPC #58781 failed: \"context deadline exceeded\"'}}\n",
      "Running command: kubectl exec sushi-seed-847fbbcd7c-gxhhf -- mina advanced node-status --show-errors --peers /ip4/35.227.7.59/tcp/10000/p2p/12D3KooWCa1d7G3SkRxy846qTvdAFX69NnoYZ32orWVLqJcDVGHW\n",
      "Error in telemetry call: {'error': {'commit_id': '09758671a488c6bd4c8f207524d3c962fdcd5d75', 'string': 'RPC #58784 failed: \"context deadline exceeded\"'}}\n",
      "Running command: kubectl exec sushi-seed-847fbbcd7c-gxhhf -- mina advanced node-status --show-errors --peers /ip4/195.201.196.183/tcp/8302/p2p/12D3KooWGJEG45erhfp8LMN6hthuujfvEiuenaTkPQrayLWuaX4N\n",
      "Error in telemetry call: {'error': {'commit_id': '09758671a488c6bd4c8f207524d3c962fdcd5d75', 'string': 'RPC #58785 failed: \"context deadline exceeded\"'}}\n",
      "Running command: kubectl exec sushi-seed-847fbbcd7c-gxhhf -- mina advanced node-status --show-errors --peers /ip4/195.9.221.213/tcp/8302/p2p/12D3KooWEosyCG6hvYPdst7d9fVfUg9uokNHEKYnHuBpDkm4bjvE\n",
      "Error in telemetry call: {'error': {'commit_id': '09758671a488c6bd4c8f207524d3c962fdcd5d75', 'string': 'RPC #58786 failed: \"context deadline exceeded\"'}}\n",
      "Running command: kubectl exec sushi-seed-847fbbcd7c-gxhhf -- mina advanced node-status --show-errors --peers /ip4/51.178.162.70/tcp/30103/p2p/12D3KooWDrXPJHyhVUL5ZGPu3BDeNsWDdfkMVhKfkzLbGBk2PHbj\n",
      "Error in telemetry call: {'error': {'commit_id': '09758671a488c6bd4c8f207524d3c962fdcd5d75', 'string': 'RPC #58787 failed: \"context deadline exceeded\"'}}\n",
      "Running command: kubectl exec sushi-seed-847fbbcd7c-gxhhf -- mina advanced node-status --show-errors --peers /ip4/188.214.129.36/tcp/8302/p2p/12D3KooWP21optyJag4yJJcNRvNXwWNbfZ7JcY3ibuF8mFBQvoow\n",
      "Error in telemetry call: {'error': {'commit_id': '09758671a488c6bd4c8f207524d3c962fdcd5d75', 'string': 'RPC #58788 failed: \"context deadline exceeded\"'}}\n",
      "Running command: kubectl exec sushi-seed-847fbbcd7c-gxhhf -- mina advanced node-status --show-errors --peers /ip4/168.119.137.216/tcp/8302/p2p/12D3KooWS8pnVSFebvGWt7SbYgWLnYveizZrnki86i5vStrHnXSC\n",
      "Error in telemetry call: {'error': {'commit_id': '09758671a488c6bd4c8f207524d3c962fdcd5d75', 'string': 'RPC #58789 failed: \"context deadline exceeded\"'}}\n",
      "Running command: kubectl exec sushi-seed-847fbbcd7c-gxhhf -- mina advanced node-status --show-errors --peers /ip4/78.30.60.238/tcp/8302/p2p/12D3KooWF1kZy57tR9ZBdPhbq5z7bvmBrGPWSGpMWtwjrJuDTjvR\n",
      "Error in telemetry call: {'error': {'commit_id': '09758671a488c6bd4c8f207524d3c962fdcd5d75', 'string': 'RPC #58790 failed: \"context deadline exceeded\"'}}\n",
      "Running command: kubectl exec sushi-seed-847fbbcd7c-gxhhf -- mina advanced node-status --show-errors --peers /ip4/213.159.255.110/tcp/8302/p2p/12D3KooWHVUdTuGjGvyHVdiKitaH79NH6TVD2wov7bX9jPkxPnUY\n",
      "Error in telemetry call: {'error': {'commit_id': '09758671a488c6bd4c8f207524d3c962fdcd5d75', 'string': 'RPC #58791 failed: \"context deadline exceeded\"'}}\n",
      "Running command: kubectl exec sushi-seed-847fbbcd7c-gxhhf -- mina advanced node-status --show-errors --peers /ip4/178.140.215.93/tcp/8302/p2p/12D3KooWJAVLXpGnokeCr5BoKELSsFnbgD2TqsH6NaKzbZtvKWuV\n",
      "Error in telemetry call: {'error': {'commit_id': '09758671a488c6bd4c8f207524d3c962fdcd5d75', 'string': 'RPC #58794 failed: \"context deadline exceeded\"'}}\n",
      "Running command: kubectl exec sushi-seed-847fbbcd7c-gxhhf -- mina advanced node-status --show-errors --peers /ip4/54.251.18.89/tcp/8302/p2p/12D3KooWDmJomVAjkXEGtDvAnJJrR7p5j4hiDK1tDpYtrbmP4cvy\n",
      "Error in telemetry call: {'error': {'commit_id': '09758671a488c6bd4c8f207524d3c962fdcd5d75', 'string': 'RPC #58795 failed: \"context deadline exceeded\"'}}\n",
      "Running command: kubectl exec sushi-seed-847fbbcd7c-gxhhf -- mina advanced node-status --show-errors --peers /ip4/51.222.154.96/tcp/8302/p2p/12D3KooW9udzgYYmgr47PWU3wKFhA4jF7cYVXYGkb7NzrmfsdSsW\n",
      "Error in telemetry call: {'error': {'commit_id': '09758671a488c6bd4c8f207524d3c962fdcd5d75', 'string': 'RPC #58796 failed: \"context deadline exceeded\"'}}\n",
      "Running command: kubectl exec sushi-seed-847fbbcd7c-gxhhf -- mina advanced node-status --show-errors --peers /ip4/135.181.192.87/tcp/10001/p2p/12D3KooWRMXtoYktAqkNFd9LkT1XpAJWryqje88owWf9v9SpaayN\n",
      "Error in telemetry call: {'error': {'commit_id': '09758671a488c6bd4c8f207524d3c962fdcd5d75', 'string': 'RPC #58797 failed: \"context deadline exceeded\"'}}\n",
      "Running command: kubectl exec sushi-seed-847fbbcd7c-gxhhf -- mina advanced node-status --show-errors --peers /ip4/135.181.164.237/tcp/8302/p2p/12D3KooWBPNp2gJstQFXdo84Xiis7vm5W5isbuQZ3ozg2vLfHY2e\n",
      "Error in telemetry call: {'error': {'commit_id': '09758671a488c6bd4c8f207524d3c962fdcd5d75', 'string': 'RPC #58798 failed: \"context deadline exceeded\"'}}\n",
      "Running command: kubectl exec sushi-seed-847fbbcd7c-gxhhf -- mina advanced node-status --show-errors --peers /ip4/34.67.0.154/tcp/8302/p2p/12D3KooWBHXkjWkGyU4bSuZf8xawZZhxPtCjThg4uXFBYpPAej4i\n",
      "Error in telemetry call: {'error': {'commit_id': '09758671a488c6bd4c8f207524d3c962fdcd5d75', 'string': 'RPC #58799 failed: \"context deadline exceeded\"'}}\n",
      "Running command: kubectl exec sushi-seed-847fbbcd7c-gxhhf -- mina advanced node-status --show-errors --peers /ip4/95.216.33.239/tcp/8302/p2p/12D3KooWBtnaqhssXgwMiyoYey76YGZ733P31ftV5MALMGD6Lrun\n",
      "Error in telemetry call: {'error': {'commit_id': '09758671a488c6bd4c8f207524d3c962fdcd5d75', 'string': 'RPC #58800 failed: \"context deadline exceeded\"'}}\n",
      "Running command: kubectl exec sushi-seed-847fbbcd7c-gxhhf -- mina advanced node-status --show-errors --peers /ip4/95.216.225.169/tcp/8302/p2p/12D3KooWD1XJw49ySWZk5VaXh8X9FtK8Vtnaug4KKM522CXeHDRA\n",
      "Error in telemetry call: {'error': {'commit_id': '09758671a488c6bd4c8f207524d3c962fdcd5d75', 'string': 'RPC #58801 failed: \"context deadline exceeded\"'}}\n",
      "Running command: kubectl exec sushi-seed-847fbbcd7c-gxhhf -- mina advanced node-status --show-errors --peers /ip4/116.203.27.196/tcp/8302/p2p/12D3KooWJYuS5u1B2tdUsfTbvXXFf9QiwMuPFJSfhf9B2MjUCFD4\n",
      "Error in telemetry call: {'error': {'commit_id': '09758671a488c6bd4c8f207524d3c962fdcd5d75', 'string': 'RPC #58803 failed: \"context deadline exceeded\"'}}\n",
      "Running command: kubectl exec sushi-seed-847fbbcd7c-gxhhf -- mina advanced node-status --show-errors --peers /ip4/178.128.196.231/tcp/8302/p2p/12D3KooWE5eF2yLrhrC1PhdFoV8fbkSet7kfD4mFsheLoHCGwKwU\n"
     ]
    },
    {
     "name": "stdout",
     "output_type": "stream",
     "text": [
      "Error in telemetry call: {'error': {'commit_id': '09758671a488c6bd4c8f207524d3c962fdcd5d75', 'string': 'RPC #58805 failed: \"context deadline exceeded\"'}}\n",
      "Running command: kubectl exec sushi-seed-847fbbcd7c-gxhhf -- mina advanced node-status --show-errors --peers /ip4/161.97.79.248/tcp/8302/p2p/12D3KooWEdw4HLALcTXJDppu7rDdQKBDFuq5UxgF6cR2uLm5Mgou\n",
      "Error in telemetry call: {'error': {'commit_id': '09758671a488c6bd4c8f207524d3c962fdcd5d75', 'string': 'RPC #58806 failed: \"context deadline exceeded\"'}}\n",
      "Running command: kubectl exec sushi-seed-847fbbcd7c-gxhhf -- mina advanced node-status --show-errors --peers /ip4/65.21.58.217/tcp/8302/p2p/12D3KooWGAoqkiomFu21Qp2Tps6SXnmMTm7Hfg189qQad7kvq6e9\n",
      "Error in telemetry call: {'error': {'commit_id': '09758671a488c6bd4c8f207524d3c962fdcd5d75', 'string': 'RPC #58807 failed: \"context deadline exceeded\"'}}\n",
      "Running command: kubectl exec sushi-seed-847fbbcd7c-gxhhf -- mina advanced node-status --show-errors --peers /ip4/157.90.32.148/tcp/10108/p2p/12D3KooWEammxSWNLYnhPX3s75Rv2NMXArS9ugR1SX59rKVoJe3n\n",
      "Error in telemetry call: {'error': {'commit_id': '09758671a488c6bd4c8f207524d3c962fdcd5d75', 'string': 'RPC #58808 failed: \"failed to dial 12D3KooWEammxSWNLYnhPX3s75Rv2NMXArS9ugR1SX59rKVoJe3n: all dials failed\\\\n  * [/ip4/157.90.32.148/tcp/10108] dial tcp4 157.90.32.148:10108: connect: connection refused\"'}}\n",
      "Running command: kubectl exec sushi-seed-847fbbcd7c-gxhhf -- mina advanced node-status --show-errors --peers /ip4/142.93.48.159/tcp/8302/p2p/12D3KooWLcACxPbQC5MHrofUeUky6AfWPtMPwENtMy8P2ySnBHEp\n",
      "Error in telemetry call: {'error': {'commit_id': '09758671a488c6bd4c8f207524d3c962fdcd5d75', 'string': 'RPC #58809 failed: \"context deadline exceeded\"'}}\n",
      "Running command: kubectl exec sushi-seed-847fbbcd7c-gxhhf -- mina advanced node-status --show-errors --peers /ip4/47.253.51.75/tcp/8302/p2p/12D3KooWCMYRhwwEwjDhHUvX347gtwW6wktfkHADGDshxcpu256V\n",
      "Error in telemetry call: {'error': {'commit_id': '09758671a488c6bd4c8f207524d3c962fdcd5d75', 'string': 'RPC #58812 failed: \"context deadline exceeded\"'}}\n",
      "Running command: kubectl exec sushi-seed-847fbbcd7c-gxhhf -- mina advanced node-status --show-errors --peers /ip4/135.181.219.28/tcp/8302/p2p/12D3KooWLp61SXAetV3M3RAMga1aFuthfoC4R3SUZU9K1cHDhzKy\n",
      "Error in telemetry call: {'error': {'commit_id': '09758671a488c6bd4c8f207524d3c962fdcd5d75', 'string': 'RPC #58813 failed: \"context deadline exceeded\"'}}\n",
      "Running command: kubectl exec sushi-seed-847fbbcd7c-gxhhf -- mina advanced node-status --show-errors --peers /ip4/138.201.33.161/tcp/8302/p2p/12D3KooWK56KNo2QVX9J45FXXszQ2GUnjZvB2L4Ahm8EaLdetD7D\n",
      "Error in telemetry call: {'error': {'commit_id': '09758671a488c6bd4c8f207524d3c962fdcd5d75', 'string': 'RPC #58815 failed: \"context deadline exceeded\"'}}\n",
      "Running command: kubectl exec sushi-seed-847fbbcd7c-gxhhf -- mina advanced node-status --show-errors --peers /ip4/135.125.183.94/tcp/8302/p2p/12D3KooWLrGqrrotyYa1kQMew7iyASRjHjLrnk3KJtQYVw9ZQhuE\n",
      "Error in telemetry call: {'error': {'commit_id': '09758671a488c6bd4c8f207524d3c962fdcd5d75', 'string': 'RPC #58816 failed: \"context deadline exceeded\"'}}\n",
      "Running command: kubectl exec sushi-seed-847fbbcd7c-gxhhf -- mina advanced node-status --show-errors --peers /ip4/135.181.134.46/tcp/8302/p2p/12D3KooWHHSHFNi8Nmyun63UgjqYAou8cZGaqpS7jJNpgxRxjMQB\n",
      "Error in telemetry call: {'error': {'commit_id': '09758671a488c6bd4c8f207524d3c962fdcd5d75', 'string': 'RPC #58817 failed: \"context deadline exceeded\"'}}\n",
      "Running command: kubectl exec sushi-seed-847fbbcd7c-gxhhf -- mina advanced node-status --show-errors --peers /ip4/188.34.187.18/tcp/10001/p2p/12D3KooWQzozNTDKL7MqUh6Nh11GMA4pQhRCAsNTRWxCAzAi4VbE\n",
      "Error in telemetry call: {'error': {'commit_id': '09758671a488c6bd4c8f207524d3c962fdcd5d75', 'string': 'RPC #58819 failed: \"context deadline exceeded\"'}}\n",
      "Running command: kubectl exec sushi-seed-847fbbcd7c-gxhhf -- mina advanced node-status --show-errors --peers /ip4/161.35.226.149/tcp/8302/p2p/12D3KooWAXdJzRf1cs1be2MdWzCNaTUV9t9cTqAfeeZ6yV8S2MU6\n",
      "Error in telemetry call: {'error': {'commit_id': '09758671a488c6bd4c8f207524d3c962fdcd5d75', 'string': 'RPC #58820 failed: \"context deadline exceeded\"'}}\n",
      "Running command: kubectl exec sushi-seed-847fbbcd7c-gxhhf -- mina advanced node-status --show-errors --peers /ip4/92.53.84.145/tcp/8302/p2p/12D3KooWAnNDWPRMTaEp7yMfPUYmucbzKngrYgxbJ2D1EX8EwLJy\n",
      "Error in telemetry call: {'error': {'commit_id': '09758671a488c6bd4c8f207524d3c962fdcd5d75', 'string': 'RPC #58821 failed: \"context deadline exceeded\"'}}\n",
      "Running command: kubectl exec sushi-seed-847fbbcd7c-gxhhf -- mina advanced node-status --show-errors --peers /ip4/158.51.123.146/tcp/8302/p2p/12D3KooWHR9KfR2qGD2yBLPzTpduGquYqeoueaSN4pBGYdWZ3bPw\n",
      "Error in telemetry call: {'error': {'commit_id': '09758671a488c6bd4c8f207524d3c962fdcd5d75', 'string': 'RPC #58822 failed: \"context deadline exceeded\"'}}\n",
      "Running command: kubectl exec sushi-seed-847fbbcd7c-gxhhf -- mina advanced node-status --show-errors --peers /ip4/35.172.55.17/tcp/8302/p2p/12D3KooWJSpdLq64NyBtaiGL8XwZsMm1w5gu1BkL7K2ExF5WsDzC\n",
      "Error in telemetry call: {'error': {'commit_id': '09758671a488c6bd4c8f207524d3c962fdcd5d75', 'string': 'RPC #58823 failed: \"context deadline exceeded\"'}}\n",
      "Running command: kubectl exec sushi-seed-847fbbcd7c-gxhhf -- mina advanced node-status --show-errors --peers /ip4/199.247.27.231/tcp/8302/p2p/12D3KooWBUqquTzcqgdDZZxczEeJkS1FFAEs6ixjMonwP5o9xemB\n",
      "Error in telemetry call: {'error': {'commit_id': '09758671a488c6bd4c8f207524d3c962fdcd5d75', 'string': 'RPC #58825 failed: \"context deadline exceeded\"'}}\n",
      "Running command: kubectl exec sushi-seed-847fbbcd7c-gxhhf -- mina advanced node-status --show-errors --peers /ip4/88.13.21.181/tcp/1177/p2p/12D3KooWH9JeGaq9UwoRXeSsx6HZ7PNrDScMR3NuDgu7AdX25ZXR\n",
      "Error in telemetry call: {'error': {'commit_id': '09758671a488c6bd4c8f207524d3c962fdcd5d75', 'string': 'RPC #58826 failed: \"context deadline exceeded\"'}}\n",
      "Running command: kubectl exec sushi-seed-847fbbcd7c-gxhhf -- mina advanced node-status --show-errors --peers /ip4/207.244.224.243/tcp/8302/p2p/12D3KooWNhH57tmWenyfQTzKVj5815VHx4emL1BvuZbJEjiWjhnj\n",
      "Error in telemetry call: {'error': {'commit_id': '09758671a488c6bd4c8f207524d3c962fdcd5d75', 'string': 'RPC #58830 failed: \"context deadline exceeded\"'}}\n",
      "Running command: kubectl exec sushi-seed-847fbbcd7c-gxhhf -- mina advanced node-status --show-errors --peers /ip4/95.216.8.171/tcp/8302/p2p/12D3KooWGEJXUcQdEQygG5pkzKxMsiv9wh2Y5wNWXaonmDf82RYb\n",
      "Error in telemetry call: {'error': {'commit_id': '09758671a488c6bd4c8f207524d3c962fdcd5d75', 'string': 'RPC #58831 failed: \"context deadline exceeded\"'}}\n",
      "Running command: kubectl exec sushi-seed-847fbbcd7c-gxhhf -- mina advanced node-status --show-errors --peers /ip4/34.75.30.199/tcp/10002/p2p/12D3KooWNofeYVAJXA3WGg2qCDhs3GEe71kTmKpFQXRbZmCz1Vr7\n",
      "Error in telemetry call: {'error': {'commit_id': '09758671a488c6bd4c8f207524d3c962fdcd5d75', 'exn_name': 'Base__Exn.Sexp', 'exn': ['Yojson.Json_error(\"Blank input data\")']}}\n",
      "Running command: kubectl exec sushi-seed-847fbbcd7c-gxhhf -- mina advanced node-status --show-errors --peers /ip4/95.216.118.154/tcp/8302/p2p/12D3KooWRcHiFQsbYgjPSxtMg4Y9ifrvmCFtJQ8Qztqd3z4L9buU\n",
      "Error in telemetry call: {'error': {'commit_id': '09758671a488c6bd4c8f207524d3c962fdcd5d75', 'string': 'RPC #58833 failed: \"context deadline exceeded\"'}}\n",
      "Running command: kubectl exec sushi-seed-847fbbcd7c-gxhhf -- mina advanced node-status --show-errors --peers /ip4/35.193.91.195/tcp/8302/p2p/12D3KooWD3KgF3viukXoCUvVX8hjKHb9tCNzaQqCqrXbeKCzM4J8\n",
      "Error in telemetry call: {'error': {'commit_id': '09758671a488c6bd4c8f207524d3c962fdcd5d75', 'string': 'RPC #58834 failed: \"context deadline exceeded\"'}}\n",
      "Running command: kubectl exec sushi-seed-847fbbcd7c-gxhhf -- mina advanced node-status --show-errors --peers /ip4/195.201.168.35/tcp/8302/p2p/12D3KooWCG6V2HxnocVGAwvsK9FVQXjkn14CSrATDBs7asMNFg7X\n",
      "Error in telemetry call: {'error': {'commit_id': '09758671a488c6bd4c8f207524d3c962fdcd5d75', 'string': 'RPC #58835 failed: \"context deadline exceeded\"'}}\n",
      "Running command: kubectl exec sushi-seed-847fbbcd7c-gxhhf -- mina advanced node-status --show-errors --peers /ip4/80.241.246.226/tcp/34194/p2p/12D3KooWRpBA9UHdNj3QayH1guaYMxEV5gkByUp3fth1YhKJQ7ou\n",
      "Error in telemetry call: {'error': {'commit_id': '09758671a488c6bd4c8f207524d3c962fdcd5d75', 'string': 'RPC #58836 failed: \"context deadline exceeded\"'}}\n",
      "Running command: kubectl exec sushi-seed-847fbbcd7c-gxhhf -- mina advanced node-status --show-errors --peers /ip4/35.238.97.69/tcp/8302/p2p/12D3KooWKCDbhjxGfrsNJVxFvaAgK9TpBfZVdBRDPDu5W9UGhvpd\n"
     ]
    },
    {
     "name": "stdout",
     "output_type": "stream",
     "text": [
      "Error in telemetry call: {'error': {'commit_id': '09758671a488c6bd4c8f207524d3c962fdcd5d75', 'string': 'RPC #58838 failed: \"context deadline exceeded\"'}}\n",
      "Running command: kubectl exec sushi-seed-847fbbcd7c-gxhhf -- mina advanced node-status --show-errors --peers /ip4/176.9.94.138/tcp/8302/p2p/12D3KooWP7gVe3JhpBywSHZUTEUUMQxMHDTc85J7aX5hh3b6xjjE\n",
      "Error in telemetry call: {'error': {'commit_id': '09758671a488c6bd4c8f207524d3c962fdcd5d75', 'string': 'RPC #58839 failed: \"context deadline exceeded\"'}}\n",
      "Running command: kubectl exec sushi-seed-847fbbcd7c-gxhhf -- mina advanced node-status --show-errors --peers /ip4/95.216.8.171/tcp/52168/p2p/12D3KooWGEJXUcQdEQygG5pkzKxMsiv9wh2Y5wNWXaonmDf82RYb\n",
      "Error in telemetry call: {'error': {'commit_id': '09758671a488c6bd4c8f207524d3c962fdcd5d75', 'string': 'RPC #58840 failed: \"context deadline exceeded\"'}}\n",
      "Running command: kubectl exec sushi-seed-847fbbcd7c-gxhhf -- mina advanced node-status --show-errors --peers /ip4/165.232.149.254/tcp/8302/p2p/12D3KooWRHqgDyw1DDdMJtXZXvGWhSNASJ4sDQmBbUTsh77MwDEy\n",
      "Error in telemetry call: {'error': {'commit_id': '09758671a488c6bd4c8f207524d3c962fdcd5d75', 'string': 'RPC #58841 failed: \"context deadline exceeded\"'}}\n",
      "Running command: kubectl exec sushi-seed-847fbbcd7c-gxhhf -- mina advanced node-status --show-errors --peers /ip4/135.125.9.224/tcp/8302/p2p/12D3KooWFn8w3ScS7XTs7mHygAk6gi8YtcDnNLPsrsX3vDAhApzf\n",
      "Error in telemetry call: {'error': {'commit_id': '09758671a488c6bd4c8f207524d3c962fdcd5d75', 'string': 'RPC #58842 failed: \"context deadline exceeded\"'}}\n",
      "Running command: kubectl exec sushi-seed-847fbbcd7c-gxhhf -- mina advanced node-status --show-errors --peers /ip4/47.89.245.142/tcp/8402/p2p/12D3KooWDpCGmrUcpUCLrrmZAW8iWM34sHTCKa8Zn2yTamJmLNpj\n",
      "Error in telemetry call: {'error': {'commit_id': '09758671a488c6bd4c8f207524d3c962fdcd5d75', 'string': 'RPC #58843 failed: \"context deadline exceeded\"'}}\n",
      "Running command: kubectl exec sushi-seed-847fbbcd7c-gxhhf -- mina advanced node-status --show-errors --peers /ip4/135.181.6.137/tcp/8302/p2p/12D3KooWHc1e9Qb6PUBYfKMsCf3BUzpBZH8yYMwyTSWdNRdmr4dP\n",
      "Error in telemetry call: {'error': {'commit_id': '09758671a488c6bd4c8f207524d3c962fdcd5d75', 'string': 'RPC #58845 failed: \"context deadline exceeded\"'}}\n",
      "Running command: kubectl exec sushi-seed-847fbbcd7c-gxhhf -- mina advanced node-status --show-errors --peers /ip4/144.126.244.221/tcp/8302/p2p/12D3KooWQHTEXCbS1xxEMFHdALBTA1uLbFPr3okXvUos57d5seHW\n",
      "Error in telemetry call: {'error': {'commit_id': '09758671a488c6bd4c8f207524d3c962fdcd5d75', 'string': 'RPC #58846 failed: \"context deadline exceeded\"'}}\n",
      "Running command: kubectl exec sushi-seed-847fbbcd7c-gxhhf -- mina advanced node-status --show-errors --peers /ip4/192.0.231.125/tcp/50122/p2p/12D3KooWRjyMkFxnMAa991X99j275uyXZ3uUzBNFJrLMssCbK1E7\n",
      "Error in telemetry call: {'error': {'commit_id': '09758671a488c6bd4c8f207524d3c962fdcd5d75', 'string': 'RPC #58848 failed: \"context deadline exceeded\"'}}\n",
      "Running command: kubectl exec sushi-seed-847fbbcd7c-gxhhf -- mina advanced node-status --show-errors --peers /ip4/35.238.97.69/tcp/54958/p2p/12D3KooWKCDbhjxGfrsNJVxFvaAgK9TpBfZVdBRDPDu5W9UGhvpd\n",
      "Error in telemetry call: {'error': {'commit_id': '09758671a488c6bd4c8f207524d3c962fdcd5d75', 'string': 'RPC #58849 failed: \"context deadline exceeded\"'}}\n",
      "Running command: kubectl exec sushi-seed-847fbbcd7c-gxhhf -- mina advanced node-status --show-errors --peers /ip4/35.203.20.242/tcp/8302/p2p/12D3KooWF1qyvi8qYDvEfrShUmLpLt2jDDuvvtHdBvy3VjzsJbec\n",
      "Error in telemetry call: {'error': {'commit_id': '09758671a488c6bd4c8f207524d3c962fdcd5d75', 'string': 'RPC #58850 failed: \"context deadline exceeded\"'}}\n",
      "Running command: kubectl exec sushi-seed-847fbbcd7c-gxhhf -- mina advanced node-status --show-errors --peers /ip4/135.125.97.60/tcp/8302/p2p/12D3KooWFvxShbQjfWocLkoFYfa1m5Be8Wb6uFSE7f1rTnf6cA5o\n",
      "Error in telemetry call: {'error': {'commit_id': '09758671a488c6bd4c8f207524d3c962fdcd5d75', 'string': 'RPC #58851 failed: \"context deadline exceeded\"'}}\n",
      "Running command: kubectl exec sushi-seed-847fbbcd7c-gxhhf -- mina advanced node-status --show-errors --peers /ip4/221.3.104.105/tcp/8302/p2p/12D3KooWBrX4bWZABya6rUAcjah2Vw9SU7Rs6CP65z8fUF8QMGhB\n",
      "Error in telemetry call: {'error': {'commit_id': '09758671a488c6bd4c8f207524d3c962fdcd5d75', 'string': 'RPC #58852 failed: \"context deadline exceeded\"'}}\n",
      "Running command: kubectl exec sushi-seed-847fbbcd7c-gxhhf -- mina advanced node-status --show-errors --peers /ip4/188.130.251.92/tcp/8302/p2p/12D3KooWF2zUjBUAsRaeyxJdf7Be3eDmqcZqbfQPdZ3qf4k7Kc6k\n",
      "Error in telemetry call: {'error': {'commit_id': '09758671a488c6bd4c8f207524d3c962fdcd5d75', 'string': 'RPC #58853 failed: \"context deadline exceeded\"'}}\n",
      "Running command: kubectl exec sushi-seed-847fbbcd7c-gxhhf -- mina advanced node-status --show-errors --peers /ip4/135.181.148.255/tcp/8302/p2p/12D3KooWDTQ4jjDRPHCa3FFh395hkeTCYKTGqcQHAEaxRTvKcPpF\n",
      "Error in telemetry call: {'error': {'commit_id': '09758671a488c6bd4c8f207524d3c962fdcd5d75', 'string': 'RPC #58854 failed: \"context deadline exceeded\"'}}\n",
      "Running command: kubectl exec sushi-seed-847fbbcd7c-gxhhf -- mina advanced node-status --show-errors --peers /ip4/51.15.193.248/tcp/8302/p2p/12D3KooWDYjisdYeffAGiTBprCNdxuGUYPn8HqF1fGqWop3twVf1\n",
      "Error in telemetry call: {'error': {'commit_id': '09758671a488c6bd4c8f207524d3c962fdcd5d75', 'string': 'RPC #58855 failed: \"failed to dial 12D3KooWDYjisdYeffAGiTBprCNdxuGUYPn8HqF1fGqWop3twVf1: all dials failed\\\\n  * [/ip4/51.15.193.248/tcp/8302] failed to negotiate security protocol: peer id mismatch: expected 12D3KooWDYjisdYeffAGiTBprCNdxuGUYPn8HqF1fGqWop3twVf1, but remote key matches 12D3KooWEBUpsCT1TU9D1bibL7n9TBHNk8Tdouf88egAGBW6QM24\"'}}\n",
      "Running command: kubectl exec sushi-seed-847fbbcd7c-gxhhf -- mina advanced node-status --show-errors --peers /ip4/86.127.248.163/tcp/8302/p2p/12D3KooWE3DUVBQ6H5eAbfZm6oS4k6tfDfKMvwqruideorQ4JJ8w\n",
      "Error in telemetry call: {'error': {'commit_id': '09758671a488c6bd4c8f207524d3c962fdcd5d75', 'string': 'RPC #58857 failed: \"context deadline exceeded\"'}}\n",
      "Running command: kubectl exec sushi-seed-847fbbcd7c-gxhhf -- mina advanced node-status --show-errors --peers /ip4/116.202.164.15/tcp/8302/p2p/12D3KooWMCxMh6eWcTC9n35wt7ZEb81FiMeutCuUnpyKgZc6m4n8\n",
      "Error in telemetry call: {'error': {'commit_id': '09758671a488c6bd4c8f207524d3c962fdcd5d75', 'string': 'RPC #58858 failed: \"context deadline exceeded\"'}}\n",
      "Running command: kubectl exec sushi-seed-847fbbcd7c-gxhhf -- mina advanced node-status --show-errors --peers /ip4/161.156.164.117/tcp/8302/p2p/12D3KooWJSGJ6bcS1WvoXueYjWEsNHi43vuzvHsLYfN5JMbGpRpZ\n",
      "Error in telemetry call: {'error': {'commit_id': '09758671a488c6bd4c8f207524d3c962fdcd5d75', 'string': 'RPC #58859 failed: \"context deadline exceeded\"'}}\n",
      "Running command: kubectl exec sushi-seed-847fbbcd7c-gxhhf -- mina advanced node-status --show-errors --peers /ip4/76.220.59.4/tcp/8302/p2p/12D3KooWDE3GWaCFvfqbGsw72JHqDpHVnzomM2EagitAs7WYcM77\n",
      "Error in telemetry call: {'error': {'commit_id': '09758671a488c6bd4c8f207524d3c962fdcd5d75', 'string': 'RPC #58860 failed: \"failed to dial 12D3KooWDE3GWaCFvfqbGsw72JHqDpHVnzomM2EagitAs7WYcM77: all dials failed\\\\n  * [/ip4/127.0.0.1/tcp/8302] dial tcp4 127.0.0.1:8302: connect: connection refused\\\\n  * [/ip4/76.220.59.4/tcp/8302] dial tcp4 76.220.59.4:8302: connect: connection refused\"'}}\n",
      "Running command: kubectl exec sushi-seed-847fbbcd7c-gxhhf -- mina advanced node-status --show-errors --peers /ip4/34.67.198.189/tcp/8302/p2p/12D3KooWSA2p3ps6EgiNg9vL3p2oPJihGF1qp3qS31sSVKu3qyi6\n",
      "Error in telemetry call: {'error': {'commit_id': '09758671a488c6bd4c8f207524d3c962fdcd5d75', 'string': 'RPC #58861 failed: \"context deadline exceeded\"'}}\n",
      "Running command: kubectl exec sushi-seed-847fbbcd7c-gxhhf -- mina advanced node-status --show-errors --peers /ip4/209.126.81.95/tcp/8302/p2p/12D3KooWA5kEu4JcUKVLs4cxT4KeTCLKhLspuFCSbwSEgiSpWLd7\n",
      "Error in telemetry call: {'error': {'commit_id': '09758671a488c6bd4c8f207524d3c962fdcd5d75', 'string': 'RPC #58862 failed: \"context deadline exceeded\"'}}\n",
      "Running command: kubectl exec sushi-seed-847fbbcd7c-gxhhf -- mina advanced node-status --show-errors --peers /ip4/80.241.246.226/tcp/8302/p2p/12D3KooWRpBA9UHdNj3QayH1guaYMxEV5gkByUp3fth1YhKJQ7ou\n"
     ]
    },
    {
     "name": "stdout",
     "output_type": "stream",
     "text": [
      "Error in telemetry call: {'error': {'commit_id': '09758671a488c6bd4c8f207524d3c962fdcd5d75', 'string': 'RPC #58863 failed: \"context deadline exceeded\"'}}\n",
      "Running command: kubectl exec sushi-seed-847fbbcd7c-gxhhf -- mina advanced node-status --show-errors --peers /ip4/168.119.212.145/tcp/8302/p2p/12D3KooWEstyrM8yeVbx7TDFQPgfGe7kN74ZL9skom2sYvnmv53N\n",
      "Error in telemetry call: {'error': {'commit_id': '09758671a488c6bd4c8f207524d3c962fdcd5d75', 'string': 'RPC #58864 failed: \"context deadline exceeded\"'}}\n",
      "Running command: kubectl exec sushi-seed-847fbbcd7c-gxhhf -- mina advanced node-status --show-errors --peers /ip4/18.185.174.225/tcp/8302/p2p/12D3KooWLRYJRi3Cq6X86witS3uqpNg6D2SwGt3MFxCdYAAqFT78\n",
      "Error in telemetry call: {'error': {'commit_id': '09758671a488c6bd4c8f207524d3c962fdcd5d75', 'string': 'RPC #58865 failed: \"context deadline exceeded\"'}}\n",
      "Running command: kubectl exec sushi-seed-847fbbcd7c-gxhhf -- mina advanced node-status --show-errors --peers /ip4/45.32.21.162/tcp/8302/p2p/12D3KooWKWLmRBVJ2YYzgC997qzqCyQoXovFRRUUDHNRczAR4cur\n",
      "Error in telemetry call: {'error': {'commit_id': '09758671a488c6bd4c8f207524d3c962fdcd5d75', 'string': 'RPC #58867 failed: \"context deadline exceeded\"'}}\n",
      "Running command: kubectl exec sushi-seed-847fbbcd7c-gxhhf -- mina advanced node-status --show-errors --peers /ip4/167.99.170.248/tcp/8302/p2p/12D3KooWR7coZtrMHvsgsfiWq2GESYypac3i29LFGp6EpbtjxBiJ\n",
      "Error in telemetry call: {'error': {'commit_id': '09758671a488c6bd4c8f207524d3c962fdcd5d75', 'string': 'RPC #58868 failed: \"context deadline exceeded\"'}}\n",
      "Running command: kubectl exec sushi-seed-847fbbcd7c-gxhhf -- mina advanced node-status --show-errors --peers /ip4/88.198.26.117/tcp/8302/p2p/12D3KooWQvFe2UMds1YrFyHMR92UvQ1xxrS69boQKTiKFSCqss3j\n",
      "Error in telemetry call: {'error': {'commit_id': '09758671a488c6bd4c8f207524d3c962fdcd5d75', 'string': 'RPC #58869 failed: \"context deadline exceeded\"'}}\n",
      "Running command: kubectl exec sushi-seed-847fbbcd7c-gxhhf -- mina advanced node-status --show-errors --peers /ip4/209.145.60.202/tcp/8302/p2p/12D3KooWM2y9HzNfLHPgSmH9JgMrhouuuuEq7JHb3P7oyP5oocae\n",
      "Error in telemetry call: {'error': {'commit_id': '09758671a488c6bd4c8f207524d3c962fdcd5d75', 'string': 'RPC #58870 failed: \"context deadline exceeded\"'}}\n",
      "Running command: kubectl exec sushi-seed-847fbbcd7c-gxhhf -- mina advanced node-status --show-errors --peers /ip4/135.181.138.32/tcp/8302/p2p/12D3KooWNLteFVcWYaafEdQjF9W5MpLx9E9gv6gXKUXp1NdXwf1x\n",
      "Error in telemetry call: {'error': {'commit_id': '09758671a488c6bd4c8f207524d3c962fdcd5d75', 'string': 'RPC #58871 failed: \"context deadline exceeded\"'}}\n",
      "Running command: kubectl exec sushi-seed-847fbbcd7c-gxhhf -- mina advanced node-status --show-errors --peers /ip4/157.90.166.30/tcp/8302/p2p/12D3KooWFHGcFT9NdnToV94yMtgJyWg63DqJ1DD2U6wWjC1rYTGJ\n",
      "Error in telemetry call: {'error': {'commit_id': '09758671a488c6bd4c8f207524d3c962fdcd5d75', 'string': 'RPC #58872 failed: \"failed to dial 12D3KooWFHGcFT9NdnToV94yMtgJyWg63DqJ1DD2U6wWjC1rYTGJ: all dials failed\\\\n  * [/ip4/157.90.166.30/tcp/8302] failed to negotiate security protocol: peer id mismatch: expected 12D3KooWFHGcFT9NdnToV94yMtgJyWg63DqJ1DD2U6wWjC1rYTGJ, but remote key matches 12D3KooWBiV31MtGnAZJxz9wDiRvkUE15hCPQ5gbRefYpkYwJ7cN\"'}}\n",
      "Running command: kubectl exec sushi-seed-847fbbcd7c-gxhhf -- mina advanced node-status --show-errors --peers /ip4/188.225.87.209/tcp/1024/p2p/12D3KooWFiE5TzFdjvmWTVAAVipnzZixSe2TW7YtXRcF1aZdhSxt\n",
      "Error in telemetry call: {'error': {'commit_id': '09758671a488c6bd4c8f207524d3c962fdcd5d75', 'string': 'RPC #58874 failed: \"failed to dial 12D3KooWFiE5TzFdjvmWTVAAVipnzZixSe2TW7YtXRcF1aZdhSxt: all dials failed\\\\n  * [/ip4/188.225.87.209/tcp/1024] dial tcp4 188.225.87.209:1024: connect: connection refused\"'}}\n",
      "Running command: kubectl exec sushi-seed-847fbbcd7c-gxhhf -- mina advanced node-status --show-errors --peers /ip4/62.171.185.75/tcp/41210/p2p/12D3KooWKJUf1FKc18voFYvp4zxyt5dq1nA9HsiBWPbqfk8SMbv1\n",
      "Error in telemetry call: {'error': {'commit_id': '09758671a488c6bd4c8f207524d3c962fdcd5d75', 'string': 'RPC #58875 failed: \"context deadline exceeded\"'}}\n",
      "Running command: kubectl exec sushi-seed-847fbbcd7c-gxhhf -- mina advanced node-status --show-errors --peers /ip4/51.79.83.151/tcp/8302/p2p/12D3KooWLKU4BZh2rU25WoyybxBTCD2kGQkEZT1w8XdwWniSBvBF\n",
      "Error in telemetry call: {'error': {'commit_id': '09758671a488c6bd4c8f207524d3c962fdcd5d75', 'string': 'RPC #58877 failed: \"context deadline exceeded\"'}}\n",
      "Running command: kubectl exec sushi-seed-847fbbcd7c-gxhhf -- mina advanced node-status --show-errors --peers /ip4/95.217.74.148/tcp/8302/p2p/12D3KooWPUQmypeJz9e3TeeEYveBGpqZ2WoHuJpjHqg8ht22QyJh\n",
      "Error in telemetry call: {'error': {'commit_id': '09758671a488c6bd4c8f207524d3c962fdcd5d75', 'string': 'RPC #58878 failed: \"context deadline exceeded\"'}}\n",
      "Running command: kubectl exec sushi-seed-847fbbcd7c-gxhhf -- mina advanced node-status --show-errors --peers /ip4/136.243.101.239/tcp/8302/p2p/12D3KooWHqmWyiQu4ofzbHAVg5xjhZyommCh4RcX74rrQa75Aqpj\n",
      "Error in telemetry call: {'error': {'commit_id': '09758671a488c6bd4c8f207524d3c962fdcd5d75', 'string': 'RPC #58879 failed: \"context deadline exceeded\"'}}\n",
      "Running command: kubectl exec sushi-seed-847fbbcd7c-gxhhf -- mina advanced node-status --show-errors --peers /ip4/46.4.66.94/tcp/8302/p2p/12D3KooWLUKhpMYFvMhzJCjc9rYpzL4GKsyHwchzKSLzd7eUD8UQ\n",
      "Error in telemetry call: {'error': {'commit_id': '09758671a488c6bd4c8f207524d3c962fdcd5d75', 'string': 'RPC #58880 failed: \"context deadline exceeded\"'}}\n",
      "Running command: kubectl exec sushi-seed-847fbbcd7c-gxhhf -- mina advanced node-status --show-errors --peers /ip4/210.245.49.112/tcp/8302/p2p/12D3KooWAvojVx7n41WFR7S8LsdV1WCh7YFeACiv5yJGA7DmvDT6\n",
      "Error in telemetry call: {'error': {'commit_id': '09758671a488c6bd4c8f207524d3c962fdcd5d75', 'string': 'RPC #58881 failed: \"context deadline exceeded\"'}}\n",
      "Running command: kubectl exec sushi-seed-847fbbcd7c-gxhhf -- mina advanced node-status --show-errors --peers /ip4/46.39.237.105/tcp/8302/p2p/12D3KooWRbdSBKYsYthPW7aqkRCNxKDAnz9upa7yobm2612K9hDB\n",
      "Error in telemetry call: {'error': {'commit_id': '09758671a488c6bd4c8f207524d3c962fdcd5d75', 'string': 'RPC #58882 failed: \"context deadline exceeded\"'}}\n",
      "Running command: kubectl exec sushi-seed-847fbbcd7c-gxhhf -- mina advanced node-status --show-errors --peers /ip4/143.198.52.247/tcp/8302/p2p/12D3KooWQuX87nDuHC9cKuaAa8J2fY8zSnedz9dkBWQzncmNnLkt\n",
      "Error in telemetry call: {'error': {'commit_id': '09758671a488c6bd4c8f207524d3c962fdcd5d75', 'string': 'RPC #58883 failed: \"context deadline exceeded\"'}}\n",
      "Running command: kubectl exec sushi-seed-847fbbcd7c-gxhhf -- mina advanced node-status --show-errors --peers /ip4/161.97.174.182/tcp/8302/p2p/12D3KooWFmz6AGDteUzM4M2FXP9cWi85eQFpKrFx8XS2j8kQm2ko\n",
      "Error in telemetry call: {'error': {'commit_id': '09758671a488c6bd4c8f207524d3c962fdcd5d75', 'string': 'RPC #58884 failed: \"context deadline exceeded\"'}}\n",
      "Running command: kubectl exec sushi-seed-847fbbcd7c-gxhhf -- mina advanced node-status --show-errors --peers /ip4/157.90.3.62/tcp/8302/p2p/12D3KooWBgYjB5h4sEXtHY8d6zLRQawsYpnAeKGeCbehQfTkQ31f\n",
      "Error in telemetry call: {'error': {'commit_id': '09758671a488c6bd4c8f207524d3c962fdcd5d75', 'string': 'RPC #58886 failed: \"context deadline exceeded\"'}}\n",
      "Running command: kubectl exec sushi-seed-847fbbcd7c-gxhhf -- mina advanced node-status --show-errors --peers /ip4/5.188.159.196/tcp/8302/p2p/12D3KooWHW4PFmhFRUPAbnBrhbaci6anGGsV5PNaZUAaNAioV623\n",
      "Error in telemetry call: {'error': {'commit_id': '09758671a488c6bd4c8f207524d3c962fdcd5d75', 'string': 'RPC #58890 failed: \"context deadline exceeded\"'}}\n",
      "Running command: kubectl exec sushi-seed-847fbbcd7c-gxhhf -- mina advanced node-status --show-errors --peers /ip4/134.122.68.228/tcp/8302/p2p/12D3KooWJvzCqU4metD1kZDrBtz7fmPQXUkh31V4KqdypR6V4wGX\n",
      "Error in telemetry call: {'error': {'commit_id': '09758671a488c6bd4c8f207524d3c962fdcd5d75', 'string': 'RPC #58891 failed: \"context deadline exceeded\"'}}\n",
      "Running command: kubectl exec sushi-seed-847fbbcd7c-gxhhf -- mina advanced node-status --show-errors --peers /ip4/95.216.146.137/tcp/8302/p2p/12D3KooWAkB9WSsmYpHq5nB4CnVdpa7zKP9t8MYnH1tFZ1yJCumu\n",
      "Error in telemetry call: {'error': {'commit_id': '09758671a488c6bd4c8f207524d3c962fdcd5d75', 'string': 'RPC #58892 failed: \"context deadline exceeded\"'}}\n",
      "Running command: kubectl exec sushi-seed-847fbbcd7c-gxhhf -- mina advanced node-status --show-errors --peers /ip4/82.69.152.196/tcp/8302/p2p/12D3KooWPPXxH9uSSGW4nhXMzxz6sY63TH6YfgFLNXSD2EnrJDWN\n"
     ]
    },
    {
     "name": "stdout",
     "output_type": "stream",
     "text": [
      "Error in telemetry call: {'error': {'commit_id': '09758671a488c6bd4c8f207524d3c962fdcd5d75', 'string': 'RPC #58893 failed: \"context deadline exceeded\"'}}\n",
      "Running command: kubectl exec sushi-seed-847fbbcd7c-gxhhf -- mina advanced node-status --show-errors --peers /ip4/47.91.18.226/tcp/8302/p2p/12D3KooWEzS2YrWJ5n35ovVYiWLTB2WUHcnWdEt6ZRbbKg99UgcP\n",
      "Error in telemetry call: {'error': {'commit_id': '09758671a488c6bd4c8f207524d3c962fdcd5d75', 'string': 'RPC #58894 failed: \"context deadline exceeded\"'}}\n",
      "Running command: kubectl exec sushi-seed-847fbbcd7c-gxhhf -- mina advanced node-status --show-errors --peers /ip4/144.126.222.99/tcp/8302/p2p/12D3KooWQmveTY26nu9HqXrGXpAmpXJeTrMdR5GAHkSHy27mmyWV\n",
      "Error in telemetry call: {'error': {'commit_id': '09758671a488c6bd4c8f207524d3c962fdcd5d75', 'string': 'RPC #58895 failed: \"context deadline exceeded\"'}}\n",
      "Running command: kubectl exec sushi-seed-847fbbcd7c-gxhhf -- mina advanced node-status --show-errors --peers /ip4/209.126.9.140/tcp/8302/p2p/12D3KooWGso2i7DrmZ9X2QyLqCU6ooq3ycvEFfokw9kxwdcj9ihm\n",
      "Error in telemetry call: {'error': {'commit_id': '09758671a488c6bd4c8f207524d3c962fdcd5d75', 'string': 'RPC #58896 failed: \"context deadline exceeded\"'}}\n",
      "Running command: kubectl exec sushi-seed-847fbbcd7c-gxhhf -- mina advanced node-status --show-errors --peers /ip4/35.196.62.247/tcp/10004/p2p/12D3KooWL1DJTigSwuKQRfQE3p7puFUqfbHjXbZJ9YBWtMNpr3GU\n",
      "Error in telemetry call: {'error': {'commit_id': '09758671a488c6bd4c8f207524d3c962fdcd5d75', 'string': 'RPC #58898 failed: \"context deadline exceeded\"'}}\n",
      "Running command: kubectl exec sushi-seed-847fbbcd7c-gxhhf -- mina advanced node-status --show-errors --peers /ip4/144.76.218.23/tcp/8302/p2p/12D3KooWC4Fq3xrszFa7G9mtzMtbc9i7auf7o9sGLexASSst7ck9\n",
      "Error in telemetry call: {'error': {'commit_id': '09758671a488c6bd4c8f207524d3c962fdcd5d75', 'string': 'RPC #58899 failed: \"context deadline exceeded\"'}}\n",
      "Running command: kubectl exec sushi-seed-847fbbcd7c-gxhhf -- mina advanced node-status --show-errors --peers /ip4/78.46.56.189/tcp/8302/p2p/12D3KooWCegCFW2HveiRPmD6FsM6uKbcFRictYZQ7ju9R1bvrN6w\n",
      "Error in telemetry call: {'error': {'commit_id': '09758671a488c6bd4c8f207524d3c962fdcd5d75', 'string': 'RPC #58900 failed: \"context deadline exceeded\"'}}\n",
      "Running command: kubectl exec sushi-seed-847fbbcd7c-gxhhf -- mina advanced node-status --show-errors --peers /ip4/3.141.7.214/tcp/8302/p2p/12D3KooWLyuTkaA3JhVPHW3UqUhnJ6SqA8ygeQeWHbJnXyvm6hHj\n",
      "Error in telemetry call: {'error': {'commit_id': '09758671a488c6bd4c8f207524d3c962fdcd5d75', 'string': 'RPC #58901 failed: \"context deadline exceeded\"'}}\n",
      "Running command: kubectl exec sushi-seed-847fbbcd7c-gxhhf -- mina advanced node-status --show-errors --peers /ip4/209.145.60.203/tcp/8302/p2p/12D3KooWQmbkJg73pK6FjKEogqxfBg7EudzQD65mHHBRVAokCreZ\n",
      "Error in telemetry call: {'error': {'commit_id': '09758671a488c6bd4c8f207524d3c962fdcd5d75', 'string': 'RPC #58902 failed: \"context deadline exceeded\"'}}\n",
      "Running command: kubectl exec sushi-seed-847fbbcd7c-gxhhf -- mina advanced node-status --show-errors --peers /ip4/95.217.192.210/tcp/8302/p2p/12D3KooWKZBrh4TR7pVhDxRSLk3E9o3jT5Jne8gZbUnRAfHypbio\n",
      "Error in telemetry call: {'error': {'commit_id': '09758671a488c6bd4c8f207524d3c962fdcd5d75', 'string': 'RPC #58903 failed: \"context deadline exceeded\"'}}\n",
      "Running command: kubectl exec sushi-seed-847fbbcd7c-gxhhf -- mina advanced node-status --show-errors --peers /ip4/88.198.25.49/tcp/8302/p2p/12D3KooWSKHdCNbUGESrXSrYuUHxJhrp5RPqhARBWKpP8zDYyBwr\n",
      "Error in telemetry call: {'error': {'commit_id': '09758671a488c6bd4c8f207524d3c962fdcd5d75', 'string': 'RPC #58904 failed: \"context deadline exceeded\"'}}\n",
      "Running command: kubectl exec sushi-seed-847fbbcd7c-gxhhf -- mina advanced node-status --show-errors --peers /ip4/5.182.209.131/tcp/8302/p2p/12D3KooWN713TYAYCJfcuonrDNUg3WJGSrMrGPuaDumy8AqkFstR\n",
      "Error in telemetry call: {'error': {'commit_id': '09758671a488c6bd4c8f207524d3c962fdcd5d75', 'string': 'RPC #58906 failed: \"context deadline exceeded\"'}}\n",
      "Running command: kubectl exec sushi-seed-847fbbcd7c-gxhhf -- mina advanced node-status --show-errors --peers /ip4/213.171.211.156/tcp/8302/p2p/12D3KooWC7oFAzxHkDUPQmGaUpWe6J7TmYhhnwSncbbFN4rnXEed\n",
      "Error in telemetry call: {'error': {'commit_id': '09758671a488c6bd4c8f207524d3c962fdcd5d75', 'string': 'RPC #58908 failed: \"context deadline exceeded\"'}}\n",
      "Running command: kubectl exec sushi-seed-847fbbcd7c-gxhhf -- mina advanced node-status --show-errors --peers /ip4/144.91.125.57/tcp/8302/p2p/12D3KooWS5opjfXgdcwHaDfnMFRuzrvSMMJGs3FjgQJ71Eo7ie5F\n",
      "Error in telemetry call: {'error': {'commit_id': '09758671a488c6bd4c8f207524d3c962fdcd5d75', 'string': 'RPC #58910 failed: \"context deadline exceeded\"'}}\n",
      "Running command: kubectl exec sushi-seed-847fbbcd7c-gxhhf -- mina advanced node-status --show-errors --peers /ip4/213.202.225.71/tcp/8302/p2p/12D3KooWKiMTzsE5KA9sQcuc5xT6w4y7nWyuUF1eB8RmJWfXmuko\n",
      "Error in telemetry call: {'error': {'commit_id': '09758671a488c6bd4c8f207524d3c962fdcd5d75', 'string': 'RPC #58911 failed: \"context deadline exceeded\"'}}\n",
      "Running command: kubectl exec sushi-seed-847fbbcd7c-gxhhf -- mina advanced node-status --show-errors --peers /ip4/34.71.94.47/tcp/10101/p2p/12D3KooWEKyizvYY86knfByTQXBTtHc86s7jQXJGtqqK6XGNt5bE\n",
      "Error in telemetry call: {'error': {'commit_id': '09758671a488c6bd4c8f207524d3c962fdcd5d75', 'string': 'RPC #58912 failed: \"dial to self attempted\"'}}\n",
      "Running command: kubectl exec sushi-seed-847fbbcd7c-gxhhf -- mina advanced node-status --show-errors --peers /ip4/58.33.9.132/tcp/8302/p2p/12D3KooWKc2YcFrjR7BUTHW7o68woERvddXL7AxVfNZgeJ4XaY5C\n",
      "Error in telemetry call: {'error': {'commit_id': '09758671a488c6bd4c8f207524d3c962fdcd5d75', 'string': 'RPC #58913 failed: \"context deadline exceeded\"'}}\n",
      "Running command: kubectl exec sushi-seed-847fbbcd7c-gxhhf -- mina advanced node-status --show-errors --peers /ip4/116.202.222.104/tcp/8302/p2p/12D3KooWDqctjZXgMJMsUS7B1JnuTDoAREZ2t4dSz1Xe1BA56NG5\n",
      "Error in telemetry call: {'error': {'commit_id': '09758671a488c6bd4c8f207524d3c962fdcd5d75', 'string': 'RPC #58914 failed: \"context deadline exceeded\"'}}\n",
      "Running command: kubectl exec sushi-seed-847fbbcd7c-gxhhf -- mina advanced node-status --show-errors --peers /ip4/134.249.187.129/tcp/1040/p2p/12D3KooWCMn2fac41mL7pkR9ips3Us6wGqkNWNoJ6f4MCDcnEeZa\n",
      "Error in telemetry call: {'error': {'commit_id': '09758671a488c6bd4c8f207524d3c962fdcd5d75', 'string': 'RPC #58915 failed: \"context deadline exceeded\"'}}\n",
      "Running command: kubectl exec sushi-seed-847fbbcd7c-gxhhf -- mina advanced node-status --show-errors --peers /ip4/143.110.214.194/tcp/8302/p2p/12D3KooWFsgXGHRuv2kyCMLYFef2uYSskDUnd3WwXboMutRHsszF\n",
      "Error in telemetry call: {'error': {'commit_id': '09758671a488c6bd4c8f207524d3c962fdcd5d75', 'string': 'RPC #58916 failed: \"context deadline exceeded\"'}}\n"
     ]
    }
   ],
   "source": [
    "# Update existing List\n",
    "for index, peer in enumerate(observed_peers):\n",
    "    if peer[\"telemetry\"] == None or \"error\" in peer[\"telemetry\"]:\n",
    "        telemetry = get_telemetry(peer[\"multiaddr\"])\n",
    "        peer[\"telemetry\"] = telemetry\n",
    "        observed_peers[index] = peer\n"
   ]
  },
  {
   "cell_type": "code",
   "execution_count": 6,
   "id": "printable-transcript",
   "metadata": {},
   "outputs": [
    {
     "name": "stdout",
     "output_type": "stream",
     "text": [
      "Error Peers: 181\n",
      "Observed Peers: 433\n"
     ]
    }
   ],
   "source": [
    "error_peers = [k['telemetry'] for k in observed_peers if k[\"telemetry\"].get('error')]\n",
    "print(f\"Error Peers: {len(error_peers)}\")\n",
    "print(f\"Observed Peers: {len(observed_peers)}\")"
   ]
  },
  {
   "cell_type": "code",
   "execution_count": 7,
   "id": "secret-performer",
   "metadata": {},
   "outputs": [],
   "source": [
    "current_timestamp = datetime.now().strftime(\"%Y%m%d-%H%M%S\")\n",
    "filename = f\"peer-network-scrape-{current_timestamp}.json\"\n",
    "with open(filename, \"w\") as file:\n",
    "    file.write(json.dumps(list(observed_peers)))"
   ]
  },
  {
   "cell_type": "code",
   "execution_count": 8,
   "id": "numeric-profile",
   "metadata": {},
   "outputs": [
    {
     "name": "stdout",
     "output_type": "stream",
     "text": [
      "433 peers observed\n"
     ]
    },
    {
     "data": {
      "text/plain": [
       "dict_keys(['node_ip_addr', 'node_peer_id', 'sync_status', 'peers', 'block_producers', 'protocol_state_hash', 'ban_statuses', 'k_block_hashes_and_timestamps', 'git_commit', 'uptime_minutes'])"
      ]
     },
     "execution_count": 8,
     "metadata": {},
     "output_type": "execute_result"
    }
   ],
   "source": [
    "print(f\"{len(observed_peers)} peers observed\")\n",
    "next((item for item in observed_peers if \"error\" not in item[\"telemetry\"]), {})[\"telemetry\"].keys()"
   ]
  },
  {
   "cell_type": "code",
   "execution_count": 9,
   "id": "careful-death",
   "metadata": {},
   "outputs": [],
   "source": [
    "import ipinfo\n",
    "import os\n",
    "access_token = os.getenv(\"IPINFO_TOKEN\") \n",
    "handler = ipinfo.getHandler(access_token)\n",
    "\n",
    "locations = []\n",
    "for peer in observed_peers:\n",
    "    multiaddr_parts = peer[\"multiaddr\"].split(\"/\")\n",
    "    ip_address = multiaddr_parts[2]\n",
    "    details = handler.getDetails(ip_address).all\n",
    "    \n",
    "    try:\n",
    "        city = details[\"city\"]\n",
    "    except KeyError: \n",
    "        city = \"None\"\n",
    "        \n",
    "    try:\n",
    "        country = details[\"country\"]\n",
    "    except KeyError: \n",
    "        country = \"None\"\n",
    "        \n",
    "    try:\n",
    "        org = details[\"org\"]\n",
    "    except KeyError: \n",
    "        org = \"None\"\n",
    "    \n",
    "    try:\n",
    "        lat = details[\"latitude\"]\n",
    "    except KeyError: \n",
    "        lat = 0\n",
    "        \n",
    "    try:\n",
    "        long = details[\"longitude\"]\n",
    "    except KeyError: \n",
    "        long = 0\n",
    "        \n",
    "        \n",
    "        \n",
    "    peer[\"info\"] = {\n",
    "        \"lat\": lat, \n",
    "        \"long\": long, \n",
    "        \"multiaddr\": peer[\"multiaddr\"], \n",
    "        \"peer_id\": multiaddr_parts[6], \n",
    "        \"ip_address\": ip_address, \n",
    "        \"city\": city, \n",
    "        \"country\": country, \n",
    "        \"org\": org\n",
    "    }\n",
    "    \n",
    "    "
   ]
  },
  {
   "cell_type": "code",
   "execution_count": 10,
   "id": "possible-density",
   "metadata": {},
   "outputs": [],
   "source": [
    "import pandas as pd\n",
    "\n",
    "\n",
    "df = pd.DataFrame(observed_peers)"
   ]
  },
  {
   "cell_type": "code",
   "execution_count": 11,
   "id": "moving-broad",
   "metadata": {},
   "outputs": [
    {
     "data": {
      "text/html": [
       "<div>\n",
       "<style scoped>\n",
       "    .dataframe tbody tr th:only-of-type {\n",
       "        vertical-align: middle;\n",
       "    }\n",
       "\n",
       "    .dataframe tbody tr th {\n",
       "        vertical-align: top;\n",
       "    }\n",
       "\n",
       "    .dataframe thead th {\n",
       "        text-align: right;\n",
       "    }\n",
       "</style>\n",
       "<table border=\"1\" class=\"dataframe\">\n",
       "  <thead>\n",
       "    <tr style=\"text-align: right;\">\n",
       "      <th></th>\n",
       "      <th>telemetry</th>\n",
       "      <th>multiaddr</th>\n",
       "      <th>info</th>\n",
       "      <th>info.lat</th>\n",
       "      <th>info.long</th>\n",
       "      <th>info.multiaddr</th>\n",
       "      <th>info.peer_id</th>\n",
       "      <th>info.ip_address</th>\n",
       "      <th>info.city</th>\n",
       "      <th>info.country</th>\n",
       "      <th>info.org</th>\n",
       "    </tr>\n",
       "  </thead>\n",
       "  <tbody>\n",
       "    <tr>\n",
       "      <th>0</th>\n",
       "      <td>{'error': {'commit_id': '09758671a488c6bd4c8f2...</td>\n",
       "      <td>/ip4/185.67.3.103/tcp/8302/p2p/12D3KooWPMY9h2w...</td>\n",
       "      <td>{'lat': '50.4547', 'long': '30.5238', 'multiad...</td>\n",
       "      <td>50.4547</td>\n",
       "      <td>30.5238</td>\n",
       "      <td>/ip4/185.67.3.103/tcp/8302/p2p/12D3KooWPMY9h2w...</td>\n",
       "      <td>12D3KooWPMY9h2wN6uxckoRNyP9pNjkMg1ANBKLYYwK36q...</td>\n",
       "      <td>185.67.3.103</td>\n",
       "      <td>Kyiv</td>\n",
       "      <td>UA</td>\n",
       "      <td>AS196645 LTD HOSTPRO LAB</td>\n",
       "    </tr>\n",
       "    <tr>\n",
       "      <th>1</th>\n",
       "      <td>{'error': {'commit_id': '09758671a488c6bd4c8f2...</td>\n",
       "      <td>/ip4/62.171.133.104/tcp/8302/p2p/12D3KooWFBHKu...</td>\n",
       "      <td>{'lat': '47.4921', 'long': '11.0958', 'multiad...</td>\n",
       "      <td>47.4921</td>\n",
       "      <td>11.0958</td>\n",
       "      <td>/ip4/62.171.133.104/tcp/8302/p2p/12D3KooWFBHKu...</td>\n",
       "      <td>12D3KooWFBHKuquNwDVJZ76bxg1niDQH6fv787Qmpy9TLA...</td>\n",
       "      <td>62.171.133.104</td>\n",
       "      <td>Garmisch-Partenkirchen</td>\n",
       "      <td>DE</td>\n",
       "      <td>AS51167 Contabo GmbH</td>\n",
       "    </tr>\n",
       "    <tr>\n",
       "      <th>2</th>\n",
       "      <td>{'error': {'commit_id': '09758671a488c6bd4c8f2...</td>\n",
       "      <td>/ip4/188.34.183.17/tcp/8302/p2p/12D3KooWFCDGWs...</td>\n",
       "      <td>{'lat': '50.1155', 'long': '8.6842', 'multiadd...</td>\n",
       "      <td>50.1155</td>\n",
       "      <td>8.6842</td>\n",
       "      <td>/ip4/188.34.183.17/tcp/8302/p2p/12D3KooWFCDGWs...</td>\n",
       "      <td>12D3KooWFCDGWs9eaHd3iGirj2ForY4CGbjAiTi6VqSFQs...</td>\n",
       "      <td>188.34.183.17</td>\n",
       "      <td>Frankfurt am Main</td>\n",
       "      <td>DE</td>\n",
       "      <td>AS24940 Hetzner Online GmbH</td>\n",
       "    </tr>\n",
       "    <tr>\n",
       "      <th>3</th>\n",
       "      <td>{'error': {'commit_id': '09758671a488c6bd4c8f2...</td>\n",
       "      <td>/ip4/35.226.250.48/tcp/8302/p2p/12D3KooWMvU6gQ...</td>\n",
       "      <td>{'lat': '41.2619', 'long': '-95.8608', 'multia...</td>\n",
       "      <td>41.2619</td>\n",
       "      <td>-95.8608</td>\n",
       "      <td>/ip4/35.226.250.48/tcp/8302/p2p/12D3KooWMvU6gQ...</td>\n",
       "      <td>12D3KooWMvU6gQyz272PmRnEvxQpFARHCszm7phA1LXjQU...</td>\n",
       "      <td>35.226.250.48</td>\n",
       "      <td>Council Bluffs</td>\n",
       "      <td>US</td>\n",
       "      <td>AS15169 Google LLC</td>\n",
       "    </tr>\n",
       "    <tr>\n",
       "      <th>4</th>\n",
       "      <td>{'error': {'commit_id': '09758671a488c6bd4c8f2...</td>\n",
       "      <td>/ip4/51.222.11.200/tcp/8302/p2p/12D3KooWEEjqKm...</td>\n",
       "      <td>{'lat': '45.5088', 'long': '-73.5878', 'multia...</td>\n",
       "      <td>45.5088</td>\n",
       "      <td>-73.5878</td>\n",
       "      <td>/ip4/51.222.11.200/tcp/8302/p2p/12D3KooWEEjqKm...</td>\n",
       "      <td>12D3KooWEEjqKmkdwFJLKpcokjMkWhNXVaFwykqy4Adctf...</td>\n",
       "      <td>51.222.11.200</td>\n",
       "      <td>Montréal</td>\n",
       "      <td>CA</td>\n",
       "      <td>AS16276 OVH SAS</td>\n",
       "    </tr>\n",
       "    <tr>\n",
       "      <th>...</th>\n",
       "      <td>...</td>\n",
       "      <td>...</td>\n",
       "      <td>...</td>\n",
       "      <td>...</td>\n",
       "      <td>...</td>\n",
       "      <td>...</td>\n",
       "      <td>...</td>\n",
       "      <td>...</td>\n",
       "      <td>...</td>\n",
       "      <td>...</td>\n",
       "      <td>...</td>\n",
       "    </tr>\n",
       "    <tr>\n",
       "      <th>428</th>\n",
       "      <td>{}</td>\n",
       "      <td>/ip4/176.106.59.120/tcp/11433/p2p/12D3KooWKoEJ...</td>\n",
       "      <td>{'lat': '56.9460', 'long': '24.1059', 'multiad...</td>\n",
       "      <td>56.9460</td>\n",
       "      <td>24.1059</td>\n",
       "      <td>/ip4/176.106.59.120/tcp/11433/p2p/12D3KooWKoEJ...</td>\n",
       "      <td>12D3KooWKoEJWQPNpD8Z2yA66c8NZGRGPTNy57rM7Z6HQ3...</td>\n",
       "      <td>176.106.59.120</td>\n",
       "      <td>Riga</td>\n",
       "      <td>LV</td>\n",
       "      <td>AS24589 Telenet SIA</td>\n",
       "    </tr>\n",
       "    <tr>\n",
       "      <th>429</th>\n",
       "      <td>{}</td>\n",
       "      <td>/ip4/134.195.196.56/tcp/8302/p2p/12D3KooWPdLJt...</td>\n",
       "      <td>{'lat': '45.5088', 'long': '-73.5878', 'multia...</td>\n",
       "      <td>45.5088</td>\n",
       "      <td>-73.5878</td>\n",
       "      <td>/ip4/134.195.196.56/tcp/8302/p2p/12D3KooWPdLJt...</td>\n",
       "      <td>12D3KooWPdLJtpw2toshJSynW9HxmCjCmGppmtf7gnxLYa...</td>\n",
       "      <td>134.195.196.56</td>\n",
       "      <td>Montréal</td>\n",
       "      <td>CA</td>\n",
       "      <td>AS62563 GLOBALTELEHOST Corp.</td>\n",
       "    </tr>\n",
       "    <tr>\n",
       "      <th>430</th>\n",
       "      <td>{}</td>\n",
       "      <td>/ip4/65.21.5.88/tcp/8302/p2p/12D3KooWJoXMxVHrx...</td>\n",
       "      <td>{'lat': '60.3540', 'long': '24.9794', 'multiad...</td>\n",
       "      <td>60.3540</td>\n",
       "      <td>24.9794</td>\n",
       "      <td>/ip4/65.21.5.88/tcp/8302/p2p/12D3KooWJoXMxVHrx...</td>\n",
       "      <td>12D3KooWJoXMxVHrxLydtshAD4zGNjnymoccYikqSzB7H3...</td>\n",
       "      <td>65.21.5.88</td>\n",
       "      <td>Tuusula</td>\n",
       "      <td>FI</td>\n",
       "      <td>AS24940 Hetzner Online GmbH</td>\n",
       "    </tr>\n",
       "    <tr>\n",
       "      <th>431</th>\n",
       "      <td>{}</td>\n",
       "      <td>/ip4/95.217.122.162/tcp/1024/p2p/12D3KooWGmqyj...</td>\n",
       "      <td>{'lat': '60.3540', 'long': '24.9794', 'multiad...</td>\n",
       "      <td>60.3540</td>\n",
       "      <td>24.9794</td>\n",
       "      <td>/ip4/95.217.122.162/tcp/1024/p2p/12D3KooWGmqyj...</td>\n",
       "      <td>12D3KooWGmqyj1hodJS5hE4NfRZo26GcjRcYiPS7A9XSJ9...</td>\n",
       "      <td>95.217.122.162</td>\n",
       "      <td>Tuusula</td>\n",
       "      <td>FI</td>\n",
       "      <td>AS24940 Hetzner Online GmbH</td>\n",
       "    </tr>\n",
       "    <tr>\n",
       "      <th>432</th>\n",
       "      <td>{}</td>\n",
       "      <td>/ip4/51.195.104.56/tcp/8302/p2p/12D3KooWGDHtsP...</td>\n",
       "      <td>{'lat': '50.3830', 'long': '8.0611', 'multiadd...</td>\n",
       "      <td>50.3830</td>\n",
       "      <td>8.0611</td>\n",
       "      <td>/ip4/51.195.104.56/tcp/8302/p2p/12D3KooWGDHtsP...</td>\n",
       "      <td>12D3KooWGDHtsPUS8dZk3x3FUgsXCWwpnSJ6W7EwkWZKBZ...</td>\n",
       "      <td>51.195.104.56</td>\n",
       "      <td>Limburg an der Lahn</td>\n",
       "      <td>DE</td>\n",
       "      <td>AS16276 OVH SAS</td>\n",
       "    </tr>\n",
       "  </tbody>\n",
       "</table>\n",
       "<p>433 rows × 11 columns</p>\n",
       "</div>"
      ],
      "text/plain": [
       "                                             telemetry  \\\n",
       "0    {'error': {'commit_id': '09758671a488c6bd4c8f2...   \n",
       "1    {'error': {'commit_id': '09758671a488c6bd4c8f2...   \n",
       "2    {'error': {'commit_id': '09758671a488c6bd4c8f2...   \n",
       "3    {'error': {'commit_id': '09758671a488c6bd4c8f2...   \n",
       "4    {'error': {'commit_id': '09758671a488c6bd4c8f2...   \n",
       "..                                                 ...   \n",
       "428                                                 {}   \n",
       "429                                                 {}   \n",
       "430                                                 {}   \n",
       "431                                                 {}   \n",
       "432                                                 {}   \n",
       "\n",
       "                                             multiaddr  \\\n",
       "0    /ip4/185.67.3.103/tcp/8302/p2p/12D3KooWPMY9h2w...   \n",
       "1    /ip4/62.171.133.104/tcp/8302/p2p/12D3KooWFBHKu...   \n",
       "2    /ip4/188.34.183.17/tcp/8302/p2p/12D3KooWFCDGWs...   \n",
       "3    /ip4/35.226.250.48/tcp/8302/p2p/12D3KooWMvU6gQ...   \n",
       "4    /ip4/51.222.11.200/tcp/8302/p2p/12D3KooWEEjqKm...   \n",
       "..                                                 ...   \n",
       "428  /ip4/176.106.59.120/tcp/11433/p2p/12D3KooWKoEJ...   \n",
       "429  /ip4/134.195.196.56/tcp/8302/p2p/12D3KooWPdLJt...   \n",
       "430  /ip4/65.21.5.88/tcp/8302/p2p/12D3KooWJoXMxVHrx...   \n",
       "431  /ip4/95.217.122.162/tcp/1024/p2p/12D3KooWGmqyj...   \n",
       "432  /ip4/51.195.104.56/tcp/8302/p2p/12D3KooWGDHtsP...   \n",
       "\n",
       "                                                  info info.lat info.long  \\\n",
       "0    {'lat': '50.4547', 'long': '30.5238', 'multiad...  50.4547   30.5238   \n",
       "1    {'lat': '47.4921', 'long': '11.0958', 'multiad...  47.4921   11.0958   \n",
       "2    {'lat': '50.1155', 'long': '8.6842', 'multiadd...  50.1155    8.6842   \n",
       "3    {'lat': '41.2619', 'long': '-95.8608', 'multia...  41.2619  -95.8608   \n",
       "4    {'lat': '45.5088', 'long': '-73.5878', 'multia...  45.5088  -73.5878   \n",
       "..                                                 ...      ...       ...   \n",
       "428  {'lat': '56.9460', 'long': '24.1059', 'multiad...  56.9460   24.1059   \n",
       "429  {'lat': '45.5088', 'long': '-73.5878', 'multia...  45.5088  -73.5878   \n",
       "430  {'lat': '60.3540', 'long': '24.9794', 'multiad...  60.3540   24.9794   \n",
       "431  {'lat': '60.3540', 'long': '24.9794', 'multiad...  60.3540   24.9794   \n",
       "432  {'lat': '50.3830', 'long': '8.0611', 'multiadd...  50.3830    8.0611   \n",
       "\n",
       "                                        info.multiaddr  \\\n",
       "0    /ip4/185.67.3.103/tcp/8302/p2p/12D3KooWPMY9h2w...   \n",
       "1    /ip4/62.171.133.104/tcp/8302/p2p/12D3KooWFBHKu...   \n",
       "2    /ip4/188.34.183.17/tcp/8302/p2p/12D3KooWFCDGWs...   \n",
       "3    /ip4/35.226.250.48/tcp/8302/p2p/12D3KooWMvU6gQ...   \n",
       "4    /ip4/51.222.11.200/tcp/8302/p2p/12D3KooWEEjqKm...   \n",
       "..                                                 ...   \n",
       "428  /ip4/176.106.59.120/tcp/11433/p2p/12D3KooWKoEJ...   \n",
       "429  /ip4/134.195.196.56/tcp/8302/p2p/12D3KooWPdLJt...   \n",
       "430  /ip4/65.21.5.88/tcp/8302/p2p/12D3KooWJoXMxVHrx...   \n",
       "431  /ip4/95.217.122.162/tcp/1024/p2p/12D3KooWGmqyj...   \n",
       "432  /ip4/51.195.104.56/tcp/8302/p2p/12D3KooWGDHtsP...   \n",
       "\n",
       "                                          info.peer_id info.ip_address  \\\n",
       "0    12D3KooWPMY9h2wN6uxckoRNyP9pNjkMg1ANBKLYYwK36q...    185.67.3.103   \n",
       "1    12D3KooWFBHKuquNwDVJZ76bxg1niDQH6fv787Qmpy9TLA...  62.171.133.104   \n",
       "2    12D3KooWFCDGWs9eaHd3iGirj2ForY4CGbjAiTi6VqSFQs...   188.34.183.17   \n",
       "3    12D3KooWMvU6gQyz272PmRnEvxQpFARHCszm7phA1LXjQU...   35.226.250.48   \n",
       "4    12D3KooWEEjqKmkdwFJLKpcokjMkWhNXVaFwykqy4Adctf...   51.222.11.200   \n",
       "..                                                 ...             ...   \n",
       "428  12D3KooWKoEJWQPNpD8Z2yA66c8NZGRGPTNy57rM7Z6HQ3...  176.106.59.120   \n",
       "429  12D3KooWPdLJtpw2toshJSynW9HxmCjCmGppmtf7gnxLYa...  134.195.196.56   \n",
       "430  12D3KooWJoXMxVHrxLydtshAD4zGNjnymoccYikqSzB7H3...      65.21.5.88   \n",
       "431  12D3KooWGmqyj1hodJS5hE4NfRZo26GcjRcYiPS7A9XSJ9...  95.217.122.162   \n",
       "432  12D3KooWGDHtsPUS8dZk3x3FUgsXCWwpnSJ6W7EwkWZKBZ...   51.195.104.56   \n",
       "\n",
       "                  info.city info.country                      info.org  \n",
       "0                      Kyiv           UA      AS196645 LTD HOSTPRO LAB  \n",
       "1    Garmisch-Partenkirchen           DE          AS51167 Contabo GmbH  \n",
       "2         Frankfurt am Main           DE   AS24940 Hetzner Online GmbH  \n",
       "3            Council Bluffs           US            AS15169 Google LLC  \n",
       "4                  Montréal           CA               AS16276 OVH SAS  \n",
       "..                      ...          ...                           ...  \n",
       "428                    Riga           LV           AS24589 Telenet SIA  \n",
       "429                Montréal           CA  AS62563 GLOBALTELEHOST Corp.  \n",
       "430                 Tuusula           FI   AS24940 Hetzner Online GmbH  \n",
       "431                 Tuusula           FI   AS24940 Hetzner Online GmbH  \n",
       "432     Limburg an der Lahn           DE               AS16276 OVH SAS  \n",
       "\n",
       "[433 rows x 11 columns]"
      ]
     },
     "execution_count": 11,
     "metadata": {},
     "output_type": "execute_result"
    }
   ],
   "source": [
    "# https://stackoverflow.com/questions/39899005/how-to-flatten-a-pandas-dataframe-with-some-columns-as-json\n",
    "import ast\n",
    "from pandas import json_normalize\n",
    "\n",
    "def only_dict(d):\n",
    "    '''\n",
    "    Convert json string representation of dictionary to a python dict\n",
    "    '''\n",
    "    return ast.literal_eval(d)\n",
    "\n",
    "info_flat = json_normalize(df['info'].tolist()).add_prefix('info.')\n",
    "info_flat\n",
    "merged = pd.merge(df, info_flat, left_on='multiaddr', right_on='info.multiaddr')\n",
    "merged"
   ]
  },
  {
   "cell_type": "code",
   "execution_count": 82,
   "id": "arabic-italy",
   "metadata": {},
   "outputs": [],
   "source": [
    "# import country_converter as coco\n",
    "# country_counts = merged[\"info.country\"].value_counts()\n",
    "\n",
    "\n",
    "# def remap_country_dict(input_dict):    \n",
    "#     cc = coco.CountryConverter()\n",
    "#     output_dict = {}\n",
    "#     for key in input_dict.keys():\n",
    "#         result = cc.convert(names=key, to='ISO3')\n",
    "#         output_dict[result] = input_dict[key]\n",
    "#     return output_dict\n",
    "\n",
    "# remapped = remap_country_dict(country_counts)\n",
    "# remapped"
   ]
  },
  {
   "cell_type": "code",
   "execution_count": 14,
   "id": "sharp-reflection",
   "metadata": {},
   "outputs": [
    {
     "name": "stderr",
     "output_type": "stream",
     "text": [
      "/usr/local/lib/python3.9/site-packages/country_converter/country_converter.py:578: FutureWarning: The default value of regex will change from True to False in a future version.\n",
      "  _match_col = self.data[src_format].astype(str).str.replace(\"\\\\..*\", \"\")\n",
      "None not found in regex\n"
     ]
    },
    {
     "data": {
      "text/plain": [
       "USA          114\n",
       "DEU           98\n",
       "FIN           77\n",
       "RUS           24\n",
       "CAN           20\n",
       "CHN           16\n",
       "FRA           13\n",
       "NLD           10\n",
       "UKR            8\n",
       "JPN            7\n",
       "GBR            7\n",
       "ESP            6\n",
       "SGP            5\n",
       "HKG            4\n",
       "LTU            3\n",
       "not found      3\n",
       "IND            2\n",
       "VNM            2\n",
       "GEO            2\n",
       "TUR            2\n",
       "AUT            2\n",
       "ITA            1\n",
       "KOR            1\n",
       "ROU            1\n",
       "BEL            1\n",
       "IRL            1\n",
       "LVA            1\n",
       "PHL            1\n",
       "THA            1\n",
       "Name: info.country, dtype: int64"
      ]
     },
     "execution_count": 14,
     "metadata": {},
     "output_type": "execute_result"
    }
   ],
   "source": [
    "import country_converter as coco\n",
    "\n",
    "cc = coco.CountryConverter()\n",
    "intermediate_df = merged\n",
    "for key in merged[\"info.country\"].unique():\n",
    "    new_key = cc.convert(names=key, to='ISO3')\n",
    "    intermediate_df = intermediate_df.replace(to_replace=key, value=new_key)\n",
    "country_counts = intermediate_df[\"info.country\"].value_counts()\n",
    "\n",
    "country_counts"
   ]
  },
  {
   "cell_type": "code",
   "execution_count": 15,
   "id": "comfortable-tension",
   "metadata": {},
   "outputs": [],
   "source": [
    "unique_countries = intermediate_df[\"info.country\"].unique()"
   ]
  },
  {
   "cell_type": "code",
   "execution_count": 16,
   "id": "broken-fence",
   "metadata": {},
   "outputs": [
    {
     "data": {
      "text/html": [
       "<div>\n",
       "<style scoped>\n",
       "    .dataframe tbody tr th:only-of-type {\n",
       "        vertical-align: middle;\n",
       "    }\n",
       "\n",
       "    .dataframe tbody tr th {\n",
       "        vertical-align: top;\n",
       "    }\n",
       "\n",
       "    .dataframe thead th {\n",
       "        text-align: right;\n",
       "    }\n",
       "</style>\n",
       "<table border=\"1\" class=\"dataframe\">\n",
       "  <thead>\n",
       "    <tr style=\"text-align: right;\">\n",
       "      <th></th>\n",
       "      <th>country</th>\n",
       "      <th>count</th>\n",
       "    </tr>\n",
       "  </thead>\n",
       "  <tbody>\n",
       "    <tr>\n",
       "      <th>0</th>\n",
       "      <td>UKR</td>\n",
       "      <td>8</td>\n",
       "    </tr>\n",
       "    <tr>\n",
       "      <th>1</th>\n",
       "      <td>DEU</td>\n",
       "      <td>98</td>\n",
       "    </tr>\n",
       "    <tr>\n",
       "      <th>2</th>\n",
       "      <td>USA</td>\n",
       "      <td>114</td>\n",
       "    </tr>\n",
       "    <tr>\n",
       "      <th>3</th>\n",
       "      <td>CAN</td>\n",
       "      <td>20</td>\n",
       "    </tr>\n",
       "    <tr>\n",
       "      <th>4</th>\n",
       "      <td>RUS</td>\n",
       "      <td>24</td>\n",
       "    </tr>\n",
       "    <tr>\n",
       "      <th>5</th>\n",
       "      <td>NLD</td>\n",
       "      <td>10</td>\n",
       "    </tr>\n",
       "    <tr>\n",
       "      <th>6</th>\n",
       "      <td>GBR</td>\n",
       "      <td>7</td>\n",
       "    </tr>\n",
       "    <tr>\n",
       "      <th>7</th>\n",
       "      <td>FIN</td>\n",
       "      <td>77</td>\n",
       "    </tr>\n",
       "    <tr>\n",
       "      <th>8</th>\n",
       "      <td>FRA</td>\n",
       "      <td>13</td>\n",
       "    </tr>\n",
       "    <tr>\n",
       "      <th>9</th>\n",
       "      <td>CHN</td>\n",
       "      <td>16</td>\n",
       "    </tr>\n",
       "    <tr>\n",
       "      <th>10</th>\n",
       "      <td>JPN</td>\n",
       "      <td>7</td>\n",
       "    </tr>\n",
       "    <tr>\n",
       "      <th>11</th>\n",
       "      <td>LTU</td>\n",
       "      <td>3</td>\n",
       "    </tr>\n",
       "    <tr>\n",
       "      <th>12</th>\n",
       "      <td>BEL</td>\n",
       "      <td>1</td>\n",
       "    </tr>\n",
       "    <tr>\n",
       "      <th>13</th>\n",
       "      <td>PHL</td>\n",
       "      <td>1</td>\n",
       "    </tr>\n",
       "    <tr>\n",
       "      <th>14</th>\n",
       "      <td>HKG</td>\n",
       "      <td>4</td>\n",
       "    </tr>\n",
       "    <tr>\n",
       "      <th>15</th>\n",
       "      <td>AUT</td>\n",
       "      <td>2</td>\n",
       "    </tr>\n",
       "    <tr>\n",
       "      <th>16</th>\n",
       "      <td>ESP</td>\n",
       "      <td>6</td>\n",
       "    </tr>\n",
       "    <tr>\n",
       "      <th>17</th>\n",
       "      <td>SGP</td>\n",
       "      <td>5</td>\n",
       "    </tr>\n",
       "    <tr>\n",
       "      <th>18</th>\n",
       "      <td>GEO</td>\n",
       "      <td>2</td>\n",
       "    </tr>\n",
       "    <tr>\n",
       "      <th>19</th>\n",
       "      <td>VNM</td>\n",
       "      <td>2</td>\n",
       "    </tr>\n",
       "    <tr>\n",
       "      <th>20</th>\n",
       "      <td>IND</td>\n",
       "      <td>2</td>\n",
       "    </tr>\n",
       "    <tr>\n",
       "      <th>21</th>\n",
       "      <td>IRL</td>\n",
       "      <td>1</td>\n",
       "    </tr>\n",
       "    <tr>\n",
       "      <th>22</th>\n",
       "      <td>not found</td>\n",
       "      <td>3</td>\n",
       "    </tr>\n",
       "    <tr>\n",
       "      <th>23</th>\n",
       "      <td>THA</td>\n",
       "      <td>1</td>\n",
       "    </tr>\n",
       "    <tr>\n",
       "      <th>24</th>\n",
       "      <td>TUR</td>\n",
       "      <td>2</td>\n",
       "    </tr>\n",
       "    <tr>\n",
       "      <th>25</th>\n",
       "      <td>ITA</td>\n",
       "      <td>1</td>\n",
       "    </tr>\n",
       "    <tr>\n",
       "      <th>26</th>\n",
       "      <td>KOR</td>\n",
       "      <td>1</td>\n",
       "    </tr>\n",
       "    <tr>\n",
       "      <th>27</th>\n",
       "      <td>ROU</td>\n",
       "      <td>1</td>\n",
       "    </tr>\n",
       "    <tr>\n",
       "      <th>28</th>\n",
       "      <td>LVA</td>\n",
       "      <td>1</td>\n",
       "    </tr>\n",
       "  </tbody>\n",
       "</table>\n",
       "</div>"
      ],
      "text/plain": [
       "      country  count\n",
       "0         UKR      8\n",
       "1         DEU     98\n",
       "2         USA    114\n",
       "3         CAN     20\n",
       "4         RUS     24\n",
       "5         NLD     10\n",
       "6         GBR      7\n",
       "7         FIN     77\n",
       "8         FRA     13\n",
       "9         CHN     16\n",
       "10        JPN      7\n",
       "11        LTU      3\n",
       "12        BEL      1\n",
       "13        PHL      1\n",
       "14        HKG      4\n",
       "15        AUT      2\n",
       "16        ESP      6\n",
       "17        SGP      5\n",
       "18        GEO      2\n",
       "19        VNM      2\n",
       "20        IND      2\n",
       "21        IRL      1\n",
       "22  not found      3\n",
       "23        THA      1\n",
       "24        TUR      2\n",
       "25        ITA      1\n",
       "26        KOR      1\n",
       "27        ROU      1\n",
       "28        LVA      1"
      ]
     },
     "execution_count": 16,
     "metadata": {},
     "output_type": "execute_result"
    }
   ],
   "source": [
    "output = []\n",
    "for country in unique_countries: \n",
    "    row = {\n",
    "        \"country\": country, \n",
    "        \"count\": country_counts[country]\n",
    "    }\n",
    "    output.append(row)\n",
    "country_count_df = pd.DataFrame(output)\n",
    "country_count_df"
   ]
  },
  {
   "cell_type": "code",
   "execution_count": 20,
   "id": "according-beaver",
   "metadata": {},
   "outputs": [
    {
     "data": {
      "application/vnd.plotly.v1+json": {
       "config": {
        "plotlyServerURL": "https://plot.ly"
       },
       "data": [
        {
         "geo": "geo",
         "hovertemplate": "count=%{marker.size}<br>country=%{location}<extra></extra>",
         "legendgroup": "",
         "locations": [
          "UKR",
          "DEU",
          "USA",
          "CAN",
          "RUS",
          "NLD",
          "GBR",
          "FIN",
          "FRA",
          "CHN",
          "JPN",
          "LTU",
          "BEL",
          "PHL",
          "HKG",
          "AUT",
          "ESP",
          "SGP",
          "GEO",
          "VNM",
          "IND",
          "IRL",
          "not found",
          "THA",
          "TUR",
          "ITA",
          "KOR",
          "ROU",
          "LVA"
         ],
         "marker": {
          "color": "#636efa",
          "size": [
           8,
           98,
           114,
           20,
           24,
           10,
           7,
           77,
           13,
           16,
           7,
           3,
           1,
           1,
           4,
           2,
           6,
           5,
           2,
           2,
           2,
           1,
           3,
           1,
           2,
           1,
           1,
           1,
           1
          ],
          "sizemode": "area",
          "sizeref": 0.285,
          "symbol": "circle"
         },
         "mode": "markers",
         "name": "",
         "showlegend": false,
         "type": "scattergeo"
        }
       ],
       "layout": {
        "geo": {
         "center": {},
         "domain": {
          "x": [
           0,
           1
          ],
          "y": [
           0,
           1
          ]
         },
         "projection": {
          "type": "natural earth"
         }
        },
        "legend": {
         "itemsizing": "constant",
         "tracegroupgap": 0
        },
        "template": {
         "data": {
          "bar": [
           {
            "error_x": {
             "color": "#2a3f5f"
            },
            "error_y": {
             "color": "#2a3f5f"
            },
            "marker": {
             "line": {
              "color": "#E5ECF6",
              "width": 0.5
             }
            },
            "type": "bar"
           }
          ],
          "barpolar": [
           {
            "marker": {
             "line": {
              "color": "#E5ECF6",
              "width": 0.5
             }
            },
            "type": "barpolar"
           }
          ],
          "carpet": [
           {
            "aaxis": {
             "endlinecolor": "#2a3f5f",
             "gridcolor": "white",
             "linecolor": "white",
             "minorgridcolor": "white",
             "startlinecolor": "#2a3f5f"
            },
            "baxis": {
             "endlinecolor": "#2a3f5f",
             "gridcolor": "white",
             "linecolor": "white",
             "minorgridcolor": "white",
             "startlinecolor": "#2a3f5f"
            },
            "type": "carpet"
           }
          ],
          "choropleth": [
           {
            "colorbar": {
             "outlinewidth": 0,
             "ticks": ""
            },
            "type": "choropleth"
           }
          ],
          "contour": [
           {
            "colorbar": {
             "outlinewidth": 0,
             "ticks": ""
            },
            "colorscale": [
             [
              0,
              "#0d0887"
             ],
             [
              0.1111111111111111,
              "#46039f"
             ],
             [
              0.2222222222222222,
              "#7201a8"
             ],
             [
              0.3333333333333333,
              "#9c179e"
             ],
             [
              0.4444444444444444,
              "#bd3786"
             ],
             [
              0.5555555555555556,
              "#d8576b"
             ],
             [
              0.6666666666666666,
              "#ed7953"
             ],
             [
              0.7777777777777778,
              "#fb9f3a"
             ],
             [
              0.8888888888888888,
              "#fdca26"
             ],
             [
              1,
              "#f0f921"
             ]
            ],
            "type": "contour"
           }
          ],
          "contourcarpet": [
           {
            "colorbar": {
             "outlinewidth": 0,
             "ticks": ""
            },
            "type": "contourcarpet"
           }
          ],
          "heatmap": [
           {
            "colorbar": {
             "outlinewidth": 0,
             "ticks": ""
            },
            "colorscale": [
             [
              0,
              "#0d0887"
             ],
             [
              0.1111111111111111,
              "#46039f"
             ],
             [
              0.2222222222222222,
              "#7201a8"
             ],
             [
              0.3333333333333333,
              "#9c179e"
             ],
             [
              0.4444444444444444,
              "#bd3786"
             ],
             [
              0.5555555555555556,
              "#d8576b"
             ],
             [
              0.6666666666666666,
              "#ed7953"
             ],
             [
              0.7777777777777778,
              "#fb9f3a"
             ],
             [
              0.8888888888888888,
              "#fdca26"
             ],
             [
              1,
              "#f0f921"
             ]
            ],
            "type": "heatmap"
           }
          ],
          "heatmapgl": [
           {
            "colorbar": {
             "outlinewidth": 0,
             "ticks": ""
            },
            "colorscale": [
             [
              0,
              "#0d0887"
             ],
             [
              0.1111111111111111,
              "#46039f"
             ],
             [
              0.2222222222222222,
              "#7201a8"
             ],
             [
              0.3333333333333333,
              "#9c179e"
             ],
             [
              0.4444444444444444,
              "#bd3786"
             ],
             [
              0.5555555555555556,
              "#d8576b"
             ],
             [
              0.6666666666666666,
              "#ed7953"
             ],
             [
              0.7777777777777778,
              "#fb9f3a"
             ],
             [
              0.8888888888888888,
              "#fdca26"
             ],
             [
              1,
              "#f0f921"
             ]
            ],
            "type": "heatmapgl"
           }
          ],
          "histogram": [
           {
            "marker": {
             "colorbar": {
              "outlinewidth": 0,
              "ticks": ""
             }
            },
            "type": "histogram"
           }
          ],
          "histogram2d": [
           {
            "colorbar": {
             "outlinewidth": 0,
             "ticks": ""
            },
            "colorscale": [
             [
              0,
              "#0d0887"
             ],
             [
              0.1111111111111111,
              "#46039f"
             ],
             [
              0.2222222222222222,
              "#7201a8"
             ],
             [
              0.3333333333333333,
              "#9c179e"
             ],
             [
              0.4444444444444444,
              "#bd3786"
             ],
             [
              0.5555555555555556,
              "#d8576b"
             ],
             [
              0.6666666666666666,
              "#ed7953"
             ],
             [
              0.7777777777777778,
              "#fb9f3a"
             ],
             [
              0.8888888888888888,
              "#fdca26"
             ],
             [
              1,
              "#f0f921"
             ]
            ],
            "type": "histogram2d"
           }
          ],
          "histogram2dcontour": [
           {
            "colorbar": {
             "outlinewidth": 0,
             "ticks": ""
            },
            "colorscale": [
             [
              0,
              "#0d0887"
             ],
             [
              0.1111111111111111,
              "#46039f"
             ],
             [
              0.2222222222222222,
              "#7201a8"
             ],
             [
              0.3333333333333333,
              "#9c179e"
             ],
             [
              0.4444444444444444,
              "#bd3786"
             ],
             [
              0.5555555555555556,
              "#d8576b"
             ],
             [
              0.6666666666666666,
              "#ed7953"
             ],
             [
              0.7777777777777778,
              "#fb9f3a"
             ],
             [
              0.8888888888888888,
              "#fdca26"
             ],
             [
              1,
              "#f0f921"
             ]
            ],
            "type": "histogram2dcontour"
           }
          ],
          "mesh3d": [
           {
            "colorbar": {
             "outlinewidth": 0,
             "ticks": ""
            },
            "type": "mesh3d"
           }
          ],
          "parcoords": [
           {
            "line": {
             "colorbar": {
              "outlinewidth": 0,
              "ticks": ""
             }
            },
            "type": "parcoords"
           }
          ],
          "pie": [
           {
            "automargin": true,
            "type": "pie"
           }
          ],
          "scatter": [
           {
            "marker": {
             "colorbar": {
              "outlinewidth": 0,
              "ticks": ""
             }
            },
            "type": "scatter"
           }
          ],
          "scatter3d": [
           {
            "line": {
             "colorbar": {
              "outlinewidth": 0,
              "ticks": ""
             }
            },
            "marker": {
             "colorbar": {
              "outlinewidth": 0,
              "ticks": ""
             }
            },
            "type": "scatter3d"
           }
          ],
          "scattercarpet": [
           {
            "marker": {
             "colorbar": {
              "outlinewidth": 0,
              "ticks": ""
             }
            },
            "type": "scattercarpet"
           }
          ],
          "scattergeo": [
           {
            "marker": {
             "colorbar": {
              "outlinewidth": 0,
              "ticks": ""
             }
            },
            "type": "scattergeo"
           }
          ],
          "scattergl": [
           {
            "marker": {
             "colorbar": {
              "outlinewidth": 0,
              "ticks": ""
             }
            },
            "type": "scattergl"
           }
          ],
          "scattermapbox": [
           {
            "marker": {
             "colorbar": {
              "outlinewidth": 0,
              "ticks": ""
             }
            },
            "type": "scattermapbox"
           }
          ],
          "scatterpolar": [
           {
            "marker": {
             "colorbar": {
              "outlinewidth": 0,
              "ticks": ""
             }
            },
            "type": "scatterpolar"
           }
          ],
          "scatterpolargl": [
           {
            "marker": {
             "colorbar": {
              "outlinewidth": 0,
              "ticks": ""
             }
            },
            "type": "scatterpolargl"
           }
          ],
          "scatterternary": [
           {
            "marker": {
             "colorbar": {
              "outlinewidth": 0,
              "ticks": ""
             }
            },
            "type": "scatterternary"
           }
          ],
          "surface": [
           {
            "colorbar": {
             "outlinewidth": 0,
             "ticks": ""
            },
            "colorscale": [
             [
              0,
              "#0d0887"
             ],
             [
              0.1111111111111111,
              "#46039f"
             ],
             [
              0.2222222222222222,
              "#7201a8"
             ],
             [
              0.3333333333333333,
              "#9c179e"
             ],
             [
              0.4444444444444444,
              "#bd3786"
             ],
             [
              0.5555555555555556,
              "#d8576b"
             ],
             [
              0.6666666666666666,
              "#ed7953"
             ],
             [
              0.7777777777777778,
              "#fb9f3a"
             ],
             [
              0.8888888888888888,
              "#fdca26"
             ],
             [
              1,
              "#f0f921"
             ]
            ],
            "type": "surface"
           }
          ],
          "table": [
           {
            "cells": {
             "fill": {
              "color": "#EBF0F8"
             },
             "line": {
              "color": "white"
             }
            },
            "header": {
             "fill": {
              "color": "#C8D4E3"
             },
             "line": {
              "color": "white"
             }
            },
            "type": "table"
           }
          ]
         },
         "layout": {
          "annotationdefaults": {
           "arrowcolor": "#2a3f5f",
           "arrowhead": 0,
           "arrowwidth": 1
          },
          "autotypenumbers": "strict",
          "coloraxis": {
           "colorbar": {
            "outlinewidth": 0,
            "ticks": ""
           }
          },
          "colorscale": {
           "diverging": [
            [
             0,
             "#8e0152"
            ],
            [
             0.1,
             "#c51b7d"
            ],
            [
             0.2,
             "#de77ae"
            ],
            [
             0.3,
             "#f1b6da"
            ],
            [
             0.4,
             "#fde0ef"
            ],
            [
             0.5,
             "#f7f7f7"
            ],
            [
             0.6,
             "#e6f5d0"
            ],
            [
             0.7,
             "#b8e186"
            ],
            [
             0.8,
             "#7fbc41"
            ],
            [
             0.9,
             "#4d9221"
            ],
            [
             1,
             "#276419"
            ]
           ],
           "sequential": [
            [
             0,
             "#0d0887"
            ],
            [
             0.1111111111111111,
             "#46039f"
            ],
            [
             0.2222222222222222,
             "#7201a8"
            ],
            [
             0.3333333333333333,
             "#9c179e"
            ],
            [
             0.4444444444444444,
             "#bd3786"
            ],
            [
             0.5555555555555556,
             "#d8576b"
            ],
            [
             0.6666666666666666,
             "#ed7953"
            ],
            [
             0.7777777777777778,
             "#fb9f3a"
            ],
            [
             0.8888888888888888,
             "#fdca26"
            ],
            [
             1,
             "#f0f921"
            ]
           ],
           "sequentialminus": [
            [
             0,
             "#0d0887"
            ],
            [
             0.1111111111111111,
             "#46039f"
            ],
            [
             0.2222222222222222,
             "#7201a8"
            ],
            [
             0.3333333333333333,
             "#9c179e"
            ],
            [
             0.4444444444444444,
             "#bd3786"
            ],
            [
             0.5555555555555556,
             "#d8576b"
            ],
            [
             0.6666666666666666,
             "#ed7953"
            ],
            [
             0.7777777777777778,
             "#fb9f3a"
            ],
            [
             0.8888888888888888,
             "#fdca26"
            ],
            [
             1,
             "#f0f921"
            ]
           ]
          },
          "colorway": [
           "#636efa",
           "#EF553B",
           "#00cc96",
           "#ab63fa",
           "#FFA15A",
           "#19d3f3",
           "#FF6692",
           "#B6E880",
           "#FF97FF",
           "#FECB52"
          ],
          "font": {
           "color": "#2a3f5f"
          },
          "geo": {
           "bgcolor": "white",
           "lakecolor": "white",
           "landcolor": "#E5ECF6",
           "showlakes": true,
           "showland": true,
           "subunitcolor": "white"
          },
          "hoverlabel": {
           "align": "left"
          },
          "hovermode": "closest",
          "mapbox": {
           "style": "light"
          },
          "paper_bgcolor": "white",
          "plot_bgcolor": "#E5ECF6",
          "polar": {
           "angularaxis": {
            "gridcolor": "white",
            "linecolor": "white",
            "ticks": ""
           },
           "bgcolor": "#E5ECF6",
           "radialaxis": {
            "gridcolor": "white",
            "linecolor": "white",
            "ticks": ""
           }
          },
          "scene": {
           "xaxis": {
            "backgroundcolor": "#E5ECF6",
            "gridcolor": "white",
            "gridwidth": 2,
            "linecolor": "white",
            "showbackground": true,
            "ticks": "",
            "zerolinecolor": "white"
           },
           "yaxis": {
            "backgroundcolor": "#E5ECF6",
            "gridcolor": "white",
            "gridwidth": 2,
            "linecolor": "white",
            "showbackground": true,
            "ticks": "",
            "zerolinecolor": "white"
           },
           "zaxis": {
            "backgroundcolor": "#E5ECF6",
            "gridcolor": "white",
            "gridwidth": 2,
            "linecolor": "white",
            "showbackground": true,
            "ticks": "",
            "zerolinecolor": "white"
           }
          },
          "shapedefaults": {
           "line": {
            "color": "#2a3f5f"
           }
          },
          "ternary": {
           "aaxis": {
            "gridcolor": "white",
            "linecolor": "white",
            "ticks": ""
           },
           "baxis": {
            "gridcolor": "white",
            "linecolor": "white",
            "ticks": ""
           },
           "bgcolor": "#E5ECF6",
           "caxis": {
            "gridcolor": "white",
            "linecolor": "white",
            "ticks": ""
           }
          },
          "title": {
           "x": 0.05
          },
          "xaxis": {
           "automargin": true,
           "gridcolor": "white",
           "linecolor": "white",
           "ticks": "",
           "title": {
            "standoff": 15
           },
           "zerolinecolor": "white",
           "zerolinewidth": 2
          },
          "yaxis": {
           "automargin": true,
           "gridcolor": "white",
           "linecolor": "white",
           "ticks": "",
           "title": {
            "standoff": 15
           },
           "zerolinecolor": "white",
           "zerolinewidth": 2
          }
         }
        },
        "title": {
         "text": "Count of Nodes per IP-Country"
        }
       }
      },
      "text/html": [
       "<div>                            <div id=\"4e2d936b-73b4-4036-9d98-87e7e5c82294\" class=\"plotly-graph-div\" style=\"height:525px; width:100%;\"></div>            <script type=\"text/javascript\">                require([\"plotly\"], function(Plotly) {                    window.PLOTLYENV=window.PLOTLYENV || {};                                    if (document.getElementById(\"4e2d936b-73b4-4036-9d98-87e7e5c82294\")) {                    Plotly.newPlot(                        \"4e2d936b-73b4-4036-9d98-87e7e5c82294\",                        [{\"geo\": \"geo\", \"hovertemplate\": \"count=%{marker.size}<br>country=%{location}<extra></extra>\", \"legendgroup\": \"\", \"locations\": [\"UKR\", \"DEU\", \"USA\", \"CAN\", \"RUS\", \"NLD\", \"GBR\", \"FIN\", \"FRA\", \"CHN\", \"JPN\", \"LTU\", \"BEL\", \"PHL\", \"HKG\", \"AUT\", \"ESP\", \"SGP\", \"GEO\", \"VNM\", \"IND\", \"IRL\", \"not found\", \"THA\", \"TUR\", \"ITA\", \"KOR\", \"ROU\", \"LVA\"], \"marker\": {\"color\": \"#636efa\", \"size\": [8, 98, 114, 20, 24, 10, 7, 77, 13, 16, 7, 3, 1, 1, 4, 2, 6, 5, 2, 2, 2, 1, 3, 1, 2, 1, 1, 1, 1], \"sizemode\": \"area\", \"sizeref\": 0.285, \"symbol\": \"circle\"}, \"mode\": \"markers\", \"name\": \"\", \"showlegend\": false, \"type\": \"scattergeo\"}],                        {\"geo\": {\"center\": {}, \"domain\": {\"x\": [0.0, 1.0], \"y\": [0.0, 1.0]}, \"projection\": {\"type\": \"natural earth\"}}, \"legend\": {\"itemsizing\": \"constant\", \"tracegroupgap\": 0}, \"template\": {\"data\": {\"bar\": [{\"error_x\": {\"color\": \"#2a3f5f\"}, \"error_y\": {\"color\": \"#2a3f5f\"}, \"marker\": {\"line\": {\"color\": \"#E5ECF6\", \"width\": 0.5}}, \"type\": \"bar\"}], \"barpolar\": [{\"marker\": {\"line\": {\"color\": \"#E5ECF6\", \"width\": 0.5}}, \"type\": \"barpolar\"}], \"carpet\": [{\"aaxis\": {\"endlinecolor\": \"#2a3f5f\", \"gridcolor\": \"white\", \"linecolor\": \"white\", \"minorgridcolor\": \"white\", \"startlinecolor\": \"#2a3f5f\"}, \"baxis\": {\"endlinecolor\": \"#2a3f5f\", \"gridcolor\": \"white\", \"linecolor\": \"white\", \"minorgridcolor\": \"white\", \"startlinecolor\": \"#2a3f5f\"}, \"type\": \"carpet\"}], \"choropleth\": [{\"colorbar\": {\"outlinewidth\": 0, \"ticks\": \"\"}, \"type\": \"choropleth\"}], \"contour\": [{\"colorbar\": {\"outlinewidth\": 0, \"ticks\": \"\"}, \"colorscale\": [[0.0, \"#0d0887\"], [0.1111111111111111, \"#46039f\"], [0.2222222222222222, \"#7201a8\"], [0.3333333333333333, \"#9c179e\"], [0.4444444444444444, \"#bd3786\"], [0.5555555555555556, \"#d8576b\"], [0.6666666666666666, \"#ed7953\"], [0.7777777777777778, \"#fb9f3a\"], [0.8888888888888888, \"#fdca26\"], [1.0, \"#f0f921\"]], \"type\": \"contour\"}], \"contourcarpet\": [{\"colorbar\": {\"outlinewidth\": 0, \"ticks\": \"\"}, \"type\": \"contourcarpet\"}], \"heatmap\": [{\"colorbar\": {\"outlinewidth\": 0, \"ticks\": \"\"}, \"colorscale\": [[0.0, \"#0d0887\"], [0.1111111111111111, \"#46039f\"], [0.2222222222222222, \"#7201a8\"], [0.3333333333333333, \"#9c179e\"], [0.4444444444444444, \"#bd3786\"], [0.5555555555555556, \"#d8576b\"], [0.6666666666666666, \"#ed7953\"], [0.7777777777777778, \"#fb9f3a\"], [0.8888888888888888, \"#fdca26\"], [1.0, \"#f0f921\"]], \"type\": \"heatmap\"}], \"heatmapgl\": [{\"colorbar\": {\"outlinewidth\": 0, \"ticks\": \"\"}, \"colorscale\": [[0.0, \"#0d0887\"], [0.1111111111111111, \"#46039f\"], [0.2222222222222222, \"#7201a8\"], [0.3333333333333333, \"#9c179e\"], [0.4444444444444444, \"#bd3786\"], [0.5555555555555556, \"#d8576b\"], [0.6666666666666666, \"#ed7953\"], [0.7777777777777778, \"#fb9f3a\"], [0.8888888888888888, \"#fdca26\"], [1.0, \"#f0f921\"]], \"type\": \"heatmapgl\"}], \"histogram\": [{\"marker\": {\"colorbar\": {\"outlinewidth\": 0, \"ticks\": \"\"}}, \"type\": \"histogram\"}], \"histogram2d\": [{\"colorbar\": {\"outlinewidth\": 0, \"ticks\": \"\"}, \"colorscale\": [[0.0, \"#0d0887\"], [0.1111111111111111, \"#46039f\"], [0.2222222222222222, \"#7201a8\"], [0.3333333333333333, \"#9c179e\"], [0.4444444444444444, \"#bd3786\"], [0.5555555555555556, \"#d8576b\"], [0.6666666666666666, \"#ed7953\"], [0.7777777777777778, \"#fb9f3a\"], [0.8888888888888888, \"#fdca26\"], [1.0, \"#f0f921\"]], \"type\": \"histogram2d\"}], \"histogram2dcontour\": [{\"colorbar\": {\"outlinewidth\": 0, \"ticks\": \"\"}, \"colorscale\": [[0.0, \"#0d0887\"], [0.1111111111111111, \"#46039f\"], [0.2222222222222222, \"#7201a8\"], [0.3333333333333333, \"#9c179e\"], [0.4444444444444444, \"#bd3786\"], [0.5555555555555556, \"#d8576b\"], [0.6666666666666666, \"#ed7953\"], [0.7777777777777778, \"#fb9f3a\"], [0.8888888888888888, \"#fdca26\"], [1.0, \"#f0f921\"]], \"type\": \"histogram2dcontour\"}], \"mesh3d\": [{\"colorbar\": {\"outlinewidth\": 0, \"ticks\": \"\"}, \"type\": \"mesh3d\"}], \"parcoords\": [{\"line\": {\"colorbar\": {\"outlinewidth\": 0, \"ticks\": \"\"}}, \"type\": \"parcoords\"}], \"pie\": [{\"automargin\": true, \"type\": \"pie\"}], \"scatter\": [{\"marker\": {\"colorbar\": {\"outlinewidth\": 0, \"ticks\": \"\"}}, \"type\": \"scatter\"}], \"scatter3d\": [{\"line\": {\"colorbar\": {\"outlinewidth\": 0, \"ticks\": \"\"}}, \"marker\": {\"colorbar\": {\"outlinewidth\": 0, \"ticks\": \"\"}}, \"type\": \"scatter3d\"}], \"scattercarpet\": [{\"marker\": {\"colorbar\": {\"outlinewidth\": 0, \"ticks\": \"\"}}, \"type\": \"scattercarpet\"}], \"scattergeo\": [{\"marker\": {\"colorbar\": {\"outlinewidth\": 0, \"ticks\": \"\"}}, \"type\": \"scattergeo\"}], \"scattergl\": [{\"marker\": {\"colorbar\": {\"outlinewidth\": 0, \"ticks\": \"\"}}, \"type\": \"scattergl\"}], \"scattermapbox\": [{\"marker\": {\"colorbar\": {\"outlinewidth\": 0, \"ticks\": \"\"}}, \"type\": \"scattermapbox\"}], \"scatterpolar\": [{\"marker\": {\"colorbar\": {\"outlinewidth\": 0, \"ticks\": \"\"}}, \"type\": \"scatterpolar\"}], \"scatterpolargl\": [{\"marker\": {\"colorbar\": {\"outlinewidth\": 0, \"ticks\": \"\"}}, \"type\": \"scatterpolargl\"}], \"scatterternary\": [{\"marker\": {\"colorbar\": {\"outlinewidth\": 0, \"ticks\": \"\"}}, \"type\": \"scatterternary\"}], \"surface\": [{\"colorbar\": {\"outlinewidth\": 0, \"ticks\": \"\"}, \"colorscale\": [[0.0, \"#0d0887\"], [0.1111111111111111, \"#46039f\"], [0.2222222222222222, \"#7201a8\"], [0.3333333333333333, \"#9c179e\"], [0.4444444444444444, \"#bd3786\"], [0.5555555555555556, \"#d8576b\"], [0.6666666666666666, \"#ed7953\"], [0.7777777777777778, \"#fb9f3a\"], [0.8888888888888888, \"#fdca26\"], [1.0, \"#f0f921\"]], \"type\": \"surface\"}], \"table\": [{\"cells\": {\"fill\": {\"color\": \"#EBF0F8\"}, \"line\": {\"color\": \"white\"}}, \"header\": {\"fill\": {\"color\": \"#C8D4E3\"}, \"line\": {\"color\": \"white\"}}, \"type\": \"table\"}]}, \"layout\": {\"annotationdefaults\": {\"arrowcolor\": \"#2a3f5f\", \"arrowhead\": 0, \"arrowwidth\": 1}, \"autotypenumbers\": \"strict\", \"coloraxis\": {\"colorbar\": {\"outlinewidth\": 0, \"ticks\": \"\"}}, \"colorscale\": {\"diverging\": [[0, \"#8e0152\"], [0.1, \"#c51b7d\"], [0.2, \"#de77ae\"], [0.3, \"#f1b6da\"], [0.4, \"#fde0ef\"], [0.5, \"#f7f7f7\"], [0.6, \"#e6f5d0\"], [0.7, \"#b8e186\"], [0.8, \"#7fbc41\"], [0.9, \"#4d9221\"], [1, \"#276419\"]], \"sequential\": [[0.0, \"#0d0887\"], [0.1111111111111111, \"#46039f\"], [0.2222222222222222, \"#7201a8\"], [0.3333333333333333, \"#9c179e\"], [0.4444444444444444, \"#bd3786\"], [0.5555555555555556, \"#d8576b\"], [0.6666666666666666, \"#ed7953\"], [0.7777777777777778, \"#fb9f3a\"], [0.8888888888888888, \"#fdca26\"], [1.0, \"#f0f921\"]], \"sequentialminus\": [[0.0, \"#0d0887\"], [0.1111111111111111, \"#46039f\"], [0.2222222222222222, \"#7201a8\"], [0.3333333333333333, \"#9c179e\"], [0.4444444444444444, \"#bd3786\"], [0.5555555555555556, \"#d8576b\"], [0.6666666666666666, \"#ed7953\"], [0.7777777777777778, \"#fb9f3a\"], [0.8888888888888888, \"#fdca26\"], [1.0, \"#f0f921\"]]}, \"colorway\": [\"#636efa\", \"#EF553B\", \"#00cc96\", \"#ab63fa\", \"#FFA15A\", \"#19d3f3\", \"#FF6692\", \"#B6E880\", \"#FF97FF\", \"#FECB52\"], \"font\": {\"color\": \"#2a3f5f\"}, \"geo\": {\"bgcolor\": \"white\", \"lakecolor\": \"white\", \"landcolor\": \"#E5ECF6\", \"showlakes\": true, \"showland\": true, \"subunitcolor\": \"white\"}, \"hoverlabel\": {\"align\": \"left\"}, \"hovermode\": \"closest\", \"mapbox\": {\"style\": \"light\"}, \"paper_bgcolor\": \"white\", \"plot_bgcolor\": \"#E5ECF6\", \"polar\": {\"angularaxis\": {\"gridcolor\": \"white\", \"linecolor\": \"white\", \"ticks\": \"\"}, \"bgcolor\": \"#E5ECF6\", \"radialaxis\": {\"gridcolor\": \"white\", \"linecolor\": \"white\", \"ticks\": \"\"}}, \"scene\": {\"xaxis\": {\"backgroundcolor\": \"#E5ECF6\", \"gridcolor\": \"white\", \"gridwidth\": 2, \"linecolor\": \"white\", \"showbackground\": true, \"ticks\": \"\", \"zerolinecolor\": \"white\"}, \"yaxis\": {\"backgroundcolor\": \"#E5ECF6\", \"gridcolor\": \"white\", \"gridwidth\": 2, \"linecolor\": \"white\", \"showbackground\": true, \"ticks\": \"\", \"zerolinecolor\": \"white\"}, \"zaxis\": {\"backgroundcolor\": \"#E5ECF6\", \"gridcolor\": \"white\", \"gridwidth\": 2, \"linecolor\": \"white\", \"showbackground\": true, \"ticks\": \"\", \"zerolinecolor\": \"white\"}}, \"shapedefaults\": {\"line\": {\"color\": \"#2a3f5f\"}}, \"ternary\": {\"aaxis\": {\"gridcolor\": \"white\", \"linecolor\": \"white\", \"ticks\": \"\"}, \"baxis\": {\"gridcolor\": \"white\", \"linecolor\": \"white\", \"ticks\": \"\"}, \"bgcolor\": \"#E5ECF6\", \"caxis\": {\"gridcolor\": \"white\", \"linecolor\": \"white\", \"ticks\": \"\"}}, \"title\": {\"x\": 0.05}, \"xaxis\": {\"automargin\": true, \"gridcolor\": \"white\", \"linecolor\": \"white\", \"ticks\": \"\", \"title\": {\"standoff\": 15}, \"zerolinecolor\": \"white\", \"zerolinewidth\": 2}, \"yaxis\": {\"automargin\": true, \"gridcolor\": \"white\", \"linecolor\": \"white\", \"ticks\": \"\", \"title\": {\"standoff\": 15}, \"zerolinecolor\": \"white\", \"zerolinewidth\": 2}}}, \"title\": {\"text\": \"Count of Nodes per IP-Country\"}},                        {\"responsive\": true}                    ).then(function(){\n",
       "                            \n",
       "var gd = document.getElementById('4e2d936b-73b4-4036-9d98-87e7e5c82294');\n",
       "var x = new MutationObserver(function (mutations, observer) {{\n",
       "        var display = window.getComputedStyle(gd).display;\n",
       "        if (!display || display === 'none') {{\n",
       "            console.log([gd, 'removed!']);\n",
       "            Plotly.purge(gd);\n",
       "            observer.disconnect();\n",
       "        }}\n",
       "}});\n",
       "\n",
       "// Listen for the removal of the full notebook cells\n",
       "var notebookContainer = gd.closest('#notebook-container');\n",
       "if (notebookContainer) {{\n",
       "    x.observe(notebookContainer, {childList: true});\n",
       "}}\n",
       "\n",
       "// Listen for the clearing of the current output cell\n",
       "var outputEl = gd.closest('.output');\n",
       "if (outputEl) {{\n",
       "    x.observe(outputEl, {childList: true});\n",
       "}}\n",
       "\n",
       "                        })                };                });            </script>        </div>"
      ]
     },
     "metadata": {},
     "output_type": "display_data"
    }
   ],
   "source": [
    "import plotly.express as px\n",
    "fig = px.scatter_geo(\n",
    "    country_count_df, \n",
    "    locations=\"country\",    \n",
    "    size=\"count\",                \n",
    "    projection=\"natural earth\",\n",
    "    title=\"Count of Nodes per IP-Country\")\n",
    "fig.show()\n"
   ]
  },
  {
   "cell_type": "markdown",
   "id": "korean-century",
   "metadata": {},
   "source": [
    "### Example Output:\n",
    "<img src=\"images/node-count-example.png\">"
   ]
  },
  {
   "cell_type": "code",
   "execution_count": 22,
   "id": "compressed-commissioner",
   "metadata": {
    "scrolled": true
   },
   "outputs": [
    {
     "data": {
      "text/plain": [
       "AS24940 Hetzner Online GmbH                                       144\n",
       "AS14061 DigitalOcean, LLC                                          34\n",
       "AS15169 Google LLC                                                 34\n",
       "AS16509 Amazon.com, Inc.                                           18\n",
       "AS16276 OVH SAS                                                    16\n",
       "AS40021 Contabo Inc.                                               12\n",
       "AS51167 Contabo GmbH                                               12\n",
       "AS20473 The Constant Company, LLC                                  10\n",
       "AS45102 Alibaba (US) Technology Co., Ltd.                           8\n",
       "AS21409 Ikoula Net SAS                                              7\n",
       "AS14618 Amazon.com, Inc.                                            6\n",
       "AS4837 CHINA UNICOM China169 Backbone                               5\n",
       "AS25513 PJSC Moscow city telephone network                          4\n",
       "AS7922 Comcast Cable Communications, LLC                            4\n",
       "AS63023 GTHost                                                      4\n",
       "AS62563 GLOBALTELEHOST Corp.                                        4\n",
       "AS7018 AT&T Services, Inc.                                          4\n",
       "AS701 MCI Communications Services, Inc. d/b/a Verizon Business      3\n",
       "AS4134 CHINANET-BACKBONE                                            3\n",
       "AS42610 PJSC Rostelecom                                             3\n",
       "AS50340 OOO Network of data-centers Selectel                        3\n",
       "AS23470 ReliableSite.Net LLC                                        3\n",
       "AS12430 VODAFONE ESPANA S.A.U.                                      3\n",
       "not found                                                           3\n",
       "AS1136 KPN B.V.                                                     3\n",
       "AS4808 China Unicom Beijing Province Network                        3\n",
       "AS12876 ONLINE S.A.S.                                               2\n",
       "AS12883 PRIVATE JOINT-STOCK COMPANY FARLEP-INVEST                   2\n",
       "AS20771 Caucasus Online Ltd.                                        2\n",
       "AS5645 TekSavvy Solutions, Inc.                                     2\n",
       "AS6703 PRIVATE JOINT-STOCK COMPANY FARLEP-INVEST                    2\n",
       "AS18403 The Corporation for Financing & Promoting Technology        2\n",
       "AS5089 Virgin Media Limited                                         2\n",
       "AS135377 UCLOUD INFORMATION TECHNOLOGY (HK) LIMITED                 2\n",
       "AS8100 QuadraNet Enterprises LLC                                    2\n",
       "AS3216 PJSC Vimpelcom                                               2\n",
       "AS13285 TalkTalk Communications Limited                             2\n",
       "AS16125 UAB Cherry Servers                                          2\n",
       "AS6830 Liberty Global B.V.                                          2\n",
       "AS9808 Guangdong Mobile Communication Co.Ltd.                       2\n",
       "Name: info.org, dtype: int64"
      ]
     },
     "execution_count": 22,
     "metadata": {},
     "output_type": "execute_result"
    }
   ],
   "source": [
    "intermediate_df[\"info.org\"].value_counts().head(40)"
   ]
  },
  {
   "cell_type": "code",
   "execution_count": 29,
   "id": "working-munich",
   "metadata": {},
   "outputs": [
    {
     "data": {
      "application/vnd.plotly.v1+json": {
       "config": {
        "plotlyServerURL": "https://plot.ly"
       },
       "data": [
        {
         "geo": "geo",
         "hovertemplate": "info.country=UKR<br>info.lat=%{lat}<br>info.long=%{lon}<extra></extra>",
         "lat": [
          "50.4547",
          "48.4666",
          "47.8108",
          "50.4547",
          "48.4666",
          "48.4666",
          "49.8383",
          "46.4857"
         ],
         "legendgroup": "UKR",
         "lon": [
          "30.5238",
          "35.0407",
          "34.7432",
          "30.5238",
          "35.0407",
          "35.0407",
          "24.0232",
          "30.7438"
         ],
         "marker": {
          "color": "#636efa",
          "symbol": "circle"
         },
         "mode": "markers",
         "name": "UKR",
         "showlegend": true,
         "type": "scattergeo"
        },
        {
         "geo": "geo",
         "hovertemplate": "info.country=DEU<br>info.lat=%{lat}<br>info.long=%{lon}<extra></extra>",
         "lat": [
          "47.4921",
          "50.1155",
          "51.1658",
          "48.1374",
          "51.0509",
          "49.4542",
          "51.1658",
          "49.4542",
          "51.2090",
          "49.4542",
          "50.1155",
          "49.4542",
          "51.1658",
          "49.4542",
          "51.1658",
          "52.5244",
          "50.1155",
          "50.1155",
          "50.1155",
          "54.1504",
          "51.1658",
          "50.1155",
          "49.4891",
          "51.1734",
          "49.1166",
          "50.1155",
          "50.1155",
          "51.0509",
          "50.1155",
          "50.3830",
          "50.1155",
          "49.4542",
          "49.4542",
          "50.1155",
          "50.1155",
          "50.1155",
          "49.4542",
          "50.1155",
          "51.1658",
          "51.1658",
          "48.1374",
          "49.4542",
          "51.4817",
          "51.2217",
          "48.1374",
          "50.1155",
          "49.4542",
          "49.4542",
          "51.1658",
          "51.1658",
          "51.2217",
          "48.2869",
          "49.9144",
          "51.7577",
          "49.4542",
          "51.3396",
          "50.1155",
          "50.1155",
          "50.8185",
          "51.2090",
          "50.1155",
          "51.1658",
          "50.1155",
          "50.1155",
          "48.7823",
          "53.5507",
          "50.8185",
          "50.1155",
          "49.9144",
          "51.1658",
          "50.1155",
          "49.4542",
          "48.4763",
          "50.1155",
          "51.1658",
          "50.1155",
          "49.4542",
          "52.5244",
          "51.1658",
          "50.1155",
          "48.6941",
          "51.0509",
          "52.2566",
          "51.1658",
          "50.1155",
          "51.9624",
          "51.8365",
          "49.4542",
          "50.1155",
          "50.9566",
          "51.1658",
          "48.1374",
          "50.1155",
          "51.6420",
          "50.1155",
          "49.4542",
          "49.4542",
          "50.3830"
         ],
         "legendgroup": "DEU",
         "lon": [
          "11.0958",
          "8.6842",
          "10.4216",
          "11.5755",
          "13.7383",
          "11.0775",
          "10.4216",
          "11.0775",
          "10.4527",
          "11.0775",
          "8.6842",
          "11.0775",
          "10.4216",
          "11.0775",
          "10.4216",
          "13.4105",
          "8.6842",
          "8.6842",
          "8.6842",
          "11.7599",
          "10.4216",
          "8.6842",
          "8.4669",
          "7.0845",
          "10.7597",
          "8.6842",
          "8.6842",
          "13.7383",
          "8.6842",
          "8.0611",
          "8.6842",
          "11.0775",
          "11.0775",
          "8.6842",
          "8.6842",
          "8.6842",
          "11.0775",
          "8.6842",
          "10.4216",
          "10.4216",
          "11.5755",
          "11.0775",
          "7.2165",
          "6.7762",
          "11.5755",
          "8.6842",
          "11.0775",
          "11.0775",
          "10.4216",
          "10.4216",
          "6.7762",
          "8.1096",
          "11.0103",
          "14.3289",
          "11.0775",
          "12.3713",
          "8.6842",
          "8.6842",
          "6.2718",
          "10.4527",
          "8.6842",
          "10.4216",
          "8.6842",
          "8.6842",
          "9.1770",
          "9.9930",
          "6.2718",
          "8.6842",
          "11.0103",
          "10.4216",
          "8.6842",
          "11.0775",
          "8.9353",
          "8.6842",
          "10.4216",
          "8.6842",
          "11.0775",
          "13.4105",
          "10.4216",
          "8.6842",
          "9.1681",
          "13.7383",
          "13.9334",
          "10.4216",
          "8.6842",
          "7.6257",
          "10.7822",
          "11.0775",
          "8.6842",
          "9.7828",
          "10.4216",
          "11.5755",
          "8.6842",
          "7.2645",
          "8.6842",
          "11.0775",
          "11.0775",
          "8.0611"
         ],
         "marker": {
          "color": "#EF553B",
          "symbol": "circle"
         },
         "mode": "markers",
         "name": "DEU",
         "showlegend": true,
         "type": "scattergeo"
        },
        {
         "geo": "geo",
         "hovertemplate": "info.country=USA<br>info.lat=%{lat}<br>info.long=%{lon}<extra></extra>",
         "lat": [
          "41.2619",
          "25.8130",
          "32.8546",
          "34.0443",
          "41.2619",
          "37.3924",
          "45.8399",
          "37.3394",
          "37.3924",
          "41.2619",
          "37.3924",
          "41.2619",
          "32.8546",
          "41.2619",
          "40.8043",
          "39.0437",
          "32.8546",
          "37.3924",
          "39.0437",
          "38.6273",
          "32.8546",
          "41.2619",
          "41.2619",
          "37.3924",
          "37.3541",
          "41.2619",
          "37.3688",
          "41.2619",
          "38.7131",
          "37.3483",
          "38.6273",
          "45.5946",
          "37.3924",
          "37.3924",
          "38.6273",
          "32.8546",
          "40.0334",
          "38.6273",
          "41.2619",
          "42.3765",
          "37.3394",
          "41.2619",
          "40.0334",
          "41.2619",
          "45.8399",
          "37.3924",
          "38.7131",
          "40.8043",
          "37.3924",
          "33.4413",
          "37.3924",
          "40.8344",
          "41.2619",
          "30.3322",
          "45.5946",
          "32.7254",
          "37.3924",
          "37.3924",
          "37.3924",
          "40.7143",
          "41.8713",
          "34.0443",
          "38.6273",
          "37.3541",
          "45.5946",
          "34.0522",
          "38.6273",
          "37.3394",
          "38.6273",
          "42.3584",
          "41.2619",
          "37.3394",
          "37.3924",
          "39.0997",
          "35.7915",
          "41.2619",
          "39.0437",
          "32.7831",
          "38.7131",
          "45.5946",
          "37.3924",
          "37.3058",
          "42.1103",
          "34.0522",
          "37.3394",
          "37.7749",
          "41.9006",
          "39.0437",
          "37.3394",
          "37.3924",
          "35.7915",
          "39.0437",
          "41.2619",
          "40.7143",
          "38.6273",
          "41.2619",
          "41.2619",
          "45.8399",
          "47.8948",
          "42.1103",
          "42.3584",
          "34.0522",
          "41.2619",
          "39.0997",
          "37.7749",
          "45.8399",
          "39.0437",
          "37.3924",
          "41.2619",
          "39.0437",
          "39.1142",
          "45.8399",
          "33.4484",
          "47.6062"
         ],
         "legendgroup": "USA",
         "lon": [
          "-95.8608",
          "-80.2320",
          "-79.9748",
          "-118.2509",
          "-95.8608",
          "-121.9623",
          "-119.7006",
          "-121.8950",
          "-121.9623",
          "-95.8608",
          "-121.9623",
          "-95.8608",
          "-79.9748",
          "-95.8608",
          "-74.0121",
          "-77.4875",
          "-79.9748",
          "-121.9623",
          "-77.4875",
          "-90.1979",
          "-79.9748",
          "-95.8608",
          "-95.8608",
          "-121.9623",
          "-121.9552",
          "-95.8608",
          "-122.0363",
          "-95.8608",
          "-90.4298",
          "-121.9844",
          "-90.1979",
          "-121.1787",
          "-121.9623",
          "-121.9623",
          "-90.1979",
          "-79.9748",
          "-83.1582",
          "-90.1979",
          "-95.8608",
          "-71.2356",
          "-121.8950",
          "-95.8608",
          "-83.1582",
          "-95.8608",
          "-119.7006",
          "-121.9623",
          "-90.4298",
          "-74.0121",
          "-121.9623",
          "-112.0421",
          "-121.9623",
          "-74.1377",
          "-95.8608",
          "-81.6556",
          "-121.1787",
          "-97.3208",
          "-121.9623",
          "-121.9623",
          "-121.9623",
          "-74.0060",
          "-87.6277",
          "-118.2509",
          "-90.1979",
          "-121.9552",
          "-121.1787",
          "-118.2437",
          "-90.1979",
          "-121.8950",
          "-90.1979",
          "-71.0598",
          "-95.8608",
          "-121.8950",
          "-121.9623",
          "-94.5786",
          "-78.7811",
          "-95.8608",
          "-77.4875",
          "-96.8067",
          "-90.4298",
          "-121.1787",
          "-121.9623",
          "-78.5462",
          "-88.0342",
          "-118.2437",
          "-121.8950",
          "-122.4194",
          "-87.8567",
          "-77.4875",
          "-121.8950",
          "-121.9623",
          "-78.7811",
          "-77.4875",
          "-95.8608",
          "-74.0060",
          "-90.1979",
          "-95.8608",
          "-95.8608",
          "-119.7006",
          "-122.1987",
          "-88.0342",
          "-71.0598",
          "-118.2437",
          "-95.8608",
          "-94.5786",
          "-122.4194",
          "-119.7006",
          "-77.4875",
          "-121.9623",
          "-95.8608",
          "-77.4875",
          "-94.6275",
          "-119.7006",
          "-112.0740",
          "-122.3321"
         ],
         "marker": {
          "color": "#00cc96",
          "symbol": "circle"
         },
         "mode": "markers",
         "name": "USA",
         "showlegend": true,
         "type": "scattergeo"
        },
        {
         "geo": "geo",
         "hovertemplate": "info.country=CAN<br>info.lat=%{lat}<br>info.long=%{lon}<extra></extra>",
         "lat": [
          "45.5088",
          "49.2497",
          "45.5088",
          "45.2668",
          "43.2501",
          "45.5040",
          "49.2497",
          "46.8123",
          "45.5088",
          "43.7001",
          "43.7001",
          "43.8361",
          "49.2497",
          "45.5040",
          "45.5088",
          "43.7001",
          "45.5040",
          "43.4254",
          "43.2501",
          "45.5088"
         ],
         "legendgroup": "CAN",
         "lon": [
          "-73.5878",
          "-123.1193",
          "-73.5878",
          "-73.6159",
          "-79.8496",
          "-73.5747",
          "-123.1193",
          "-71.2145",
          "-73.5878",
          "-79.4163",
          "-79.4163",
          "-79.4983",
          "-123.1193",
          "-73.5747",
          "-73.5878",
          "-79.4163",
          "-73.5747",
          "-80.5112",
          "-79.8496",
          "-73.5878"
         ],
         "marker": {
          "color": "#ab63fa",
          "symbol": "circle"
         },
         "mode": "markers",
         "name": "CAN",
         "showlegend": true,
         "type": "scattergeo"
        },
        {
         "geo": "geo",
         "hovertemplate": "info.country=RUS<br>info.lat=%{lat}<br>info.long=%{lon}<extra></extra>",
         "lat": [
          "55.7522",
          "55.7522",
          "55.7522",
          "55.7522",
          "55.7522",
          "55.7522",
          "55.7522",
          "55.7522",
          "56.8519",
          "55.7522",
          "55.0415",
          "55.7522",
          "55.8970",
          "55.7522",
          "55.7522",
          "55.7522",
          "55.7522",
          "51.6720",
          "55.7522",
          "58.5966",
          "56.8519",
          "55.7522",
          "56.4977",
          "48.7194"
         ],
         "legendgroup": "RUS",
         "lon": [
          "37.6156",
          "37.6156",
          "37.6156",
          "37.6156",
          "37.6156",
          "37.6156",
          "37.6156",
          "37.6156",
          "60.6122",
          "37.6156",
          "82.9346",
          "37.6156",
          "37.4297",
          "37.6156",
          "37.6156",
          "37.6156",
          "37.6156",
          "39.1843",
          "37.6156",
          "49.6601",
          "60.6122",
          "37.6156",
          "84.9744",
          "44.5018"
         ],
         "marker": {
          "color": "#FFA15A",
          "symbol": "circle"
         },
         "mode": "markers",
         "name": "RUS",
         "showlegend": true,
         "type": "scattergeo"
        },
        {
         "geo": "geo",
         "hovertemplate": "info.country=NLD<br>info.lat=%{lat}<br>info.long=%{lon}<extra></extra>",
         "lat": [
          "52.4027",
          "51.9225",
          "52.3740",
          "51.6894",
          "51.6894",
          "52.4027",
          "52.3740",
          "51.8908",
          "52.0767",
          "52.0767"
         ],
         "legendgroup": "NLD",
         "lon": [
          "4.7592",
          "4.4792",
          "4.8897",
          "5.3036",
          "5.3036",
          "4.7592",
          "4.8897",
          "6.0389",
          "4.2986",
          "4.2986"
         ],
         "marker": {
          "color": "#19d3f3",
          "symbol": "circle"
         },
         "mode": "markers",
         "name": "NLD",
         "showlegend": true,
         "type": "scattergeo"
        },
        {
         "geo": "geo",
         "hovertemplate": "info.country=GBR<br>info.lat=%{lat}<br>info.long=%{lon}<extra></extra>",
         "lat": [
          "51.5085",
          "51.3915",
          "51.8657",
          "51.5085",
          "51.5085",
          "55.9521",
          "55.9521"
         ],
         "legendgroup": "GBR",
         "lon": [
          "-0.1257",
          "-0.2983",
          "-2.2431",
          "-0.1257",
          "-0.1257",
          "-3.1965",
          "-3.1965"
         ],
         "marker": {
          "color": "#FF6692",
          "symbol": "circle"
         },
         "mode": "markers",
         "name": "GBR",
         "showlegend": true,
         "type": "scattergeo"
        },
        {
         "geo": "geo",
         "hovertemplate": "info.country=FIN<br>info.lat=%{lat}<br>info.long=%{lon}<extra></extra>",
         "lat": [
          "60.3540",
          "60.3540",
          "60.3540",
          "60.3540",
          "60.3540",
          "60.3540",
          "60.3540",
          "60.3540",
          "60.3540",
          "60.3540",
          "60.3540",
          "60.3540",
          "60.3540",
          "60.3540",
          "60.3540",
          "60.3540",
          "60.3540",
          "60.3540",
          "60.3540",
          "60.3540",
          "60.3540",
          "60.3540",
          "60.3540",
          "60.3540",
          "60.3540",
          "60.3540",
          "60.3540",
          "60.3540",
          "60.3540",
          "60.3540",
          "60.3540",
          "60.3540",
          "60.3540",
          "60.3540",
          "60.3540",
          "60.3540",
          "60.3540",
          "60.3540",
          "60.3540",
          "60.3540",
          "60.3540",
          "60.3540",
          "60.3540",
          "60.3540",
          "60.3540",
          "60.3540",
          "60.3540",
          "60.3540",
          "60.3540",
          "60.3540",
          "60.3540",
          "60.3540",
          "60.3540",
          "60.3540",
          "60.3540",
          "60.3540",
          "61.0587",
          "60.3540",
          "60.3540",
          "60.3540",
          "60.3540",
          "60.3540",
          "60.3540",
          "60.3540",
          "60.3540",
          "60.3540",
          "60.3540",
          "60.3540",
          "60.3540",
          "60.3540",
          "60.3540",
          "60.3540",
          "60.3540",
          "60.3540",
          "60.3540",
          "60.3540",
          "60.3540"
         ],
         "legendgroup": "FIN",
         "lon": [
          "24.9794",
          "24.9794",
          "24.9794",
          "24.9794",
          "24.9794",
          "24.9794",
          "24.9794",
          "24.9794",
          "24.9794",
          "24.9794",
          "24.9794",
          "24.9794",
          "24.9794",
          "24.9794",
          "24.9794",
          "24.9794",
          "24.9794",
          "24.9794",
          "24.9794",
          "24.9794",
          "24.9794",
          "24.9794",
          "24.9794",
          "24.9794",
          "24.9794",
          "24.9794",
          "24.9794",
          "24.9794",
          "24.9794",
          "24.9794",
          "24.9794",
          "24.9794",
          "24.9794",
          "24.9794",
          "24.9794",
          "24.9794",
          "24.9794",
          "24.9794",
          "24.9794",
          "24.9794",
          "24.9794",
          "24.9794",
          "24.9794",
          "24.9794",
          "24.9794",
          "24.9794",
          "24.9794",
          "24.9794",
          "24.9794",
          "24.9794",
          "24.9794",
          "24.9794",
          "24.9794",
          "24.9794",
          "24.9794",
          "24.9794",
          "28.1887",
          "24.9794",
          "24.9794",
          "24.9794",
          "24.9794",
          "24.9794",
          "24.9794",
          "24.9794",
          "24.9794",
          "24.9794",
          "24.9794",
          "24.9794",
          "24.9794",
          "24.9794",
          "24.9794",
          "24.9794",
          "24.9794",
          "24.9794",
          "24.9794",
          "24.9794",
          "24.9794"
         ],
         "marker": {
          "color": "#B6E880",
          "symbol": "circle"
         },
         "mode": "markers",
         "name": "FIN",
         "showlegend": true,
         "type": "scattergeo"
        },
        {
         "geo": "geo",
         "hovertemplate": "info.country=FRA<br>info.lat=%{lat}<br>info.long=%{lon}<extra></extra>",
         "lat": [
          "45.5479",
          "48.8534",
          "50.6942",
          "50.9519",
          "50.6330",
          "48.8534",
          "48.8534",
          "44.8404",
          "50.6942",
          "48.8534",
          "48.8534",
          "48.8534",
          "45.5479"
         ],
         "legendgroup": "FRA",
         "lon": [
          "5.2246",
          "2.3488",
          "3.1746",
          "1.8563",
          "3.0586",
          "2.3488",
          "2.3488",
          "-0.5805",
          "3.1746",
          "2.3488",
          "2.3488",
          "2.3488",
          "5.2246"
         ],
         "marker": {
          "color": "#FF97FF",
          "symbol": "circle"
         },
         "mode": "markers",
         "name": "FRA",
         "showlegend": true,
         "type": "scattergeo"
        },
        {
         "geo": "geo",
         "hovertemplate": "info.country=CHN<br>info.lat=%{lat}<br>info.long=%{lon}<extra></extra>",
         "lat": [
          "31.2222",
          "30.2936",
          "39.9075",
          "31.2222",
          "30.6667",
          "39.9075",
          "30.2936",
          "23.1167",
          "24.4798",
          "39.9075",
          "39.9075",
          "39.9075",
          "30.2936",
          "39.9075",
          "24.4798",
          "39.9075"
         ],
         "legendgroup": "CHN",
         "lon": [
          "121.4581",
          "120.1614",
          "116.3972",
          "121.4581",
          "104.0667",
          "116.3972",
          "120.1614",
          "113.2500",
          "118.0819",
          "116.3972",
          "116.3972",
          "116.3972",
          "120.1614",
          "116.3972",
          "118.0819",
          "116.3972"
         ],
         "marker": {
          "color": "#FECB52",
          "symbol": "circle"
         },
         "mode": "markers",
         "name": "CHN",
         "showlegend": true,
         "type": "scattergeo"
        },
        {
         "geo": "geo",
         "hovertemplate": "info.country=JPN<br>info.lat=%{lat}<br>info.long=%{lon}<extra></extra>",
         "lat": [
          "35.6895",
          "35.6895",
          "35.6895",
          "35.6895",
          "35.6895",
          "35.6895",
          "35.6895"
         ],
         "legendgroup": "JPN",
         "lon": [
          "139.6917",
          "139.6917",
          "139.6917",
          "139.6917",
          "139.6917",
          "139.6917",
          "139.6917"
         ],
         "marker": {
          "color": "#636efa",
          "symbol": "circle"
         },
         "mode": "markers",
         "name": "JPN",
         "showlegend": true,
         "type": "scattergeo"
        },
        {
         "geo": "geo",
         "hovertemplate": "info.country=LTU<br>info.lat=%{lat}<br>info.long=%{lon}<extra></extra>",
         "lat": [
          "55.9333",
          "54.9027",
          "54.6892"
         ],
         "legendgroup": "LTU",
         "lon": [
          "23.3167",
          "23.9096",
          "25.2798"
         ],
         "marker": {
          "color": "#EF553B",
          "symbol": "circle"
         },
         "mode": "markers",
         "name": "LTU",
         "showlegend": true,
         "type": "scattergeo"
        },
        {
         "geo": "geo",
         "hovertemplate": "info.country=BEL<br>info.lat=%{lat}<br>info.long=%{lon}<extra></extra>",
         "lat": [
          "50.8505"
         ],
         "legendgroup": "BEL",
         "lon": [
          "4.3488"
         ],
         "marker": {
          "color": "#00cc96",
          "symbol": "circle"
         },
         "mode": "markers",
         "name": "BEL",
         "showlegend": true,
         "type": "scattergeo"
        },
        {
         "geo": "geo",
         "hovertemplate": "info.country=PHL<br>info.lat=%{lat}<br>info.long=%{lon}<extra></extra>",
         "lat": [
          "10.3167"
         ],
         "legendgroup": "PHL",
         "lon": [
          "123.8907"
         ],
         "marker": {
          "color": "#ab63fa",
          "symbol": "circle"
         },
         "mode": "markers",
         "name": "PHL",
         "showlegend": true,
         "type": "scattergeo"
        },
        {
         "geo": "geo",
         "hovertemplate": "info.country=HKG<br>info.lat=%{lat}<br>info.long=%{lon}<extra></extra>",
         "lat": [
          "22.2783",
          "22.3167",
          "22.3167",
          "22.2783"
         ],
         "legendgroup": "HKG",
         "lon": [
          "114.1747",
          "114.1833",
          "114.1833",
          "114.1747"
         ],
         "marker": {
          "color": "#FFA15A",
          "symbol": "circle"
         },
         "mode": "markers",
         "name": "HKG",
         "showlegend": true,
         "type": "scattergeo"
        },
        {
         "geo": "geo",
         "hovertemplate": "info.country=AUT<br>info.lat=%{lat}<br>info.long=%{lon}<extra></extra>",
         "lat": [
          "48.2085",
          "48.2085"
         ],
         "legendgroup": "AUT",
         "lon": [
          "16.3721",
          "16.3721"
         ],
         "marker": {
          "color": "#19d3f3",
          "symbol": "circle"
         },
         "mode": "markers",
         "name": "AUT",
         "showlegend": true,
         "type": "scattergeo"
        },
        {
         "geo": "geo",
         "hovertemplate": "info.country=ESP<br>info.lat=%{lat}<br>info.long=%{lon}<extra></extra>",
         "lat": [
          "28.4682",
          "43.2627",
          "40.5475",
          "41.3888",
          "41.3888",
          "36.5939"
         ],
         "legendgroup": "ESP",
         "lon": [
          "-16.2546",
          "-2.9253",
          "-3.6420",
          "2.1590",
          "2.1590",
          "-6.2330"
         ],
         "marker": {
          "color": "#FF6692",
          "symbol": "circle"
         },
         "mode": "markers",
         "name": "ESP",
         "showlegend": true,
         "type": "scattergeo"
        },
        {
         "geo": "geo",
         "hovertemplate": "info.country=SGP<br>info.lat=%{lat}<br>info.long=%{lon}<extra></extra>",
         "lat": [
          "1.2897",
          "1.2897",
          "1.2897",
          "1.2897",
          "1.2897"
         ],
         "legendgroup": "SGP",
         "lon": [
          "103.8501",
          "103.8501",
          "103.8501",
          "103.8501",
          "103.8501"
         ],
         "marker": {
          "color": "#B6E880",
          "symbol": "circle"
         },
         "mode": "markers",
         "name": "SGP",
         "showlegend": true,
         "type": "scattergeo"
        },
        {
         "geo": "geo",
         "hovertemplate": "info.country=GEO<br>info.lat=%{lat}<br>info.long=%{lon}<extra></extra>",
         "lat": [
          "41.6941",
          "41.6941"
         ],
         "legendgroup": "GEO",
         "lon": [
          "44.8337",
          "44.8337"
         ],
         "marker": {
          "color": "#FF97FF",
          "symbol": "circle"
         },
         "mode": "markers",
         "name": "GEO",
         "showlegend": true,
         "type": "scattergeo"
        },
        {
         "geo": "geo",
         "hovertemplate": "info.country=VNM<br>info.lat=%{lat}<br>info.long=%{lon}<extra></extra>",
         "lat": [
          "21.0245",
          "21.0245"
         ],
         "legendgroup": "VNM",
         "lon": [
          "105.8412",
          "105.8412"
         ],
         "marker": {
          "color": "#FECB52",
          "symbol": "circle"
         },
         "mode": "markers",
         "name": "VNM",
         "showlegend": true,
         "type": "scattergeo"
        },
        {
         "geo": "geo",
         "hovertemplate": "info.country=IND<br>info.lat=%{lat}<br>info.long=%{lon}<extra></extra>",
         "lat": [
          "13.0878",
          "28.5800"
         ],
         "legendgroup": "IND",
         "lon": [
          "80.2785",
          "77.3300"
         ],
         "marker": {
          "color": "#636efa",
          "symbol": "circle"
         },
         "mode": "markers",
         "name": "IND",
         "showlegend": true,
         "type": "scattergeo"
        },
        {
         "geo": "geo",
         "hovertemplate": "info.country=IRL<br>info.lat=%{lat}<br>info.long=%{lon}<extra></extra>",
         "lat": [
          "53.3331"
         ],
         "legendgroup": "IRL",
         "lon": [
          "-6.2489"
         ],
         "marker": {
          "color": "#EF553B",
          "symbol": "circle"
         },
         "mode": "markers",
         "name": "IRL",
         "showlegend": true,
         "type": "scattergeo"
        },
        {
         "geo": "geo",
         "hovertemplate": "info.country=not found<br>info.lat=%{lat}<br>info.long=%{lon}<extra></extra>",
         "lat": [
          null,
          null,
          null
         ],
         "legendgroup": "not found",
         "lon": [
          null,
          null,
          null
         ],
         "marker": {
          "color": "#00cc96",
          "symbol": "circle"
         },
         "mode": "markers",
         "name": "not found",
         "showlegend": true,
         "type": "scattergeo"
        },
        {
         "geo": "geo",
         "hovertemplate": "info.country=THA<br>info.lat=%{lat}<br>info.long=%{lon}<extra></extra>",
         "lat": [
          "13.9178"
         ],
         "legendgroup": "THA",
         "lon": [
          "100.4240"
         ],
         "marker": {
          "color": "#ab63fa",
          "symbol": "circle"
         },
         "mode": "markers",
         "name": "THA",
         "showlegend": true,
         "type": "scattergeo"
        },
        {
         "geo": "geo",
         "hovertemplate": "info.country=TUR<br>info.lat=%{lat}<br>info.long=%{lon}<extra></extra>",
         "lat": [
          "41.0138",
          "41.0138"
         ],
         "legendgroup": "TUR",
         "lon": [
          "28.9497",
          "28.9497"
         ],
         "marker": {
          "color": "#FFA15A",
          "symbol": "circle"
         },
         "mode": "markers",
         "name": "TUR",
         "showlegend": true,
         "type": "scattergeo"
        },
        {
         "geo": "geo",
         "hovertemplate": "info.country=ITA<br>info.lat=%{lat}<br>info.long=%{lon}<extra></extra>",
         "lat": [
          "41.8919"
         ],
         "legendgroup": "ITA",
         "lon": [
          "12.5113"
         ],
         "marker": {
          "color": "#19d3f3",
          "symbol": "circle"
         },
         "mode": "markers",
         "name": "ITA",
         "showlegend": true,
         "type": "scattergeo"
        },
        {
         "geo": "geo",
         "hovertemplate": "info.country=KOR<br>info.lat=%{lat}<br>info.long=%{lon}<extra></extra>",
         "lat": [
          "37.5660"
         ],
         "legendgroup": "KOR",
         "lon": [
          "126.9784"
         ],
         "marker": {
          "color": "#FF6692",
          "symbol": "circle"
         },
         "mode": "markers",
         "name": "KOR",
         "showlegend": true,
         "type": "scattergeo"
        },
        {
         "geo": "geo",
         "hovertemplate": "info.country=ROU<br>info.lat=%{lat}<br>info.long=%{lon}<extra></extra>",
         "lat": [
          "44.4323"
         ],
         "legendgroup": "ROU",
         "lon": [
          "26.1063"
         ],
         "marker": {
          "color": "#B6E880",
          "symbol": "circle"
         },
         "mode": "markers",
         "name": "ROU",
         "showlegend": true,
         "type": "scattergeo"
        },
        {
         "geo": "geo",
         "hovertemplate": "info.country=LVA<br>info.lat=%{lat}<br>info.long=%{lon}<extra></extra>",
         "lat": [
          "56.9460"
         ],
         "legendgroup": "LVA",
         "lon": [
          "24.1059"
         ],
         "marker": {
          "color": "#FF97FF",
          "symbol": "circle"
         },
         "mode": "markers",
         "name": "LVA",
         "showlegend": true,
         "type": "scattergeo"
        }
       ],
       "layout": {
        "geo": {
         "center": {},
         "domain": {
          "x": [
           0,
           1
          ],
          "y": [
           0,
           1
          ]
         },
         "projection": {
          "type": "natural earth"
         }
        },
        "legend": {
         "title": {
          "text": "info.country"
         },
         "tracegroupgap": 0
        },
        "template": {
         "data": {
          "bar": [
           {
            "error_x": {
             "color": "#2a3f5f"
            },
            "error_y": {
             "color": "#2a3f5f"
            },
            "marker": {
             "line": {
              "color": "#E5ECF6",
              "width": 0.5
             }
            },
            "type": "bar"
           }
          ],
          "barpolar": [
           {
            "marker": {
             "line": {
              "color": "#E5ECF6",
              "width": 0.5
             }
            },
            "type": "barpolar"
           }
          ],
          "carpet": [
           {
            "aaxis": {
             "endlinecolor": "#2a3f5f",
             "gridcolor": "white",
             "linecolor": "white",
             "minorgridcolor": "white",
             "startlinecolor": "#2a3f5f"
            },
            "baxis": {
             "endlinecolor": "#2a3f5f",
             "gridcolor": "white",
             "linecolor": "white",
             "minorgridcolor": "white",
             "startlinecolor": "#2a3f5f"
            },
            "type": "carpet"
           }
          ],
          "choropleth": [
           {
            "colorbar": {
             "outlinewidth": 0,
             "ticks": ""
            },
            "type": "choropleth"
           }
          ],
          "contour": [
           {
            "colorbar": {
             "outlinewidth": 0,
             "ticks": ""
            },
            "colorscale": [
             [
              0,
              "#0d0887"
             ],
             [
              0.1111111111111111,
              "#46039f"
             ],
             [
              0.2222222222222222,
              "#7201a8"
             ],
             [
              0.3333333333333333,
              "#9c179e"
             ],
             [
              0.4444444444444444,
              "#bd3786"
             ],
             [
              0.5555555555555556,
              "#d8576b"
             ],
             [
              0.6666666666666666,
              "#ed7953"
             ],
             [
              0.7777777777777778,
              "#fb9f3a"
             ],
             [
              0.8888888888888888,
              "#fdca26"
             ],
             [
              1,
              "#f0f921"
             ]
            ],
            "type": "contour"
           }
          ],
          "contourcarpet": [
           {
            "colorbar": {
             "outlinewidth": 0,
             "ticks": ""
            },
            "type": "contourcarpet"
           }
          ],
          "heatmap": [
           {
            "colorbar": {
             "outlinewidth": 0,
             "ticks": ""
            },
            "colorscale": [
             [
              0,
              "#0d0887"
             ],
             [
              0.1111111111111111,
              "#46039f"
             ],
             [
              0.2222222222222222,
              "#7201a8"
             ],
             [
              0.3333333333333333,
              "#9c179e"
             ],
             [
              0.4444444444444444,
              "#bd3786"
             ],
             [
              0.5555555555555556,
              "#d8576b"
             ],
             [
              0.6666666666666666,
              "#ed7953"
             ],
             [
              0.7777777777777778,
              "#fb9f3a"
             ],
             [
              0.8888888888888888,
              "#fdca26"
             ],
             [
              1,
              "#f0f921"
             ]
            ],
            "type": "heatmap"
           }
          ],
          "heatmapgl": [
           {
            "colorbar": {
             "outlinewidth": 0,
             "ticks": ""
            },
            "colorscale": [
             [
              0,
              "#0d0887"
             ],
             [
              0.1111111111111111,
              "#46039f"
             ],
             [
              0.2222222222222222,
              "#7201a8"
             ],
             [
              0.3333333333333333,
              "#9c179e"
             ],
             [
              0.4444444444444444,
              "#bd3786"
             ],
             [
              0.5555555555555556,
              "#d8576b"
             ],
             [
              0.6666666666666666,
              "#ed7953"
             ],
             [
              0.7777777777777778,
              "#fb9f3a"
             ],
             [
              0.8888888888888888,
              "#fdca26"
             ],
             [
              1,
              "#f0f921"
             ]
            ],
            "type": "heatmapgl"
           }
          ],
          "histogram": [
           {
            "marker": {
             "colorbar": {
              "outlinewidth": 0,
              "ticks": ""
             }
            },
            "type": "histogram"
           }
          ],
          "histogram2d": [
           {
            "colorbar": {
             "outlinewidth": 0,
             "ticks": ""
            },
            "colorscale": [
             [
              0,
              "#0d0887"
             ],
             [
              0.1111111111111111,
              "#46039f"
             ],
             [
              0.2222222222222222,
              "#7201a8"
             ],
             [
              0.3333333333333333,
              "#9c179e"
             ],
             [
              0.4444444444444444,
              "#bd3786"
             ],
             [
              0.5555555555555556,
              "#d8576b"
             ],
             [
              0.6666666666666666,
              "#ed7953"
             ],
             [
              0.7777777777777778,
              "#fb9f3a"
             ],
             [
              0.8888888888888888,
              "#fdca26"
             ],
             [
              1,
              "#f0f921"
             ]
            ],
            "type": "histogram2d"
           }
          ],
          "histogram2dcontour": [
           {
            "colorbar": {
             "outlinewidth": 0,
             "ticks": ""
            },
            "colorscale": [
             [
              0,
              "#0d0887"
             ],
             [
              0.1111111111111111,
              "#46039f"
             ],
             [
              0.2222222222222222,
              "#7201a8"
             ],
             [
              0.3333333333333333,
              "#9c179e"
             ],
             [
              0.4444444444444444,
              "#bd3786"
             ],
             [
              0.5555555555555556,
              "#d8576b"
             ],
             [
              0.6666666666666666,
              "#ed7953"
             ],
             [
              0.7777777777777778,
              "#fb9f3a"
             ],
             [
              0.8888888888888888,
              "#fdca26"
             ],
             [
              1,
              "#f0f921"
             ]
            ],
            "type": "histogram2dcontour"
           }
          ],
          "mesh3d": [
           {
            "colorbar": {
             "outlinewidth": 0,
             "ticks": ""
            },
            "type": "mesh3d"
           }
          ],
          "parcoords": [
           {
            "line": {
             "colorbar": {
              "outlinewidth": 0,
              "ticks": ""
             }
            },
            "type": "parcoords"
           }
          ],
          "pie": [
           {
            "automargin": true,
            "type": "pie"
           }
          ],
          "scatter": [
           {
            "marker": {
             "colorbar": {
              "outlinewidth": 0,
              "ticks": ""
             }
            },
            "type": "scatter"
           }
          ],
          "scatter3d": [
           {
            "line": {
             "colorbar": {
              "outlinewidth": 0,
              "ticks": ""
             }
            },
            "marker": {
             "colorbar": {
              "outlinewidth": 0,
              "ticks": ""
             }
            },
            "type": "scatter3d"
           }
          ],
          "scattercarpet": [
           {
            "marker": {
             "colorbar": {
              "outlinewidth": 0,
              "ticks": ""
             }
            },
            "type": "scattercarpet"
           }
          ],
          "scattergeo": [
           {
            "marker": {
             "colorbar": {
              "outlinewidth": 0,
              "ticks": ""
             }
            },
            "type": "scattergeo"
           }
          ],
          "scattergl": [
           {
            "marker": {
             "colorbar": {
              "outlinewidth": 0,
              "ticks": ""
             }
            },
            "type": "scattergl"
           }
          ],
          "scattermapbox": [
           {
            "marker": {
             "colorbar": {
              "outlinewidth": 0,
              "ticks": ""
             }
            },
            "type": "scattermapbox"
           }
          ],
          "scatterpolar": [
           {
            "marker": {
             "colorbar": {
              "outlinewidth": 0,
              "ticks": ""
             }
            },
            "type": "scatterpolar"
           }
          ],
          "scatterpolargl": [
           {
            "marker": {
             "colorbar": {
              "outlinewidth": 0,
              "ticks": ""
             }
            },
            "type": "scatterpolargl"
           }
          ],
          "scatterternary": [
           {
            "marker": {
             "colorbar": {
              "outlinewidth": 0,
              "ticks": ""
             }
            },
            "type": "scatterternary"
           }
          ],
          "surface": [
           {
            "colorbar": {
             "outlinewidth": 0,
             "ticks": ""
            },
            "colorscale": [
             [
              0,
              "#0d0887"
             ],
             [
              0.1111111111111111,
              "#46039f"
             ],
             [
              0.2222222222222222,
              "#7201a8"
             ],
             [
              0.3333333333333333,
              "#9c179e"
             ],
             [
              0.4444444444444444,
              "#bd3786"
             ],
             [
              0.5555555555555556,
              "#d8576b"
             ],
             [
              0.6666666666666666,
              "#ed7953"
             ],
             [
              0.7777777777777778,
              "#fb9f3a"
             ],
             [
              0.8888888888888888,
              "#fdca26"
             ],
             [
              1,
              "#f0f921"
             ]
            ],
            "type": "surface"
           }
          ],
          "table": [
           {
            "cells": {
             "fill": {
              "color": "#EBF0F8"
             },
             "line": {
              "color": "white"
             }
            },
            "header": {
             "fill": {
              "color": "#C8D4E3"
             },
             "line": {
              "color": "white"
             }
            },
            "type": "table"
           }
          ]
         },
         "layout": {
          "annotationdefaults": {
           "arrowcolor": "#2a3f5f",
           "arrowhead": 0,
           "arrowwidth": 1
          },
          "autotypenumbers": "strict",
          "coloraxis": {
           "colorbar": {
            "outlinewidth": 0,
            "ticks": ""
           }
          },
          "colorscale": {
           "diverging": [
            [
             0,
             "#8e0152"
            ],
            [
             0.1,
             "#c51b7d"
            ],
            [
             0.2,
             "#de77ae"
            ],
            [
             0.3,
             "#f1b6da"
            ],
            [
             0.4,
             "#fde0ef"
            ],
            [
             0.5,
             "#f7f7f7"
            ],
            [
             0.6,
             "#e6f5d0"
            ],
            [
             0.7,
             "#b8e186"
            ],
            [
             0.8,
             "#7fbc41"
            ],
            [
             0.9,
             "#4d9221"
            ],
            [
             1,
             "#276419"
            ]
           ],
           "sequential": [
            [
             0,
             "#0d0887"
            ],
            [
             0.1111111111111111,
             "#46039f"
            ],
            [
             0.2222222222222222,
             "#7201a8"
            ],
            [
             0.3333333333333333,
             "#9c179e"
            ],
            [
             0.4444444444444444,
             "#bd3786"
            ],
            [
             0.5555555555555556,
             "#d8576b"
            ],
            [
             0.6666666666666666,
             "#ed7953"
            ],
            [
             0.7777777777777778,
             "#fb9f3a"
            ],
            [
             0.8888888888888888,
             "#fdca26"
            ],
            [
             1,
             "#f0f921"
            ]
           ],
           "sequentialminus": [
            [
             0,
             "#0d0887"
            ],
            [
             0.1111111111111111,
             "#46039f"
            ],
            [
             0.2222222222222222,
             "#7201a8"
            ],
            [
             0.3333333333333333,
             "#9c179e"
            ],
            [
             0.4444444444444444,
             "#bd3786"
            ],
            [
             0.5555555555555556,
             "#d8576b"
            ],
            [
             0.6666666666666666,
             "#ed7953"
            ],
            [
             0.7777777777777778,
             "#fb9f3a"
            ],
            [
             0.8888888888888888,
             "#fdca26"
            ],
            [
             1,
             "#f0f921"
            ]
           ]
          },
          "colorway": [
           "#636efa",
           "#EF553B",
           "#00cc96",
           "#ab63fa",
           "#FFA15A",
           "#19d3f3",
           "#FF6692",
           "#B6E880",
           "#FF97FF",
           "#FECB52"
          ],
          "font": {
           "color": "#2a3f5f"
          },
          "geo": {
           "bgcolor": "white",
           "lakecolor": "white",
           "landcolor": "#E5ECF6",
           "showlakes": true,
           "showland": true,
           "subunitcolor": "white"
          },
          "hoverlabel": {
           "align": "left"
          },
          "hovermode": "closest",
          "mapbox": {
           "style": "light"
          },
          "paper_bgcolor": "white",
          "plot_bgcolor": "#E5ECF6",
          "polar": {
           "angularaxis": {
            "gridcolor": "white",
            "linecolor": "white",
            "ticks": ""
           },
           "bgcolor": "#E5ECF6",
           "radialaxis": {
            "gridcolor": "white",
            "linecolor": "white",
            "ticks": ""
           }
          },
          "scene": {
           "xaxis": {
            "backgroundcolor": "#E5ECF6",
            "gridcolor": "white",
            "gridwidth": 2,
            "linecolor": "white",
            "showbackground": true,
            "ticks": "",
            "zerolinecolor": "white"
           },
           "yaxis": {
            "backgroundcolor": "#E5ECF6",
            "gridcolor": "white",
            "gridwidth": 2,
            "linecolor": "white",
            "showbackground": true,
            "ticks": "",
            "zerolinecolor": "white"
           },
           "zaxis": {
            "backgroundcolor": "#E5ECF6",
            "gridcolor": "white",
            "gridwidth": 2,
            "linecolor": "white",
            "showbackground": true,
            "ticks": "",
            "zerolinecolor": "white"
           }
          },
          "shapedefaults": {
           "line": {
            "color": "#2a3f5f"
           }
          },
          "ternary": {
           "aaxis": {
            "gridcolor": "white",
            "linecolor": "white",
            "ticks": ""
           },
           "baxis": {
            "gridcolor": "white",
            "linecolor": "white",
            "ticks": ""
           },
           "bgcolor": "#E5ECF6",
           "caxis": {
            "gridcolor": "white",
            "linecolor": "white",
            "ticks": ""
           }
          },
          "title": {
           "x": 0.05
          },
          "xaxis": {
           "automargin": true,
           "gridcolor": "white",
           "linecolor": "white",
           "ticks": "",
           "title": {
            "standoff": 15
           },
           "zerolinecolor": "white",
           "zerolinewidth": 2
          },
          "yaxis": {
           "automargin": true,
           "gridcolor": "white",
           "linecolor": "white",
           "ticks": "",
           "title": {
            "standoff": 15
           },
           "zerolinecolor": "white",
           "zerolinewidth": 2
          }
         }
        },
        "title": {
         "text": "IP Location of Observed Nodes"
        }
       }
      },
      "text/html": [
       "<div>                            <div id=\"d65327b0-cb05-4f4d-a2e5-bedf659d51ca\" class=\"plotly-graph-div\" style=\"height:525px; width:100%;\"></div>            <script type=\"text/javascript\">                require([\"plotly\"], function(Plotly) {                    window.PLOTLYENV=window.PLOTLYENV || {};                                    if (document.getElementById(\"d65327b0-cb05-4f4d-a2e5-bedf659d51ca\")) {                    Plotly.newPlot(                        \"d65327b0-cb05-4f4d-a2e5-bedf659d51ca\",                        [{\"geo\": \"geo\", \"hovertemplate\": \"info.country=UKR<br>info.lat=%{lat}<br>info.long=%{lon}<extra></extra>\", \"lat\": [\"50.4547\", \"48.4666\", \"47.8108\", \"50.4547\", \"48.4666\", \"48.4666\", \"49.8383\", \"46.4857\"], \"legendgroup\": \"UKR\", \"lon\": [\"30.5238\", \"35.0407\", \"34.7432\", \"30.5238\", \"35.0407\", \"35.0407\", \"24.0232\", \"30.7438\"], \"marker\": {\"color\": \"#636efa\", \"symbol\": \"circle\"}, \"mode\": \"markers\", \"name\": \"UKR\", \"showlegend\": true, \"type\": \"scattergeo\"}, {\"geo\": \"geo\", \"hovertemplate\": \"info.country=DEU<br>info.lat=%{lat}<br>info.long=%{lon}<extra></extra>\", \"lat\": [\"47.4921\", \"50.1155\", \"51.1658\", \"48.1374\", \"51.0509\", \"49.4542\", \"51.1658\", \"49.4542\", \"51.2090\", \"49.4542\", \"50.1155\", \"49.4542\", \"51.1658\", \"49.4542\", \"51.1658\", \"52.5244\", \"50.1155\", \"50.1155\", \"50.1155\", \"54.1504\", \"51.1658\", \"50.1155\", \"49.4891\", \"51.1734\", \"49.1166\", \"50.1155\", \"50.1155\", \"51.0509\", \"50.1155\", \"50.3830\", \"50.1155\", \"49.4542\", \"49.4542\", \"50.1155\", \"50.1155\", \"50.1155\", \"49.4542\", \"50.1155\", \"51.1658\", \"51.1658\", \"48.1374\", \"49.4542\", \"51.4817\", \"51.2217\", \"48.1374\", \"50.1155\", \"49.4542\", \"49.4542\", \"51.1658\", \"51.1658\", \"51.2217\", \"48.2869\", \"49.9144\", \"51.7577\", \"49.4542\", \"51.3396\", \"50.1155\", \"50.1155\", \"50.8185\", \"51.2090\", \"50.1155\", \"51.1658\", \"50.1155\", \"50.1155\", \"48.7823\", \"53.5507\", \"50.8185\", \"50.1155\", \"49.9144\", \"51.1658\", \"50.1155\", \"49.4542\", \"48.4763\", \"50.1155\", \"51.1658\", \"50.1155\", \"49.4542\", \"52.5244\", \"51.1658\", \"50.1155\", \"48.6941\", \"51.0509\", \"52.2566\", \"51.1658\", \"50.1155\", \"51.9624\", \"51.8365\", \"49.4542\", \"50.1155\", \"50.9566\", \"51.1658\", \"48.1374\", \"50.1155\", \"51.6420\", \"50.1155\", \"49.4542\", \"49.4542\", \"50.3830\"], \"legendgroup\": \"DEU\", \"lon\": [\"11.0958\", \"8.6842\", \"10.4216\", \"11.5755\", \"13.7383\", \"11.0775\", \"10.4216\", \"11.0775\", \"10.4527\", \"11.0775\", \"8.6842\", \"11.0775\", \"10.4216\", \"11.0775\", \"10.4216\", \"13.4105\", \"8.6842\", \"8.6842\", \"8.6842\", \"11.7599\", \"10.4216\", \"8.6842\", \"8.4669\", \"7.0845\", \"10.7597\", \"8.6842\", \"8.6842\", \"13.7383\", \"8.6842\", \"8.0611\", \"8.6842\", \"11.0775\", \"11.0775\", \"8.6842\", \"8.6842\", \"8.6842\", \"11.0775\", \"8.6842\", \"10.4216\", \"10.4216\", \"11.5755\", \"11.0775\", \"7.2165\", \"6.7762\", \"11.5755\", \"8.6842\", \"11.0775\", \"11.0775\", \"10.4216\", \"10.4216\", \"6.7762\", \"8.1096\", \"11.0103\", \"14.3289\", \"11.0775\", \"12.3713\", \"8.6842\", \"8.6842\", \"6.2718\", \"10.4527\", \"8.6842\", \"10.4216\", \"8.6842\", \"8.6842\", \"9.1770\", \"9.9930\", \"6.2718\", \"8.6842\", \"11.0103\", \"10.4216\", \"8.6842\", \"11.0775\", \"8.9353\", \"8.6842\", \"10.4216\", \"8.6842\", \"11.0775\", \"13.4105\", \"10.4216\", \"8.6842\", \"9.1681\", \"13.7383\", \"13.9334\", \"10.4216\", \"8.6842\", \"7.6257\", \"10.7822\", \"11.0775\", \"8.6842\", \"9.7828\", \"10.4216\", \"11.5755\", \"8.6842\", \"7.2645\", \"8.6842\", \"11.0775\", \"11.0775\", \"8.0611\"], \"marker\": {\"color\": \"#EF553B\", \"symbol\": \"circle\"}, \"mode\": \"markers\", \"name\": \"DEU\", \"showlegend\": true, \"type\": \"scattergeo\"}, {\"geo\": \"geo\", \"hovertemplate\": \"info.country=USA<br>info.lat=%{lat}<br>info.long=%{lon}<extra></extra>\", \"lat\": [\"41.2619\", \"25.8130\", \"32.8546\", \"34.0443\", \"41.2619\", \"37.3924\", \"45.8399\", \"37.3394\", \"37.3924\", \"41.2619\", \"37.3924\", \"41.2619\", \"32.8546\", \"41.2619\", \"40.8043\", \"39.0437\", \"32.8546\", \"37.3924\", \"39.0437\", \"38.6273\", \"32.8546\", \"41.2619\", \"41.2619\", \"37.3924\", \"37.3541\", \"41.2619\", \"37.3688\", \"41.2619\", \"38.7131\", \"37.3483\", \"38.6273\", \"45.5946\", \"37.3924\", \"37.3924\", \"38.6273\", \"32.8546\", \"40.0334\", \"38.6273\", \"41.2619\", \"42.3765\", \"37.3394\", \"41.2619\", \"40.0334\", \"41.2619\", \"45.8399\", \"37.3924\", \"38.7131\", \"40.8043\", \"37.3924\", \"33.4413\", \"37.3924\", \"40.8344\", \"41.2619\", \"30.3322\", \"45.5946\", \"32.7254\", \"37.3924\", \"37.3924\", \"37.3924\", \"40.7143\", \"41.8713\", \"34.0443\", \"38.6273\", \"37.3541\", \"45.5946\", \"34.0522\", \"38.6273\", \"37.3394\", \"38.6273\", \"42.3584\", \"41.2619\", \"37.3394\", \"37.3924\", \"39.0997\", \"35.7915\", \"41.2619\", \"39.0437\", \"32.7831\", \"38.7131\", \"45.5946\", \"37.3924\", \"37.3058\", \"42.1103\", \"34.0522\", \"37.3394\", \"37.7749\", \"41.9006\", \"39.0437\", \"37.3394\", \"37.3924\", \"35.7915\", \"39.0437\", \"41.2619\", \"40.7143\", \"38.6273\", \"41.2619\", \"41.2619\", \"45.8399\", \"47.8948\", \"42.1103\", \"42.3584\", \"34.0522\", \"41.2619\", \"39.0997\", \"37.7749\", \"45.8399\", \"39.0437\", \"37.3924\", \"41.2619\", \"39.0437\", \"39.1142\", \"45.8399\", \"33.4484\", \"47.6062\"], \"legendgroup\": \"USA\", \"lon\": [\"-95.8608\", \"-80.2320\", \"-79.9748\", \"-118.2509\", \"-95.8608\", \"-121.9623\", \"-119.7006\", \"-121.8950\", \"-121.9623\", \"-95.8608\", \"-121.9623\", \"-95.8608\", \"-79.9748\", \"-95.8608\", \"-74.0121\", \"-77.4875\", \"-79.9748\", \"-121.9623\", \"-77.4875\", \"-90.1979\", \"-79.9748\", \"-95.8608\", \"-95.8608\", \"-121.9623\", \"-121.9552\", \"-95.8608\", \"-122.0363\", \"-95.8608\", \"-90.4298\", \"-121.9844\", \"-90.1979\", \"-121.1787\", \"-121.9623\", \"-121.9623\", \"-90.1979\", \"-79.9748\", \"-83.1582\", \"-90.1979\", \"-95.8608\", \"-71.2356\", \"-121.8950\", \"-95.8608\", \"-83.1582\", \"-95.8608\", \"-119.7006\", \"-121.9623\", \"-90.4298\", \"-74.0121\", \"-121.9623\", \"-112.0421\", \"-121.9623\", \"-74.1377\", \"-95.8608\", \"-81.6556\", \"-121.1787\", \"-97.3208\", \"-121.9623\", \"-121.9623\", \"-121.9623\", \"-74.0060\", \"-87.6277\", \"-118.2509\", \"-90.1979\", \"-121.9552\", \"-121.1787\", \"-118.2437\", \"-90.1979\", \"-121.8950\", \"-90.1979\", \"-71.0598\", \"-95.8608\", \"-121.8950\", \"-121.9623\", \"-94.5786\", \"-78.7811\", \"-95.8608\", \"-77.4875\", \"-96.8067\", \"-90.4298\", \"-121.1787\", \"-121.9623\", \"-78.5462\", \"-88.0342\", \"-118.2437\", \"-121.8950\", \"-122.4194\", \"-87.8567\", \"-77.4875\", \"-121.8950\", \"-121.9623\", \"-78.7811\", \"-77.4875\", \"-95.8608\", \"-74.0060\", \"-90.1979\", \"-95.8608\", \"-95.8608\", \"-119.7006\", \"-122.1987\", \"-88.0342\", \"-71.0598\", \"-118.2437\", \"-95.8608\", \"-94.5786\", \"-122.4194\", \"-119.7006\", \"-77.4875\", \"-121.9623\", \"-95.8608\", \"-77.4875\", \"-94.6275\", \"-119.7006\", \"-112.0740\", \"-122.3321\"], \"marker\": {\"color\": \"#00cc96\", \"symbol\": \"circle\"}, \"mode\": \"markers\", \"name\": \"USA\", \"showlegend\": true, \"type\": \"scattergeo\"}, {\"geo\": \"geo\", \"hovertemplate\": \"info.country=CAN<br>info.lat=%{lat}<br>info.long=%{lon}<extra></extra>\", \"lat\": [\"45.5088\", \"49.2497\", \"45.5088\", \"45.2668\", \"43.2501\", \"45.5040\", \"49.2497\", \"46.8123\", \"45.5088\", \"43.7001\", \"43.7001\", \"43.8361\", \"49.2497\", \"45.5040\", \"45.5088\", \"43.7001\", \"45.5040\", \"43.4254\", \"43.2501\", \"45.5088\"], \"legendgroup\": \"CAN\", \"lon\": [\"-73.5878\", \"-123.1193\", \"-73.5878\", \"-73.6159\", \"-79.8496\", \"-73.5747\", \"-123.1193\", \"-71.2145\", \"-73.5878\", \"-79.4163\", \"-79.4163\", \"-79.4983\", \"-123.1193\", \"-73.5747\", \"-73.5878\", \"-79.4163\", \"-73.5747\", \"-80.5112\", \"-79.8496\", \"-73.5878\"], \"marker\": {\"color\": \"#ab63fa\", \"symbol\": \"circle\"}, \"mode\": \"markers\", \"name\": \"CAN\", \"showlegend\": true, \"type\": \"scattergeo\"}, {\"geo\": \"geo\", \"hovertemplate\": \"info.country=RUS<br>info.lat=%{lat}<br>info.long=%{lon}<extra></extra>\", \"lat\": [\"55.7522\", \"55.7522\", \"55.7522\", \"55.7522\", \"55.7522\", \"55.7522\", \"55.7522\", \"55.7522\", \"56.8519\", \"55.7522\", \"55.0415\", \"55.7522\", \"55.8970\", \"55.7522\", \"55.7522\", \"55.7522\", \"55.7522\", \"51.6720\", \"55.7522\", \"58.5966\", \"56.8519\", \"55.7522\", \"56.4977\", \"48.7194\"], \"legendgroup\": \"RUS\", \"lon\": [\"37.6156\", \"37.6156\", \"37.6156\", \"37.6156\", \"37.6156\", \"37.6156\", \"37.6156\", \"37.6156\", \"60.6122\", \"37.6156\", \"82.9346\", \"37.6156\", \"37.4297\", \"37.6156\", \"37.6156\", \"37.6156\", \"37.6156\", \"39.1843\", \"37.6156\", \"49.6601\", \"60.6122\", \"37.6156\", \"84.9744\", \"44.5018\"], \"marker\": {\"color\": \"#FFA15A\", \"symbol\": \"circle\"}, \"mode\": \"markers\", \"name\": \"RUS\", \"showlegend\": true, \"type\": \"scattergeo\"}, {\"geo\": \"geo\", \"hovertemplate\": \"info.country=NLD<br>info.lat=%{lat}<br>info.long=%{lon}<extra></extra>\", \"lat\": [\"52.4027\", \"51.9225\", \"52.3740\", \"51.6894\", \"51.6894\", \"52.4027\", \"52.3740\", \"51.8908\", \"52.0767\", \"52.0767\"], \"legendgroup\": \"NLD\", \"lon\": [\"4.7592\", \"4.4792\", \"4.8897\", \"5.3036\", \"5.3036\", \"4.7592\", \"4.8897\", \"6.0389\", \"4.2986\", \"4.2986\"], \"marker\": {\"color\": \"#19d3f3\", \"symbol\": \"circle\"}, \"mode\": \"markers\", \"name\": \"NLD\", \"showlegend\": true, \"type\": \"scattergeo\"}, {\"geo\": \"geo\", \"hovertemplate\": \"info.country=GBR<br>info.lat=%{lat}<br>info.long=%{lon}<extra></extra>\", \"lat\": [\"51.5085\", \"51.3915\", \"51.8657\", \"51.5085\", \"51.5085\", \"55.9521\", \"55.9521\"], \"legendgroup\": \"GBR\", \"lon\": [\"-0.1257\", \"-0.2983\", \"-2.2431\", \"-0.1257\", \"-0.1257\", \"-3.1965\", \"-3.1965\"], \"marker\": {\"color\": \"#FF6692\", \"symbol\": \"circle\"}, \"mode\": \"markers\", \"name\": \"GBR\", \"showlegend\": true, \"type\": \"scattergeo\"}, {\"geo\": \"geo\", \"hovertemplate\": \"info.country=FIN<br>info.lat=%{lat}<br>info.long=%{lon}<extra></extra>\", \"lat\": [\"60.3540\", \"60.3540\", \"60.3540\", \"60.3540\", \"60.3540\", \"60.3540\", \"60.3540\", \"60.3540\", \"60.3540\", \"60.3540\", \"60.3540\", \"60.3540\", \"60.3540\", \"60.3540\", \"60.3540\", \"60.3540\", \"60.3540\", \"60.3540\", \"60.3540\", \"60.3540\", \"60.3540\", \"60.3540\", \"60.3540\", \"60.3540\", \"60.3540\", \"60.3540\", \"60.3540\", \"60.3540\", \"60.3540\", \"60.3540\", \"60.3540\", \"60.3540\", \"60.3540\", \"60.3540\", \"60.3540\", \"60.3540\", \"60.3540\", \"60.3540\", \"60.3540\", \"60.3540\", \"60.3540\", \"60.3540\", \"60.3540\", \"60.3540\", \"60.3540\", \"60.3540\", \"60.3540\", \"60.3540\", \"60.3540\", \"60.3540\", \"60.3540\", \"60.3540\", \"60.3540\", \"60.3540\", \"60.3540\", \"60.3540\", \"61.0587\", \"60.3540\", \"60.3540\", \"60.3540\", \"60.3540\", \"60.3540\", \"60.3540\", \"60.3540\", \"60.3540\", \"60.3540\", \"60.3540\", \"60.3540\", \"60.3540\", \"60.3540\", \"60.3540\", \"60.3540\", \"60.3540\", \"60.3540\", \"60.3540\", \"60.3540\", \"60.3540\"], \"legendgroup\": \"FIN\", \"lon\": [\"24.9794\", \"24.9794\", \"24.9794\", \"24.9794\", \"24.9794\", \"24.9794\", \"24.9794\", \"24.9794\", \"24.9794\", \"24.9794\", \"24.9794\", \"24.9794\", \"24.9794\", \"24.9794\", \"24.9794\", \"24.9794\", \"24.9794\", \"24.9794\", \"24.9794\", \"24.9794\", \"24.9794\", \"24.9794\", \"24.9794\", \"24.9794\", \"24.9794\", \"24.9794\", \"24.9794\", \"24.9794\", \"24.9794\", \"24.9794\", \"24.9794\", \"24.9794\", \"24.9794\", \"24.9794\", \"24.9794\", \"24.9794\", \"24.9794\", \"24.9794\", \"24.9794\", \"24.9794\", \"24.9794\", \"24.9794\", \"24.9794\", \"24.9794\", \"24.9794\", \"24.9794\", \"24.9794\", \"24.9794\", \"24.9794\", \"24.9794\", \"24.9794\", \"24.9794\", \"24.9794\", \"24.9794\", \"24.9794\", \"24.9794\", \"28.1887\", \"24.9794\", \"24.9794\", \"24.9794\", \"24.9794\", \"24.9794\", \"24.9794\", \"24.9794\", \"24.9794\", \"24.9794\", \"24.9794\", \"24.9794\", \"24.9794\", \"24.9794\", \"24.9794\", \"24.9794\", \"24.9794\", \"24.9794\", \"24.9794\", \"24.9794\", \"24.9794\"], \"marker\": {\"color\": \"#B6E880\", \"symbol\": \"circle\"}, \"mode\": \"markers\", \"name\": \"FIN\", \"showlegend\": true, \"type\": \"scattergeo\"}, {\"geo\": \"geo\", \"hovertemplate\": \"info.country=FRA<br>info.lat=%{lat}<br>info.long=%{lon}<extra></extra>\", \"lat\": [\"45.5479\", \"48.8534\", \"50.6942\", \"50.9519\", \"50.6330\", \"48.8534\", \"48.8534\", \"44.8404\", \"50.6942\", \"48.8534\", \"48.8534\", \"48.8534\", \"45.5479\"], \"legendgroup\": \"FRA\", \"lon\": [\"5.2246\", \"2.3488\", \"3.1746\", \"1.8563\", \"3.0586\", \"2.3488\", \"2.3488\", \"-0.5805\", \"3.1746\", \"2.3488\", \"2.3488\", \"2.3488\", \"5.2246\"], \"marker\": {\"color\": \"#FF97FF\", \"symbol\": \"circle\"}, \"mode\": \"markers\", \"name\": \"FRA\", \"showlegend\": true, \"type\": \"scattergeo\"}, {\"geo\": \"geo\", \"hovertemplate\": \"info.country=CHN<br>info.lat=%{lat}<br>info.long=%{lon}<extra></extra>\", \"lat\": [\"31.2222\", \"30.2936\", \"39.9075\", \"31.2222\", \"30.6667\", \"39.9075\", \"30.2936\", \"23.1167\", \"24.4798\", \"39.9075\", \"39.9075\", \"39.9075\", \"30.2936\", \"39.9075\", \"24.4798\", \"39.9075\"], \"legendgroup\": \"CHN\", \"lon\": [\"121.4581\", \"120.1614\", \"116.3972\", \"121.4581\", \"104.0667\", \"116.3972\", \"120.1614\", \"113.2500\", \"118.0819\", \"116.3972\", \"116.3972\", \"116.3972\", \"120.1614\", \"116.3972\", \"118.0819\", \"116.3972\"], \"marker\": {\"color\": \"#FECB52\", \"symbol\": \"circle\"}, \"mode\": \"markers\", \"name\": \"CHN\", \"showlegend\": true, \"type\": \"scattergeo\"}, {\"geo\": \"geo\", \"hovertemplate\": \"info.country=JPN<br>info.lat=%{lat}<br>info.long=%{lon}<extra></extra>\", \"lat\": [\"35.6895\", \"35.6895\", \"35.6895\", \"35.6895\", \"35.6895\", \"35.6895\", \"35.6895\"], \"legendgroup\": \"JPN\", \"lon\": [\"139.6917\", \"139.6917\", \"139.6917\", \"139.6917\", \"139.6917\", \"139.6917\", \"139.6917\"], \"marker\": {\"color\": \"#636efa\", \"symbol\": \"circle\"}, \"mode\": \"markers\", \"name\": \"JPN\", \"showlegend\": true, \"type\": \"scattergeo\"}, {\"geo\": \"geo\", \"hovertemplate\": \"info.country=LTU<br>info.lat=%{lat}<br>info.long=%{lon}<extra></extra>\", \"lat\": [\"55.9333\", \"54.9027\", \"54.6892\"], \"legendgroup\": \"LTU\", \"lon\": [\"23.3167\", \"23.9096\", \"25.2798\"], \"marker\": {\"color\": \"#EF553B\", \"symbol\": \"circle\"}, \"mode\": \"markers\", \"name\": \"LTU\", \"showlegend\": true, \"type\": \"scattergeo\"}, {\"geo\": \"geo\", \"hovertemplate\": \"info.country=BEL<br>info.lat=%{lat}<br>info.long=%{lon}<extra></extra>\", \"lat\": [\"50.8505\"], \"legendgroup\": \"BEL\", \"lon\": [\"4.3488\"], \"marker\": {\"color\": \"#00cc96\", \"symbol\": \"circle\"}, \"mode\": \"markers\", \"name\": \"BEL\", \"showlegend\": true, \"type\": \"scattergeo\"}, {\"geo\": \"geo\", \"hovertemplate\": \"info.country=PHL<br>info.lat=%{lat}<br>info.long=%{lon}<extra></extra>\", \"lat\": [\"10.3167\"], \"legendgroup\": \"PHL\", \"lon\": [\"123.8907\"], \"marker\": {\"color\": \"#ab63fa\", \"symbol\": \"circle\"}, \"mode\": \"markers\", \"name\": \"PHL\", \"showlegend\": true, \"type\": \"scattergeo\"}, {\"geo\": \"geo\", \"hovertemplate\": \"info.country=HKG<br>info.lat=%{lat}<br>info.long=%{lon}<extra></extra>\", \"lat\": [\"22.2783\", \"22.3167\", \"22.3167\", \"22.2783\"], \"legendgroup\": \"HKG\", \"lon\": [\"114.1747\", \"114.1833\", \"114.1833\", \"114.1747\"], \"marker\": {\"color\": \"#FFA15A\", \"symbol\": \"circle\"}, \"mode\": \"markers\", \"name\": \"HKG\", \"showlegend\": true, \"type\": \"scattergeo\"}, {\"geo\": \"geo\", \"hovertemplate\": \"info.country=AUT<br>info.lat=%{lat}<br>info.long=%{lon}<extra></extra>\", \"lat\": [\"48.2085\", \"48.2085\"], \"legendgroup\": \"AUT\", \"lon\": [\"16.3721\", \"16.3721\"], \"marker\": {\"color\": \"#19d3f3\", \"symbol\": \"circle\"}, \"mode\": \"markers\", \"name\": \"AUT\", \"showlegend\": true, \"type\": \"scattergeo\"}, {\"geo\": \"geo\", \"hovertemplate\": \"info.country=ESP<br>info.lat=%{lat}<br>info.long=%{lon}<extra></extra>\", \"lat\": [\"28.4682\", \"43.2627\", \"40.5475\", \"41.3888\", \"41.3888\", \"36.5939\"], \"legendgroup\": \"ESP\", \"lon\": [\"-16.2546\", \"-2.9253\", \"-3.6420\", \"2.1590\", \"2.1590\", \"-6.2330\"], \"marker\": {\"color\": \"#FF6692\", \"symbol\": \"circle\"}, \"mode\": \"markers\", \"name\": \"ESP\", \"showlegend\": true, \"type\": \"scattergeo\"}, {\"geo\": \"geo\", \"hovertemplate\": \"info.country=SGP<br>info.lat=%{lat}<br>info.long=%{lon}<extra></extra>\", \"lat\": [\"1.2897\", \"1.2897\", \"1.2897\", \"1.2897\", \"1.2897\"], \"legendgroup\": \"SGP\", \"lon\": [\"103.8501\", \"103.8501\", \"103.8501\", \"103.8501\", \"103.8501\"], \"marker\": {\"color\": \"#B6E880\", \"symbol\": \"circle\"}, \"mode\": \"markers\", \"name\": \"SGP\", \"showlegend\": true, \"type\": \"scattergeo\"}, {\"geo\": \"geo\", \"hovertemplate\": \"info.country=GEO<br>info.lat=%{lat}<br>info.long=%{lon}<extra></extra>\", \"lat\": [\"41.6941\", \"41.6941\"], \"legendgroup\": \"GEO\", \"lon\": [\"44.8337\", \"44.8337\"], \"marker\": {\"color\": \"#FF97FF\", \"symbol\": \"circle\"}, \"mode\": \"markers\", \"name\": \"GEO\", \"showlegend\": true, \"type\": \"scattergeo\"}, {\"geo\": \"geo\", \"hovertemplate\": \"info.country=VNM<br>info.lat=%{lat}<br>info.long=%{lon}<extra></extra>\", \"lat\": [\"21.0245\", \"21.0245\"], \"legendgroup\": \"VNM\", \"lon\": [\"105.8412\", \"105.8412\"], \"marker\": {\"color\": \"#FECB52\", \"symbol\": \"circle\"}, \"mode\": \"markers\", \"name\": \"VNM\", \"showlegend\": true, \"type\": \"scattergeo\"}, {\"geo\": \"geo\", \"hovertemplate\": \"info.country=IND<br>info.lat=%{lat}<br>info.long=%{lon}<extra></extra>\", \"lat\": [\"13.0878\", \"28.5800\"], \"legendgroup\": \"IND\", \"lon\": [\"80.2785\", \"77.3300\"], \"marker\": {\"color\": \"#636efa\", \"symbol\": \"circle\"}, \"mode\": \"markers\", \"name\": \"IND\", \"showlegend\": true, \"type\": \"scattergeo\"}, {\"geo\": \"geo\", \"hovertemplate\": \"info.country=IRL<br>info.lat=%{lat}<br>info.long=%{lon}<extra></extra>\", \"lat\": [\"53.3331\"], \"legendgroup\": \"IRL\", \"lon\": [\"-6.2489\"], \"marker\": {\"color\": \"#EF553B\", \"symbol\": \"circle\"}, \"mode\": \"markers\", \"name\": \"IRL\", \"showlegend\": true, \"type\": \"scattergeo\"}, {\"geo\": \"geo\", \"hovertemplate\": \"info.country=not found<br>info.lat=%{lat}<br>info.long=%{lon}<extra></extra>\", \"lat\": [null, null, null], \"legendgroup\": \"not found\", \"lon\": [null, null, null], \"marker\": {\"color\": \"#00cc96\", \"symbol\": \"circle\"}, \"mode\": \"markers\", \"name\": \"not found\", \"showlegend\": true, \"type\": \"scattergeo\"}, {\"geo\": \"geo\", \"hovertemplate\": \"info.country=THA<br>info.lat=%{lat}<br>info.long=%{lon}<extra></extra>\", \"lat\": [\"13.9178\"], \"legendgroup\": \"THA\", \"lon\": [\"100.4240\"], \"marker\": {\"color\": \"#ab63fa\", \"symbol\": \"circle\"}, \"mode\": \"markers\", \"name\": \"THA\", \"showlegend\": true, \"type\": \"scattergeo\"}, {\"geo\": \"geo\", \"hovertemplate\": \"info.country=TUR<br>info.lat=%{lat}<br>info.long=%{lon}<extra></extra>\", \"lat\": [\"41.0138\", \"41.0138\"], \"legendgroup\": \"TUR\", \"lon\": [\"28.9497\", \"28.9497\"], \"marker\": {\"color\": \"#FFA15A\", \"symbol\": \"circle\"}, \"mode\": \"markers\", \"name\": \"TUR\", \"showlegend\": true, \"type\": \"scattergeo\"}, {\"geo\": \"geo\", \"hovertemplate\": \"info.country=ITA<br>info.lat=%{lat}<br>info.long=%{lon}<extra></extra>\", \"lat\": [\"41.8919\"], \"legendgroup\": \"ITA\", \"lon\": [\"12.5113\"], \"marker\": {\"color\": \"#19d3f3\", \"symbol\": \"circle\"}, \"mode\": \"markers\", \"name\": \"ITA\", \"showlegend\": true, \"type\": \"scattergeo\"}, {\"geo\": \"geo\", \"hovertemplate\": \"info.country=KOR<br>info.lat=%{lat}<br>info.long=%{lon}<extra></extra>\", \"lat\": [\"37.5660\"], \"legendgroup\": \"KOR\", \"lon\": [\"126.9784\"], \"marker\": {\"color\": \"#FF6692\", \"symbol\": \"circle\"}, \"mode\": \"markers\", \"name\": \"KOR\", \"showlegend\": true, \"type\": \"scattergeo\"}, {\"geo\": \"geo\", \"hovertemplate\": \"info.country=ROU<br>info.lat=%{lat}<br>info.long=%{lon}<extra></extra>\", \"lat\": [\"44.4323\"], \"legendgroup\": \"ROU\", \"lon\": [\"26.1063\"], \"marker\": {\"color\": \"#B6E880\", \"symbol\": \"circle\"}, \"mode\": \"markers\", \"name\": \"ROU\", \"showlegend\": true, \"type\": \"scattergeo\"}, {\"geo\": \"geo\", \"hovertemplate\": \"info.country=LVA<br>info.lat=%{lat}<br>info.long=%{lon}<extra></extra>\", \"lat\": [\"56.9460\"], \"legendgroup\": \"LVA\", \"lon\": [\"24.1059\"], \"marker\": {\"color\": \"#FF97FF\", \"symbol\": \"circle\"}, \"mode\": \"markers\", \"name\": \"LVA\", \"showlegend\": true, \"type\": \"scattergeo\"}],                        {\"geo\": {\"center\": {}, \"domain\": {\"x\": [0.0, 1.0], \"y\": [0.0, 1.0]}, \"projection\": {\"type\": \"natural earth\"}}, \"legend\": {\"title\": {\"text\": \"info.country\"}, \"tracegroupgap\": 0}, \"template\": {\"data\": {\"bar\": [{\"error_x\": {\"color\": \"#2a3f5f\"}, \"error_y\": {\"color\": \"#2a3f5f\"}, \"marker\": {\"line\": {\"color\": \"#E5ECF6\", \"width\": 0.5}}, \"type\": \"bar\"}], \"barpolar\": [{\"marker\": {\"line\": {\"color\": \"#E5ECF6\", \"width\": 0.5}}, \"type\": \"barpolar\"}], \"carpet\": [{\"aaxis\": {\"endlinecolor\": \"#2a3f5f\", \"gridcolor\": \"white\", \"linecolor\": \"white\", \"minorgridcolor\": \"white\", \"startlinecolor\": \"#2a3f5f\"}, \"baxis\": {\"endlinecolor\": \"#2a3f5f\", \"gridcolor\": \"white\", \"linecolor\": \"white\", \"minorgridcolor\": \"white\", \"startlinecolor\": \"#2a3f5f\"}, \"type\": \"carpet\"}], \"choropleth\": [{\"colorbar\": {\"outlinewidth\": 0, \"ticks\": \"\"}, \"type\": \"choropleth\"}], \"contour\": [{\"colorbar\": {\"outlinewidth\": 0, \"ticks\": \"\"}, \"colorscale\": [[0.0, \"#0d0887\"], [0.1111111111111111, \"#46039f\"], [0.2222222222222222, \"#7201a8\"], [0.3333333333333333, \"#9c179e\"], [0.4444444444444444, \"#bd3786\"], [0.5555555555555556, \"#d8576b\"], [0.6666666666666666, \"#ed7953\"], [0.7777777777777778, \"#fb9f3a\"], [0.8888888888888888, \"#fdca26\"], [1.0, \"#f0f921\"]], \"type\": \"contour\"}], \"contourcarpet\": [{\"colorbar\": {\"outlinewidth\": 0, \"ticks\": \"\"}, \"type\": \"contourcarpet\"}], \"heatmap\": [{\"colorbar\": {\"outlinewidth\": 0, \"ticks\": \"\"}, \"colorscale\": [[0.0, \"#0d0887\"], [0.1111111111111111, \"#46039f\"], [0.2222222222222222, \"#7201a8\"], [0.3333333333333333, \"#9c179e\"], [0.4444444444444444, \"#bd3786\"], [0.5555555555555556, \"#d8576b\"], [0.6666666666666666, \"#ed7953\"], [0.7777777777777778, \"#fb9f3a\"], [0.8888888888888888, \"#fdca26\"], [1.0, \"#f0f921\"]], \"type\": \"heatmap\"}], \"heatmapgl\": [{\"colorbar\": {\"outlinewidth\": 0, \"ticks\": \"\"}, \"colorscale\": [[0.0, \"#0d0887\"], [0.1111111111111111, \"#46039f\"], [0.2222222222222222, \"#7201a8\"], [0.3333333333333333, \"#9c179e\"], [0.4444444444444444, \"#bd3786\"], [0.5555555555555556, \"#d8576b\"], [0.6666666666666666, \"#ed7953\"], [0.7777777777777778, \"#fb9f3a\"], [0.8888888888888888, \"#fdca26\"], [1.0, \"#f0f921\"]], \"type\": \"heatmapgl\"}], \"histogram\": [{\"marker\": {\"colorbar\": {\"outlinewidth\": 0, \"ticks\": \"\"}}, \"type\": \"histogram\"}], \"histogram2d\": [{\"colorbar\": {\"outlinewidth\": 0, \"ticks\": \"\"}, \"colorscale\": [[0.0, \"#0d0887\"], [0.1111111111111111, \"#46039f\"], [0.2222222222222222, \"#7201a8\"], [0.3333333333333333, \"#9c179e\"], [0.4444444444444444, \"#bd3786\"], [0.5555555555555556, \"#d8576b\"], [0.6666666666666666, \"#ed7953\"], [0.7777777777777778, \"#fb9f3a\"], [0.8888888888888888, \"#fdca26\"], [1.0, \"#f0f921\"]], \"type\": \"histogram2d\"}], \"histogram2dcontour\": [{\"colorbar\": {\"outlinewidth\": 0, \"ticks\": \"\"}, \"colorscale\": [[0.0, \"#0d0887\"], [0.1111111111111111, \"#46039f\"], [0.2222222222222222, \"#7201a8\"], [0.3333333333333333, \"#9c179e\"], [0.4444444444444444, \"#bd3786\"], [0.5555555555555556, \"#d8576b\"], [0.6666666666666666, \"#ed7953\"], [0.7777777777777778, \"#fb9f3a\"], [0.8888888888888888, \"#fdca26\"], [1.0, \"#f0f921\"]], \"type\": \"histogram2dcontour\"}], \"mesh3d\": [{\"colorbar\": {\"outlinewidth\": 0, \"ticks\": \"\"}, \"type\": \"mesh3d\"}], \"parcoords\": [{\"line\": {\"colorbar\": {\"outlinewidth\": 0, \"ticks\": \"\"}}, \"type\": \"parcoords\"}], \"pie\": [{\"automargin\": true, \"type\": \"pie\"}], \"scatter\": [{\"marker\": {\"colorbar\": {\"outlinewidth\": 0, \"ticks\": \"\"}}, \"type\": \"scatter\"}], \"scatter3d\": [{\"line\": {\"colorbar\": {\"outlinewidth\": 0, \"ticks\": \"\"}}, \"marker\": {\"colorbar\": {\"outlinewidth\": 0, \"ticks\": \"\"}}, \"type\": \"scatter3d\"}], \"scattercarpet\": [{\"marker\": {\"colorbar\": {\"outlinewidth\": 0, \"ticks\": \"\"}}, \"type\": \"scattercarpet\"}], \"scattergeo\": [{\"marker\": {\"colorbar\": {\"outlinewidth\": 0, \"ticks\": \"\"}}, \"type\": \"scattergeo\"}], \"scattergl\": [{\"marker\": {\"colorbar\": {\"outlinewidth\": 0, \"ticks\": \"\"}}, \"type\": \"scattergl\"}], \"scattermapbox\": [{\"marker\": {\"colorbar\": {\"outlinewidth\": 0, \"ticks\": \"\"}}, \"type\": \"scattermapbox\"}], \"scatterpolar\": [{\"marker\": {\"colorbar\": {\"outlinewidth\": 0, \"ticks\": \"\"}}, \"type\": \"scatterpolar\"}], \"scatterpolargl\": [{\"marker\": {\"colorbar\": {\"outlinewidth\": 0, \"ticks\": \"\"}}, \"type\": \"scatterpolargl\"}], \"scatterternary\": [{\"marker\": {\"colorbar\": {\"outlinewidth\": 0, \"ticks\": \"\"}}, \"type\": \"scatterternary\"}], \"surface\": [{\"colorbar\": {\"outlinewidth\": 0, \"ticks\": \"\"}, \"colorscale\": [[0.0, \"#0d0887\"], [0.1111111111111111, \"#46039f\"], [0.2222222222222222, \"#7201a8\"], [0.3333333333333333, \"#9c179e\"], [0.4444444444444444, \"#bd3786\"], [0.5555555555555556, \"#d8576b\"], [0.6666666666666666, \"#ed7953\"], [0.7777777777777778, \"#fb9f3a\"], [0.8888888888888888, \"#fdca26\"], [1.0, \"#f0f921\"]], \"type\": \"surface\"}], \"table\": [{\"cells\": {\"fill\": {\"color\": \"#EBF0F8\"}, \"line\": {\"color\": \"white\"}}, \"header\": {\"fill\": {\"color\": \"#C8D4E3\"}, \"line\": {\"color\": \"white\"}}, \"type\": \"table\"}]}, \"layout\": {\"annotationdefaults\": {\"arrowcolor\": \"#2a3f5f\", \"arrowhead\": 0, \"arrowwidth\": 1}, \"autotypenumbers\": \"strict\", \"coloraxis\": {\"colorbar\": {\"outlinewidth\": 0, \"ticks\": \"\"}}, \"colorscale\": {\"diverging\": [[0, \"#8e0152\"], [0.1, \"#c51b7d\"], [0.2, \"#de77ae\"], [0.3, \"#f1b6da\"], [0.4, \"#fde0ef\"], [0.5, \"#f7f7f7\"], [0.6, \"#e6f5d0\"], [0.7, \"#b8e186\"], [0.8, \"#7fbc41\"], [0.9, \"#4d9221\"], [1, \"#276419\"]], \"sequential\": [[0.0, \"#0d0887\"], [0.1111111111111111, \"#46039f\"], [0.2222222222222222, \"#7201a8\"], [0.3333333333333333, \"#9c179e\"], [0.4444444444444444, \"#bd3786\"], [0.5555555555555556, \"#d8576b\"], [0.6666666666666666, \"#ed7953\"], [0.7777777777777778, \"#fb9f3a\"], [0.8888888888888888, \"#fdca26\"], [1.0, \"#f0f921\"]], \"sequentialminus\": [[0.0, \"#0d0887\"], [0.1111111111111111, \"#46039f\"], [0.2222222222222222, \"#7201a8\"], [0.3333333333333333, \"#9c179e\"], [0.4444444444444444, \"#bd3786\"], [0.5555555555555556, \"#d8576b\"], [0.6666666666666666, \"#ed7953\"], [0.7777777777777778, \"#fb9f3a\"], [0.8888888888888888, \"#fdca26\"], [1.0, \"#f0f921\"]]}, \"colorway\": [\"#636efa\", \"#EF553B\", \"#00cc96\", \"#ab63fa\", \"#FFA15A\", \"#19d3f3\", \"#FF6692\", \"#B6E880\", \"#FF97FF\", \"#FECB52\"], \"font\": {\"color\": \"#2a3f5f\"}, \"geo\": {\"bgcolor\": \"white\", \"lakecolor\": \"white\", \"landcolor\": \"#E5ECF6\", \"showlakes\": true, \"showland\": true, \"subunitcolor\": \"white\"}, \"hoverlabel\": {\"align\": \"left\"}, \"hovermode\": \"closest\", \"mapbox\": {\"style\": \"light\"}, \"paper_bgcolor\": \"white\", \"plot_bgcolor\": \"#E5ECF6\", \"polar\": {\"angularaxis\": {\"gridcolor\": \"white\", \"linecolor\": \"white\", \"ticks\": \"\"}, \"bgcolor\": \"#E5ECF6\", \"radialaxis\": {\"gridcolor\": \"white\", \"linecolor\": \"white\", \"ticks\": \"\"}}, \"scene\": {\"xaxis\": {\"backgroundcolor\": \"#E5ECF6\", \"gridcolor\": \"white\", \"gridwidth\": 2, \"linecolor\": \"white\", \"showbackground\": true, \"ticks\": \"\", \"zerolinecolor\": \"white\"}, \"yaxis\": {\"backgroundcolor\": \"#E5ECF6\", \"gridcolor\": \"white\", \"gridwidth\": 2, \"linecolor\": \"white\", \"showbackground\": true, \"ticks\": \"\", \"zerolinecolor\": \"white\"}, \"zaxis\": {\"backgroundcolor\": \"#E5ECF6\", \"gridcolor\": \"white\", \"gridwidth\": 2, \"linecolor\": \"white\", \"showbackground\": true, \"ticks\": \"\", \"zerolinecolor\": \"white\"}}, \"shapedefaults\": {\"line\": {\"color\": \"#2a3f5f\"}}, \"ternary\": {\"aaxis\": {\"gridcolor\": \"white\", \"linecolor\": \"white\", \"ticks\": \"\"}, \"baxis\": {\"gridcolor\": \"white\", \"linecolor\": \"white\", \"ticks\": \"\"}, \"bgcolor\": \"#E5ECF6\", \"caxis\": {\"gridcolor\": \"white\", \"linecolor\": \"white\", \"ticks\": \"\"}}, \"title\": {\"x\": 0.05}, \"xaxis\": {\"automargin\": true, \"gridcolor\": \"white\", \"linecolor\": \"white\", \"ticks\": \"\", \"title\": {\"standoff\": 15}, \"zerolinecolor\": \"white\", \"zerolinewidth\": 2}, \"yaxis\": {\"automargin\": true, \"gridcolor\": \"white\", \"linecolor\": \"white\", \"ticks\": \"\", \"title\": {\"standoff\": 15}, \"zerolinecolor\": \"white\", \"zerolinewidth\": 2}}}, \"title\": {\"text\": \"IP Location of Observed Nodes\"}},                        {\"responsive\": true}                    ).then(function(){\n",
       "                            \n",
       "var gd = document.getElementById('d65327b0-cb05-4f4d-a2e5-bedf659d51ca');\n",
       "var x = new MutationObserver(function (mutations, observer) {{\n",
       "        var display = window.getComputedStyle(gd).display;\n",
       "        if (!display || display === 'none') {{\n",
       "            console.log([gd, 'removed!']);\n",
       "            Plotly.purge(gd);\n",
       "            observer.disconnect();\n",
       "        }}\n",
       "}});\n",
       "\n",
       "// Listen for the removal of the full notebook cells\n",
       "var notebookContainer = gd.closest('#notebook-container');\n",
       "if (notebookContainer) {{\n",
       "    x.observe(notebookContainer, {childList: true});\n",
       "}}\n",
       "\n",
       "// Listen for the clearing of the current output cell\n",
       "var outputEl = gd.closest('.output');\n",
       "if (outputEl) {{\n",
       "    x.observe(outputEl, {childList: true});\n",
       "}}\n",
       "\n",
       "                        })                };                });            </script>        </div>"
      ]
     },
     "metadata": {},
     "output_type": "display_data"
    }
   ],
   "source": [
    "import plotly.express as px\n",
    "fig = px.scatter_geo(\n",
    "    intermediate_df, \n",
    "    lat=\"info.lat\",    \n",
    "    lon=\"info.long\",                \n",
    "    projection=\"natural earth\",\n",
    "    color=\"info.country\",\n",
    "    title=\"IP Location of Observed Nodes\")\n",
    "fig.show()"
   ]
  },
  {
   "cell_type": "markdown",
   "id": "regulation-bikini",
   "metadata": {},
   "source": [
    "### Example Output:\n",
    "<img src=\"images/node-ip-location.png\">"
   ]
  },
  {
   "cell_type": "code",
   "execution_count": null,
   "id": "relative-treatment",
   "metadata": {},
   "outputs": [],
   "source": []
  }
 ],
 "metadata": {
  "kernelspec": {
   "display_name": "Python 3",
   "language": "python",
   "name": "python3"
  },
  "language_info": {
   "codemirror_mode": {
    "name": "ipython",
    "version": 3
   },
   "file_extension": ".py",
   "mimetype": "text/x-python",
   "name": "python",
   "nbconvert_exporter": "python",
   "pygments_lexer": "ipython3",
   "version": "3.9.1"
  }
 },
 "nbformat": 4,
 "nbformat_minor": 5
}
