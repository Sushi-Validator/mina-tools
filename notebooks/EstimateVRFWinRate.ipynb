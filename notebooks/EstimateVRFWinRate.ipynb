{
 "cells": [
  {
   "cell_type": "markdown",
   "id": "coated-block",
   "metadata": {},
   "source": [
    "## Estimate your Mina VRF Win Chance\n",
    "Notebook Authored by [Conner Swann](https://connerswann.me) @ [Sushi Validator](https://www.sushivalidator.com)\n",
    "\n",
    "\n",
    "<img src=\"https://github.com/Sushi-Validator/helm-charts/blob/main/sushi_icon.png?raw=true\" alt=\"Sushi Validator\" width=\"200\"/>\n",
    "\n",
    "Source of Algorithm: https://deploy-preview-162--minaprotocol.netlify.app/docs/staking-service-guidelines"
   ]
  },
  {
   "cell_type": "code",
   "execution_count": 1,
   "id": "social-amplifier",
   "metadata": {},
   "outputs": [
    {
     "name": "stdout",
     "output_type": "stream",
     "text": [
      "Total Currency: 800,000,000\n",
      "Total Currency: 1,000,000\n",
      "-----------------------------\n",
      "Chance of winning a given slot: 0.173136740%\n",
      "Estimated number of slots per Epoch: 12.361963255\n",
      "Estimated coinbase rewards (Mina) per Epoch: 8900.613543324567\n"
     ]
    }
   ],
   "source": [
    "TOTAL_CURRENCY = 8 * 10**8\n",
    "STAKE = 10**6\n",
    "SLOTS_PER_EPOCH = 7140\n",
    "COINBASE = 720\n",
    "\n",
    "# alpha -> estimated slot win chance\n",
    "alpha = STAKE / TOTAL_CURRENCY\n",
    "# phi(alpha) = 1-(1/4) ^ alpha\n",
    "phi_of_alpha = 1-(1/4) ** alpha\n",
    "\n",
    "estimated_slots_per_epoch = phi_of_alpha * SLOTS_PER_EPOCH\n",
    "# This doesn't take into account supercharged rewards\n",
    "estimated_revenue_per_epoch = estimated_slots_per_epoch * COINBASE \n",
    "\n",
    "print(f\"Total Currency: {TOTAL_CURRENCY:,}\")\n",
    "print(f\"Total Currency: {STAKE:,}\")\n",
    "print(\"-----------------------------\")\n",
    "print(f\"Chance of winning a given slot: {phi_of_alpha*100:.9f}%\")\n",
    "print(f\"Estimated number of slots per Epoch: {estimated_slots_per_epoch:.9f}\")\n",
    "print(f\"Estimated coinbase rewards (Mina) per Epoch: {estimated_revenue_per_epoch}\")"
   ]
  },
  {
   "cell_type": "code",
   "execution_count": 4,
   "id": "engaging-atlas",
   "metadata": {},
   "outputs": [
    {
     "name": "stdout",
     "output_type": "stream",
     "text": [
      "Total Currency: 1,000,000,000\n",
      "Your Stake: 66,000\n",
      "-----------------------------\n",
      "Chance of winning a given slot: 0.009149124%\n",
      "Estimated number of slots per Epoch: 0.653247470\n",
      "Estimated coinbase rewards (Mina) per Epoch: 470.33817818418237\n",
      "-----------------------------\n",
      "Estimated number of slots per Year: 16.029265643\n",
      "Estimated coinbase rewards (Mina) per Year: 11541.071263006828\n",
      "----------\n",
      "Estimated Staking Pool cut per Epoch: 23.516908909\n",
      "Estimated Staking Pool cut per Year: 577.053563150\n"
     ]
    }
   ],
   "source": [
    "TOTAL_CURRENCY = 1 * 10**9\n",
    "STAKE = 66000\n",
    "SLOTS_PER_EPOCH = 7140\n",
    "SLOTS_PER_YEAR = 365 * 24 * 60 / 3\n",
    "COINBASE = 720\n",
    "STAKING_POOL_FEE = 0.05\n",
    "\n",
    "# alpha -> estimated slot win chance\n",
    "alpha = STAKE / TOTAL_CURRENCY\n",
    "# phi(alpha) = 1-(1/4) ^ alpha\n",
    "phi_of_alpha = 1-(1/4) ** alpha\n",
    "\n",
    "estimated_slots_per_epoch = phi_of_alpha * SLOTS_PER_EPOCH\n",
    "estimated_slots_per_year = phi_of_alpha * SLOTS_PER_YEAR\n",
    "\n",
    "# This doesn't take into account supercharged rewards\n",
    "estimated_rewards_per_epoch = estimated_slots_per_epoch * COINBASE \n",
    "estimated_rewards_per_year = estimated_slots_per_year * COINBASE \n",
    "estimated_staking_pool_revenue_per_epoch = estimated_rewards_per_epoch * STAKING_POOL_FEE\n",
    "estimated_staking_pool_revenue_per_year = estimated_rewards_per_year * STAKING_POOL_FEE\n",
    "\n",
    "\n",
    "print(f\"Total Currency: {TOTAL_CURRENCY:,}\")\n",
    "print(f\"Your Stake: {STAKE:,}\")\n",
    "print(\"-----------------------------\")\n",
    "\n",
    "# Block Producer Estimates\n",
    "print(f\"Chance of winning a given slot: {phi_of_alpha*100:.9f}%\")\n",
    "print(f\"Estimated number of slots per Epoch: {estimated_slots_per_epoch:.9f}\")\n",
    "print(f\"Estimated coinbase rewards (Mina) per Epoch: {estimated_rewards_per_epoch}\")\n",
    "print(\"-----------------------------\")\n",
    "print(f\"Estimated number of slots per Year: {estimated_slots_per_year:.9f}\")\n",
    "print(f\"Estimated coinbase rewards (Mina) per Year: {estimated_rewards_per_year}\")\n",
    "\n",
    "# Staking Pool Estimates\n",
    "print(\"----------\")\n",
    "print(f\"Estimated Staking Pool cut per Epoch: {estimated_staking_pool_revenue_per_epoch:.9f}\")\n",
    "print(f\"Estimated Staking Pool cut per Year: {estimated_staking_pool_revenue_per_year:.9f}\")\n"
   ]
  },
  {
   "cell_type": "code",
   "execution_count": null,
   "id": "lined-compiler",
   "metadata": {},
   "outputs": [],
   "source": []
  }
 ],
 "metadata": {
  "kernelspec": {
   "display_name": "Python 3",
   "language": "python",
   "name": "python3"
  },
  "language_info": {
   "codemirror_mode": {
    "name": "ipython",
    "version": 3
   },
   "file_extension": ".py",
   "mimetype": "text/x-python",
   "name": "python",
   "nbconvert_exporter": "python",
   "pygments_lexer": "ipython3",
   "version": "3.9.1"
  }
 },
 "nbformat": 4,
 "nbformat_minor": 5
}
